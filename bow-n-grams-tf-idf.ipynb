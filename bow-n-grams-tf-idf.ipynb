{
 "cells": [
  {
   "cell_type": "code",
   "execution_count": 1,
   "id": "a0570f11",
   "metadata": {
    "_cell_guid": "b1076dfc-b9ad-4769-8c92-a6c4dae69d19",
    "_uuid": "8f2839f25d086af736a60e9eeb907d3b93b6e0e5",
    "execution": {
     "iopub.execute_input": "2023-03-14T19:30:57.684108Z",
     "iopub.status.busy": "2023-03-14T19:30:57.682545Z",
     "iopub.status.idle": "2023-03-14T19:30:57.694297Z",
     "shell.execute_reply": "2023-03-14T19:30:57.692937Z"
    },
    "papermill": {
     "duration": 0.049974,
     "end_time": "2023-03-14T19:30:57.697713",
     "exception": false,
     "start_time": "2023-03-14T19:30:57.647739",
     "status": "completed"
    },
    "tags": []
   },
   "outputs": [],
   "source": [
    "import numpy as np # linear algebra\n",
    "import pandas as pd # data processing, CSV file I/O (e.g. pd.read_csv)"
   ]
  },
  {
   "cell_type": "code",
   "execution_count": 2,
   "id": "c851390b",
   "metadata": {
    "execution": {
     "iopub.execute_input": "2023-03-14T19:30:57.761279Z",
     "iopub.status.busy": "2023-03-14T19:30:57.759484Z",
     "iopub.status.idle": "2023-03-14T19:30:57.802720Z",
     "shell.execute_reply": "2023-03-14T19:30:57.801239Z"
    },
    "papermill": {
     "duration": 0.074099,
     "end_time": "2023-03-14T19:30:57.806012",
     "exception": false,
     "start_time": "2023-03-14T19:30:57.731913",
     "status": "completed"
    },
    "tags": []
   },
   "outputs": [],
   "source": [
    "df = pd.read_csv(\"/kaggle/input/sms-spam-collection-dataset/spam.csv\", encoding = \"ISO-8859-1\")"
   ]
  },
  {
   "cell_type": "code",
   "execution_count": 3,
   "id": "148cffef",
   "metadata": {
    "execution": {
     "iopub.execute_input": "2023-03-14T19:30:57.857082Z",
     "iopub.status.busy": "2023-03-14T19:30:57.856556Z",
     "iopub.status.idle": "2023-03-14T19:30:57.877260Z",
     "shell.execute_reply": "2023-03-14T19:30:57.875592Z"
    },
    "papermill": {
     "duration": 0.050209,
     "end_time": "2023-03-14T19:30:57.880492",
     "exception": false,
     "start_time": "2023-03-14T19:30:57.830283",
     "status": "completed"
    },
    "tags": []
   },
   "outputs": [
    {
     "data": {
      "text/plain": [
       "ham     4825\n",
       "spam     747\n",
       "Name: v1, dtype: int64"
      ]
     },
     "execution_count": 3,
     "metadata": {},
     "output_type": "execute_result"
    }
   ],
   "source": [
    "df[\"v1\"].value_counts()"
   ]
  },
  {
   "cell_type": "code",
   "execution_count": 4,
   "id": "2c4547cb",
   "metadata": {
    "execution": {
     "iopub.execute_input": "2023-03-14T19:30:57.931943Z",
     "iopub.status.busy": "2023-03-14T19:30:57.931414Z",
     "iopub.status.idle": "2023-03-14T19:30:57.943157Z",
     "shell.execute_reply": "2023-03-14T19:30:57.941575Z"
    },
    "papermill": {
     "duration": 0.040392,
     "end_time": "2023-03-14T19:30:57.945819",
     "exception": false,
     "start_time": "2023-03-14T19:30:57.905427",
     "status": "completed"
    },
    "tags": []
   },
   "outputs": [],
   "source": [
    "df[\"spam\"] = df[\"v1\"].apply(lambda x: 1 if x ==\"spam\" else 0)"
   ]
  },
  {
   "cell_type": "code",
   "execution_count": 5,
   "id": "9ae727d4",
   "metadata": {
    "execution": {
     "iopub.execute_input": "2023-03-14T19:30:57.997162Z",
     "iopub.status.busy": "2023-03-14T19:30:57.996041Z",
     "iopub.status.idle": "2023-03-14T19:30:58.008170Z",
     "shell.execute_reply": "2023-03-14T19:30:58.006892Z"
    },
    "papermill": {
     "duration": 0.041284,
     "end_time": "2023-03-14T19:30:58.011438",
     "exception": false,
     "start_time": "2023-03-14T19:30:57.970154",
     "status": "completed"
    },
    "tags": []
   },
   "outputs": [],
   "source": [
    "df = df.loc[:, df.columns.isin([\"v1\", \"v2\", \"spam\"])]"
   ]
  },
  {
   "cell_type": "code",
   "execution_count": 6,
   "id": "77067e14",
   "metadata": {
    "execution": {
     "iopub.execute_input": "2023-03-14T19:30:58.063302Z",
     "iopub.status.busy": "2023-03-14T19:30:58.062020Z",
     "iopub.status.idle": "2023-03-14T19:30:58.087604Z",
     "shell.execute_reply": "2023-03-14T19:30:58.086088Z"
    },
    "papermill": {
     "duration": 0.054845,
     "end_time": "2023-03-14T19:30:58.090788",
     "exception": false,
     "start_time": "2023-03-14T19:30:58.035943",
     "status": "completed"
    },
    "tags": []
   },
   "outputs": [
    {
     "data": {
      "text/html": [
       "<div>\n",
       "<style scoped>\n",
       "    .dataframe tbody tr th:only-of-type {\n",
       "        vertical-align: middle;\n",
       "    }\n",
       "\n",
       "    .dataframe tbody tr th {\n",
       "        vertical-align: top;\n",
       "    }\n",
       "\n",
       "    .dataframe thead th {\n",
       "        text-align: right;\n",
       "    }\n",
       "</style>\n",
       "<table border=\"1\" class=\"dataframe\">\n",
       "  <thead>\n",
       "    <tr style=\"text-align: right;\">\n",
       "      <th></th>\n",
       "      <th>v1</th>\n",
       "      <th>v2</th>\n",
       "      <th>spam</th>\n",
       "    </tr>\n",
       "  </thead>\n",
       "  <tbody>\n",
       "    <tr>\n",
       "      <th>0</th>\n",
       "      <td>ham</td>\n",
       "      <td>Go until jurong point, crazy.. Available only ...</td>\n",
       "      <td>0</td>\n",
       "    </tr>\n",
       "    <tr>\n",
       "      <th>1</th>\n",
       "      <td>ham</td>\n",
       "      <td>Ok lar... Joking wif u oni...</td>\n",
       "      <td>0</td>\n",
       "    </tr>\n",
       "    <tr>\n",
       "      <th>2</th>\n",
       "      <td>spam</td>\n",
       "      <td>Free entry in 2 a wkly comp to win FA Cup fina...</td>\n",
       "      <td>1</td>\n",
       "    </tr>\n",
       "    <tr>\n",
       "      <th>3</th>\n",
       "      <td>ham</td>\n",
       "      <td>U dun say so early hor... U c already then say...</td>\n",
       "      <td>0</td>\n",
       "    </tr>\n",
       "    <tr>\n",
       "      <th>4</th>\n",
       "      <td>ham</td>\n",
       "      <td>Nah I don't think he goes to usf, he lives aro...</td>\n",
       "      <td>0</td>\n",
       "    </tr>\n",
       "  </tbody>\n",
       "</table>\n",
       "</div>"
      ],
      "text/plain": [
       "     v1                                                 v2  spam\n",
       "0   ham  Go until jurong point, crazy.. Available only ...     0\n",
       "1   ham                      Ok lar... Joking wif u oni...     0\n",
       "2  spam  Free entry in 2 a wkly comp to win FA Cup fina...     1\n",
       "3   ham  U dun say so early hor... U c already then say...     0\n",
       "4   ham  Nah I don't think he goes to usf, he lives aro...     0"
      ]
     },
     "execution_count": 6,
     "metadata": {},
     "output_type": "execute_result"
    }
   ],
   "source": [
    "df.head()"
   ]
  },
  {
   "cell_type": "code",
   "execution_count": 7,
   "id": "910ffca2",
   "metadata": {
    "execution": {
     "iopub.execute_input": "2023-03-14T19:30:58.143913Z",
     "iopub.status.busy": "2023-03-14T19:30:58.143330Z",
     "iopub.status.idle": "2023-03-14T19:30:59.394258Z",
     "shell.execute_reply": "2023-03-14T19:30:59.392796Z"
    },
    "papermill": {
     "duration": 1.281414,
     "end_time": "2023-03-14T19:30:59.397524",
     "exception": false,
     "start_time": "2023-03-14T19:30:58.116110",
     "status": "completed"
    },
    "tags": []
   },
   "outputs": [],
   "source": [
    "from sklearn.model_selection import train_test_split\n",
    "\n",
    "X_train, X_test, y_train, y_test = train_test_split(df[\"v2\"],df[\"spam\"],test_size=0.2,random_state=5)"
   ]
  },
  {
   "cell_type": "code",
   "execution_count": 8,
   "id": "358f8f74",
   "metadata": {
    "execution": {
     "iopub.execute_input": "2023-03-14T19:30:59.448082Z",
     "iopub.status.busy": "2023-03-14T19:30:59.447623Z",
     "iopub.status.idle": "2023-03-14T19:30:59.456301Z",
     "shell.execute_reply": "2023-03-14T19:30:59.454910Z"
    },
    "papermill": {
     "duration": 0.036689,
     "end_time": "2023-03-14T19:30:59.459053",
     "exception": false,
     "start_time": "2023-03-14T19:30:59.422364",
     "status": "completed"
    },
    "tags": []
   },
   "outputs": [
    {
     "data": {
      "text/plain": [
       "(4457,)"
      ]
     },
     "execution_count": 8,
     "metadata": {},
     "output_type": "execute_result"
    }
   ],
   "source": [
    "X_train.shape"
   ]
  },
  {
   "cell_type": "code",
   "execution_count": 9,
   "id": "c933de4a",
   "metadata": {
    "execution": {
     "iopub.execute_input": "2023-03-14T19:30:59.510101Z",
     "iopub.status.busy": "2023-03-14T19:30:59.509047Z",
     "iopub.status.idle": "2023-03-14T19:30:59.516760Z",
     "shell.execute_reply": "2023-03-14T19:30:59.515382Z"
    },
    "papermill": {
     "duration": 0.036618,
     "end_time": "2023-03-14T19:30:59.519954",
     "exception": false,
     "start_time": "2023-03-14T19:30:59.483336",
     "status": "completed"
    },
    "tags": []
   },
   "outputs": [
    {
     "data": {
      "text/plain": [
       "(1115,)"
      ]
     },
     "execution_count": 9,
     "metadata": {},
     "output_type": "execute_result"
    }
   ],
   "source": [
    "X_test.shape"
   ]
  },
  {
   "cell_type": "code",
   "execution_count": 10,
   "id": "a332aea9",
   "metadata": {
    "execution": {
     "iopub.execute_input": "2023-03-14T19:30:59.572385Z",
     "iopub.status.busy": "2023-03-14T19:30:59.570862Z",
     "iopub.status.idle": "2023-03-14T19:30:59.695252Z",
     "shell.execute_reply": "2023-03-14T19:30:59.693481Z"
    },
    "papermill": {
     "duration": 0.153692,
     "end_time": "2023-03-14T19:30:59.698409",
     "exception": false,
     "start_time": "2023-03-14T19:30:59.544717",
     "status": "completed"
    },
    "tags": []
   },
   "outputs": [
    {
     "data": {
      "text/plain": [
       "<4457x7823 sparse matrix of type '<class 'numpy.int64'>'\n",
       "\twith 59528 stored elements in Compressed Sparse Row format>"
      ]
     },
     "execution_count": 10,
     "metadata": {},
     "output_type": "execute_result"
    }
   ],
   "source": [
    "from sklearn.feature_extraction.text import CountVectorizer\n",
    "\n",
    "v = CountVectorizer()\n",
    "\n",
    "X_train_cv = v.fit_transform(X_train.values)\n",
    "X_train_cv"
   ]
  },
  {
   "cell_type": "code",
   "execution_count": 11,
   "id": "d042b20b",
   "metadata": {
    "execution": {
     "iopub.execute_input": "2023-03-14T19:30:59.750453Z",
     "iopub.status.busy": "2023-03-14T19:30:59.749952Z",
     "iopub.status.idle": "2023-03-14T19:30:59.905325Z",
     "shell.execute_reply": "2023-03-14T19:30:59.903493Z"
    },
    "papermill": {
     "duration": 0.185209,
     "end_time": "2023-03-14T19:30:59.908506",
     "exception": false,
     "start_time": "2023-03-14T19:30:59.723297",
     "status": "completed"
    },
    "tags": []
   },
   "outputs": [
    {
     "data": {
      "text/plain": [
       "array([[0, 0, 0, ..., 0, 0, 0],\n",
       "       [0, 0, 0, ..., 0, 0, 0],\n",
       "       [0, 0, 0, ..., 0, 0, 0],\n",
       "       ...,\n",
       "       [0, 0, 0, ..., 0, 0, 0],\n",
       "       [0, 0, 0, ..., 0, 0, 0],\n",
       "       [0, 0, 0, ..., 0, 0, 0]])"
      ]
     },
     "execution_count": 11,
     "metadata": {},
     "output_type": "execute_result"
    }
   ],
   "source": [
    "X_train_cv.toarray()"
   ]
  },
  {
   "cell_type": "code",
   "execution_count": 12,
   "id": "4ca7a1c9",
   "metadata": {
    "execution": {
     "iopub.execute_input": "2023-03-14T19:30:59.960549Z",
     "iopub.status.busy": "2023-03-14T19:30:59.960064Z",
     "iopub.status.idle": "2023-03-14T19:30:59.968985Z",
     "shell.execute_reply": "2023-03-14T19:30:59.967523Z"
    },
    "papermill": {
     "duration": 0.038145,
     "end_time": "2023-03-14T19:30:59.971682",
     "exception": false,
     "start_time": "2023-03-14T19:30:59.933537",
     "status": "completed"
    },
    "tags": []
   },
   "outputs": [
    {
     "data": {
      "text/plain": [
       "(4457, 7823)"
      ]
     },
     "execution_count": 12,
     "metadata": {},
     "output_type": "execute_result"
    }
   ],
   "source": [
    "X_train_cv.shape"
   ]
  },
  {
   "cell_type": "code",
   "execution_count": 13,
   "id": "566f94c2",
   "metadata": {
    "execution": {
     "iopub.execute_input": "2023-03-14T19:31:00.024633Z",
     "iopub.status.busy": "2023-03-14T19:31:00.024147Z",
     "iopub.status.idle": "2023-03-14T19:31:00.041046Z",
     "shell.execute_reply": "2023-03-14T19:31:00.040027Z"
    },
    "papermill": {
     "duration": 0.047363,
     "end_time": "2023-03-14T19:31:00.043832",
     "exception": false,
     "start_time": "2023-03-14T19:30:59.996469",
     "status": "completed"
    },
    "tags": []
   },
   "outputs": [
    {
     "data": {
      "text/plain": [
       "array(['apo', 'apologise', 'apologize', 'app', 'apparently', 'appeal',\n",
       "       'appear', 'appendix', 'applausestore', 'applebees', 'apples',\n",
       "       'application', 'apply', 'applyed', 'appointment', 'appointments',\n",
       "       'appreciate', 'appreciated', 'approaches', 'approaching',\n",
       "       'appropriate', 'approve', 'approved', 'approx', 'apps', 'appt',\n",
       "       'april', 'aproach', 'aptitude', 'aquarius', 'ar', 'arab',\n",
       "       'arabian', 'arcade', 'ard', 'are', 'area', 'aren', 'arent',\n",
       "       'arestaurant', 'aretaking', 'areyouunique', 'argh', 'argue',\n",
       "       'argument', 'arguments', 'aries', 'arise', 'arises', 'arm',\n",
       "       'armand', 'armenia', 'arms', 'arng', 'arngd', 'around', 'aroundn',\n",
       "       'arr', 'arrange', 'arranging', 'arrested', 'arrive', 'arrow',\n",
       "       'arsenal', 'art', 'artists', 'arts', 'arty', 'arul', 'arun', 'as',\n",
       "       'asa', 'asap', 'ashley', 'ashwini', 'asian', 'asjesus', 'ask',\n",
       "       'askd', 'asked', 'askin', 'asking', 'asks', 'aslamalaikkum',\n",
       "       'asleep', 'asp', 'aspects', 'ass', 'assessment', 'asshole',\n",
       "       'assistance', 'associate', 'asssssholeeee', 'assume', 'assumed',\n",
       "       'asthere', 'astne', 'astoundingly', 'astrology', 'astronomer',\n",
       "       'asusual', 'at', 'ate', 'athletic', 'atlanta', 'atlast', 'atleast',\n",
       "       'atm', 'atrocious', 'attach', 'attached', 'attempt', 'atten',\n",
       "       'attend', 'attraction', 'attributed', 'auction', 'audition',\n",
       "       'audrey', 'audrie', 'august', 'aunt', 'auntie', 'aunties', 'aunts',\n",
       "       'aunty', 'aust', 'australia', 'authorise', 'auto', 'autocorrect',\n",
       "       'av', 'ava', 'available', 'avalarr', 'avatar', 'ave', 'avenge',\n",
       "       'avent', 'avenue', 'avin', 'avo', 'avoid', 'avoiding', 'avoids',\n",
       "       'await', 'awaiting', 'awake', 'award', 'awarded', 'away',\n",
       "       'awesome', 'awkward', 'aww', 'awww', 'axel', 'axis', 'ay', 'ayn',\n",
       "       'aå', 'b4', 'b4190604', 'b4280703', 'b4u'], dtype=object)"
      ]
     },
     "execution_count": 13,
     "metadata": {},
     "output_type": "execute_result"
    }
   ],
   "source": [
    "v.get_feature_names_out()[1040:1204]"
   ]
  },
  {
   "cell_type": "code",
   "execution_count": 14,
   "id": "6f1899ed",
   "metadata": {
    "collapsed": true,
    "execution": {
     "iopub.execute_input": "2023-03-14T19:31:00.096910Z",
     "iopub.status.busy": "2023-03-14T19:31:00.096348Z",
     "iopub.status.idle": "2023-03-14T19:31:00.137114Z",
     "shell.execute_reply": "2023-03-14T19:31:00.135516Z"
    },
    "jupyter": {
     "outputs_hidden": true
    },
    "papermill": {
     "duration": 0.071717,
     "end_time": "2023-03-14T19:31:00.140322",
     "exception": false,
     "start_time": "2023-03-14T19:31:00.068605",
     "status": "completed"
    },
    "tags": []
   },
   "outputs": [
    {
     "data": {
      "text/plain": [
       "{'rgent': 5830,\n",
       " 'this': 6916,\n",
       " 'is': 3777,\n",
       " 'the': 6877,\n",
       " '2nd': 419,\n",
       " 'attempt': 1151,\n",
       " 'to': 6998,\n",
       " 'contact': 2003,\n",
       " 'have': 3383,\n",
       " 'won': 7640,\n",
       " '1250': 299,\n",
       " 'call': 1627,\n",
       " '09071512433': 255,\n",
       " 'b4': 1200,\n",
       " '050703': 17,\n",
       " 'csbcm4235wc1n3xx': 2115,\n",
       " 'callcost': 1631,\n",
       " '150ppm': 323,\n",
       " 'mobilesvary': 4574,\n",
       " 'maxå': 4422,\n",
       " '50': 547,\n",
       " 'when': 7546,\n",
       " 'love': 4248,\n",
       " 'someone': 6363,\n",
       " 'dont': 2427,\n",
       " 'make': 4348,\n",
       " 'them': 6886,\n",
       " 'as': 1110,\n",
       " 'much': 4662,\n",
       " 'do': 2391,\n",
       " 'but': 1593,\n",
       " 'so': 6344,\n",
       " 'that': 6871,\n",
       " 'they': 6901,\n",
       " 'want': 7441,\n",
       " 'be': 1291,\n",
       " 'loved': 4249,\n",
       " 'by': 1609,\n",
       " 'anyone': 1024,\n",
       " 'except': 2719,\n",
       " 'you': 7772,\n",
       " 'gud': 3289,\n",
       " 'nit': 4821,\n",
       " 'ok': 4953,\n",
       " 'then': 6889,\n",
       " 'come': 1930,\n",
       " 'pick': 5239,\n",
       " 'at': 1141,\n",
       " 'engin': 2612,\n",
       " 'ugh': 7184,\n",
       " 'my': 4693,\n",
       " 'leg': 4090,\n",
       " 'hurts': 3589,\n",
       " 'musta': 4687,\n",
       " 'overdid': 5064,\n",
       " 'it': 3788,\n",
       " 'on': 4972,\n",
       " 'mon': 4595,\n",
       " 'don': 2423,\n",
       " 'know': 3981,\n",
       " 'week': 7502,\n",
       " 'going': 3194,\n",
       " 'tirunelvai': 6975,\n",
       " 'da': 2161,\n",
       " 'dunno': 2506,\n",
       " 'until': 7250,\n",
       " 'lets': 4109,\n",
       " 'go': 3182,\n",
       " 'learn': 4078,\n",
       " 'pilates': 5253,\n",
       " 'aight': 905,\n",
       " 'no': 4828,\n",
       " 'rush': 5915,\n",
       " 'll': 4182,\n",
       " 'ask': 1117,\n",
       " 'jay': 3830,\n",
       " 'yup': 7795,\n",
       " 'thk': 6917,\n",
       " 'cine': 1839,\n",
       " 'better': 1348,\n",
       " 'cos': 2042,\n",
       " 'need': 4758,\n",
       " 'down': 2446,\n",
       " 'plaza': 5288,\n",
       " 'mah': 4336,\n",
       " 'both': 1464,\n",
       " 'shoot': 6165,\n",
       " 'big': 1365,\n",
       " 'loads': 4188,\n",
       " 'get': 3140,\n",
       " 'ready': 5650,\n",
       " 'are': 1075,\n",
       " 'eldest': 2571,\n",
       " 'sorry': 6389,\n",
       " 'trouble': 7113,\n",
       " 'again': 881,\n",
       " 'can': 1651,\n",
       " 'buy': 1598,\n",
       " '4d': 525,\n",
       " 'for': 2963,\n",
       " 'dad': 2164,\n",
       " '1405': 310,\n",
       " '1680': 333,\n",
       " '1843': 338,\n",
       " 'all': 938,\n",
       " 'small': 6302,\n",
       " 'sat': 5970,\n",
       " 'sun': 6657,\n",
       " 'thanx': 6868,\n",
       " 'career': 1679,\n",
       " 'tel': 6813,\n",
       " 'added': 832,\n",
       " 'indyarocks': 3694,\n",
       " 'com': 1924,\n",
       " 'send': 6066,\n",
       " 'free': 3006,\n",
       " 'sms': 6325,\n",
       " 'remove': 5750,\n",
       " 'from': 3042,\n",
       " 'phonebook': 5227,\n",
       " 'lt': 4271,\n",
       " 'gt': 3285,\n",
       " 'hey': 3445,\n",
       " 'congrats': 1987,\n",
       " '2u2': 430,\n",
       " 'id': 3616,\n",
       " 'luv': 4287,\n",
       " 'ive': 3801,\n",
       " 'had': 3316,\n",
       " 'home': 3502,\n",
       " 'am': 962,\n",
       " 'uworld': 7301,\n",
       " 'site': 6249,\n",
       " 'buying': 1601,\n",
       " 'qbank': 5566,\n",
       " 'only': 4984,\n",
       " 'or': 5011,\n",
       " 'with': 7610,\n",
       " 'self': 6054,\n",
       " 'assessment': 1128,\n",
       " 'also': 954,\n",
       " 'later': 4049,\n",
       " 'showing': 6191,\n",
       " 'around': 1095,\n",
       " '30': 437,\n",
       " 'if': 3628,\n",
       " 'cld': 1857,\n",
       " 'drink': 2466,\n",
       " 'before': 1315,\n",
       " 'wld': 7628,\n",
       " 'prefer': 5420,\n",
       " 'not': 4864,\n",
       " 'spend': 6437,\n",
       " 'money': 4598,\n",
       " 'nosh': 4862,\n",
       " 'mind': 4516,\n",
       " 'doing': 2414,\n",
       " 'nxt': 4903,\n",
       " 'wk': 7620,\n",
       " 'aww': 1193,\n",
       " 'first': 2895,\n",
       " 'time': 6965,\n",
       " 'said': 5937,\n",
       " 'missed': 4543,\n",
       " 'me': 4432,\n",
       " 'without': 7614,\n",
       " 'asking': 1121,\n",
       " 'take': 6754,\n",
       " 'ur': 7269,\n",
       " 'enjoy': 2615,\n",
       " 'dinner': 2345,\n",
       " 'ah': 895,\n",
       " 'well': 7516,\n",
       " 'confuses': 1986,\n",
       " 'things': 6907,\n",
       " 'doesnt': 2404,\n",
       " 'thought': 6926,\n",
       " 'was': 7454,\n",
       " 'friends': 3027,\n",
       " 'now': 4878,\n",
       " 'maybe': 4425,\n",
       " 'did': 2317,\n",
       " 'wrong': 7693,\n",
       " 'thing': 6906,\n",
       " 'already': 951,\n",
       " 'sort': 6390,\n",
       " 'of': 4930,\n",
       " 'invited': 3754,\n",
       " 'tho': 6921,\n",
       " 'he': 3392,\n",
       " 'may': 4423,\n",
       " 'significant': 6219,\n",
       " 'worry': 7667,\n",
       " 'who': 7562,\n",
       " 'talking': 6765,\n",
       " 'about': 778,\n",
       " 'really': 5659,\n",
       " 'dun': 2504,\n",
       " 'bluff': 1427,\n",
       " 'leh': 4093,\n",
       " 'sleep': 6278,\n",
       " 'early': 2522,\n",
       " 'too': 7037,\n",
       " 'nite': 4822,\n",
       " 'right': 5838,\n",
       " 'gonna': 3205,\n",
       " 'up': 7252,\n",
       " 'and': 989,\n",
       " 'check': 1772,\n",
       " 'today': 7004,\n",
       " 'steam': 6527,\n",
       " 'sales': 5942,\n",
       " 'pee': 5175,\n",
       " 'text': 6848,\n",
       " 'either': 2565,\n",
       " 'way': 7476,\n",
       " 'works': 7662,\n",
       " 'years': 7747,\n",
       " 'old': 4965,\n",
       " 'hope': 3516,\n",
       " 'bother': 1465,\n",
       " 'gals': 3087,\n",
       " 'wanna': 7439,\n",
       " 'meet': 4450,\n",
       " 'nìâte': 4909,\n",
       " 'tell': 6818,\n",
       " 'what': 7539,\n",
       " 'your': 7776,\n",
       " 'address': 835,\n",
       " 'turns': 7150,\n",
       " 'out': 5048,\n",
       " 'stereo': 6532,\n",
       " 'mi': 4496,\n",
       " 'phone': 5226,\n",
       " 'under': 7211,\n",
       " 'unknown': 7236,\n",
       " 'album': 922,\n",
       " 'okmail': 4960,\n",
       " 'dear': 2206,\n",
       " 'dave': 2194,\n",
       " 'final': 2876,\n",
       " 'notice': 4870,\n",
       " 'collect': 1914,\n",
       " 'tenerife': 6829,\n",
       " 'holiday': 3497,\n",
       " '5000': 549,\n",
       " 'cash': 1697,\n",
       " 'award': 1188,\n",
       " '09061743806': 211,\n",
       " 'landline': 4027,\n",
       " 'tcs': 6794,\n",
       " 'sae': 5931,\n",
       " 'box326': 1478,\n",
       " 'cw25wx': 2157,\n",
       " 'says': 5987,\n",
       " 'hi': 3450,\n",
       " 'ass': 1127,\n",
       " 'back': 1218,\n",
       " 'south': 6406,\n",
       " 'tampa': 6769,\n",
       " 'preferably': 5421,\n",
       " 'kegger': 3935,\n",
       " 'got': 3223,\n",
       " 'his': 3466,\n",
       " 'detailed': 2290,\n",
       " 'message': 4485,\n",
       " 'pls': 5298,\n",
       " 'give': 3166,\n",
       " 'her': 3435,\n",
       " 'food': 2954,\n",
       " 'pap': 5109,\n",
       " 'very': 7335,\n",
       " 'slowly': 6298,\n",
       " 'sugar': 6640,\n",
       " 'an': 984,\n",
       " 'hour': 3540,\n",
       " 'some': 6359,\n",
       " 'water': 7468,\n",
       " 'sure': 6683,\n",
       " 'driving': 2474,\n",
       " 'will': 7584,\n",
       " 'reach': 5641,\n",
       " 'destination': 2287,\n",
       " 'soon': 6381,\n",
       " 'means': 4438,\n",
       " 'in': 3667,\n",
       " 'epi': 2641,\n",
       " 'she': 6133,\n",
       " 'fine': 2882,\n",
       " 'here': 3436,\n",
       " 'tacos': 6746,\n",
       " 'rajas': 5604,\n",
       " 'burrito': 1586,\n",
       " 'poyyarikatur': 5391,\n",
       " 'kolathupalayam': 3990,\n",
       " 'unjalur': 7234,\n",
       " 'post': 5371,\n",
       " 'erode': 2650,\n",
       " 'dis': 2357,\n",
       " 'admin': 840,\n",
       " 'building': 1571,\n",
       " 'there': 6893,\n",
       " 'might': 4503,\n",
       " 'slightly': 6287,\n",
       " 'earlier': 2521,\n",
       " 'reaching': 5644,\n",
       " 'pig': 5251,\n",
       " 'wake': 7421,\n",
       " '10': 271,\n",
       " 'smth': 6329,\n",
       " 'eat': 2531,\n",
       " 'lunch': 4283,\n",
       " 'jus': 3898,\n",
       " 'finish': 2884,\n",
       " 'watching': 7466,\n",
       " 'tv': 7151,\n",
       " 'good': 3207,\n",
       " 'job': 3857,\n",
       " 'like': 4135,\n",
       " 'entrepreneurs': 2632,\n",
       " 'office': 4939,\n",
       " 'decimal': 2217,\n",
       " 'amp': 976,\n",
       " 'mobile': 4571,\n",
       " 'problem': 5475,\n",
       " 'cann': 1659,\n",
       " 'voice': 7379,\n",
       " 'asa': 1111,\n",
       " 'how': 3546,\n",
       " 'many': 4373,\n",
       " 'page': 5088,\n",
       " 'accordingly': 805,\n",
       " 'repeat': 5763,\n",
       " 'just': 3899,\n",
       " 'word': 7655,\n",
       " 'length': 4097,\n",
       " 'same': 5951,\n",
       " 'top': 7045,\n",
       " 'shorter': 6174,\n",
       " 'fringe': 3031,\n",
       " 'liao': 4114,\n",
       " 'lazy': 4066,\n",
       " 'wan': 7436,\n",
       " 'distract': 2376,\n",
       " 'new': 4789,\n",
       " 'theory': 6891,\n",
       " 'argument': 1084,\n",
       " 'wins': 7597,\n",
       " 'situation': 6254,\n",
       " 'loses': 4231,\n",
       " 'person': 5200,\n",
       " 'argue': 1083,\n",
       " 'kick': 3952,\n",
       " 'say': 5984,\n",
       " 'always': 960,\n",
       " 'correct': 2038,\n",
       " 'frnd': 3033,\n",
       " 'which': 7556,\n",
       " 'best': 1342,\n",
       " 'avoid': 1182,\n",
       " 'missunderstding': 4548,\n",
       " 'wit': 7609,\n",
       " 'our': 5045,\n",
       " 'beloved': 1333,\n",
       " 'one': 4978,\n",
       " 'slept': 6282,\n",
       " 'thinkthis': 6913,\n",
       " 'pm': 5305,\n",
       " 'dangerous': 2175,\n",
       " 'we': 7481,\n",
       " 'divorce': 2382,\n",
       " 'lol': 4205,\n",
       " 'its': 3794,\n",
       " 'still': 6542,\n",
       " 'looking': 4220,\n",
       " 'ta': 6742,\n",
       " 'earn': 2523,\n",
       " 'somebody': 6361,\n",
       " 'set': 6092,\n",
       " 'website': 7494,\n",
       " 'where': 7550,\n",
       " 'play': 5281,\n",
       " 'hold': 3493,\n",
       " 'em': 2581,\n",
       " 'using': 7294,\n",
       " 'eve': 2680,\n",
       " 'online': 4982,\n",
       " 'spacebucks': 6412,\n",
       " 'motivate': 4622,\n",
       " 'behind': 1323,\n",
       " 'every': 2689,\n",
       " 'darkness': 2181,\n",
       " 'shining': 6147,\n",
       " 'light': 4131,\n",
       " 'waiting': 7420,\n",
       " 'find': 2880,\n",
       " 'friend': 3026,\n",
       " 'trust': 7124,\n",
       " 'bslvyl': 1553,\n",
       " '8007': 658,\n",
       " '1st': 352,\n",
       " 'no1': 4829,\n",
       " 'nokia': 4837,\n",
       " 'tone': 7026,\n",
       " 'mob': 4570,\n",
       " 'txt': 7162,\n",
       " 'txting': 7167,\n",
       " 'mates': 4406,\n",
       " 'www': 7707,\n",
       " 'getzed': 3148,\n",
       " 'co': 1892,\n",
       " 'uk': 7189,\n",
       " 'pobox': 5309,\n",
       " '36504': 462,\n",
       " 'w4': 7404,\n",
       " '5wq': 582,\n",
       " 'norm': 4854,\n",
       " '150p': 319,\n",
       " '16': 331,\n",
       " 'juan': 3885,\n",
       " 'im': 3643,\n",
       " 'coming': 1936,\n",
       " 'fri': 3022,\n",
       " 'course': 2065,\n",
       " 'expect': 2738,\n",
       " 'welcome': 7514,\n",
       " 'party': 5135,\n",
       " 'lots': 4237,\n",
       " 'presents': 5436,\n",
       " 'ill': 3640,\n",
       " 'nicky': 4805,\n",
       " 'joy': 3879,\n",
       " 'father': 2812,\n",
       " 'john': 3863,\n",
       " '____': 760,\n",
       " 'ans': 1008,\n",
       " 'ths': 6943,\n",
       " 'hav': 3381,\n",
       " 'iq': 3766,\n",
       " 'tis': 6978,\n",
       " 'ias': 3602,\n",
       " 'question': 5574,\n",
       " 'try': 7126,\n",
       " 'answer': 1010,\n",
       " 'thank': 6862,\n",
       " 'selflessness': 6057,\n",
       " 'plenty': 5295,\n",
       " 'survey': 6694,\n",
       " 'does': 2401,\n",
       " 'cost': 2044,\n",
       " 'urgent': 7273,\n",
       " 'number': 4892,\n",
       " 'has': 3370,\n",
       " 'been': 1311,\n",
       " 'awarded': 1189,\n",
       " '2000': 363,\n",
       " 'bonus': 1442,\n",
       " 'caller': 1635,\n",
       " 'prize': 5468,\n",
       " '09058095201': 195,\n",
       " 'land': 4026,\n",
       " 'line': 4150,\n",
       " 'valid': 7308,\n",
       " '12hrs': 302,\n",
       " 'told': 7015,\n",
       " 'hr': 3554,\n",
       " 'posting': 5376,\n",
       " 'chennai': 1788,\n",
       " 'because': 1300,\n",
       " 'working': 7660,\n",
       " 'buzz': 1603,\n",
       " 'think': 6908,\n",
       " 'day': 2196,\n",
       " 'goes': 3189,\n",
       " 'miss': 4541,\n",
       " 'babe': 1209,\n",
       " 'long': 4212,\n",
       " 'moment': 4592,\n",
       " 'together': 7008,\n",
       " 'loving': 4258,\n",
       " 'smile': 6313,\n",
       " 'hcl': 3391,\n",
       " 'requires': 5782,\n",
       " 'freshers': 3020,\n",
       " 'process': 5482,\n",
       " 'excellent': 2718,\n",
       " 'english': 2614,\n",
       " 'needed': 4760,\n",
       " 'salary': 5940,\n",
       " 'upto': 7267,\n",
       " 'ms': 4643,\n",
       " 'suman': 6651,\n",
       " 'telephonic': 6816,\n",
       " 'interview': 3740,\n",
       " 'via': 7338,\n",
       " 'zoe': 7802,\n",
       " 'hit': 3468,\n",
       " 'fucking': 3052,\n",
       " 'shitin': 6156,\n",
       " 'myself': 4698,\n",
       " 'il': 3638,\n",
       " 'defo': 2238,\n",
       " 'hardest': 3364,\n",
       " 'cum': 2132,\n",
       " '2morow': 413,\n",
       " 'millions': 4511,\n",
       " 'lekdog': 4095,\n",
       " 'haha': 3319,\n",
       " 'oh': 4949,\n",
       " 'deduct': 2226,\n",
       " 'lesson': 4106,\n",
       " 'tmr': 6993,\n",
       " 'live': 4175,\n",
       " 'doubt': 2444,\n",
       " 'could': 2054,\n",
       " 'handle': 3338,\n",
       " 'times': 6966,\n",
       " 'per': 5185,\n",
       " 'night': 4809,\n",
       " 'any': 1020,\n",
       " 'case': 1696,\n",
       " 'guaranteed': 3287,\n",
       " '1000': 273,\n",
       " 'claim': 1844,\n",
       " 'yr': 7785,\n",
       " 'customer': 2146,\n",
       " 'service': 6088,\n",
       " 'representative': 5775,\n",
       " '08714712394': 126,\n",
       " 'between': 1351,\n",
       " '10am': 279,\n",
       " '7pm': 650,\n",
       " 'never': 4787,\n",
       " 'lei': 4094,\n",
       " 'wat': 7462,\n",
       " 'dat': 2188,\n",
       " 'ì_': 7813,\n",
       " 'url': 7279,\n",
       " 'cant': 1662,\n",
       " 'work': 7657,\n",
       " 'slow': 6295,\n",
       " 'biola': 1377,\n",
       " 'fne': 2941,\n",
       " 'okie': 4958,\n",
       " 'happy': 3360,\n",
       " 'melody': 4463,\n",
       " 'di': 2307,\n",
       " 'yijue': 7765,\n",
       " 're': 5640,\n",
       " 'meeting': 4452,\n",
       " 'esaplanade': 2658,\n",
       " 'tonight': 7033,\n",
       " 'sir': 6244,\n",
       " 'mail': 4341,\n",
       " 'popping': 5354,\n",
       " 'ibuprofens': 3608,\n",
       " 'help': 3425,\n",
       " 'din': 2340,\n",
       " 'cut': 2150,\n",
       " 'hair': 3323,\n",
       " 'brother': 1542,\n",
       " 'talk': 6762,\n",
       " 'him': 3459,\n",
       " 'grins': 3271,\n",
       " 'muhommad': 4665,\n",
       " 'penny': 5182,\n",
       " 'hello': 3422,\n",
       " 'across': 817,\n",
       " 'sea': 6021,\n",
       " 'lover': 4253,\n",
       " 'slave': 6277,\n",
       " 'teasing': 6806,\n",
       " 'kiss': 3972,\n",
       " 'ad': 828,\n",
       " 'crap': 2081,\n",
       " 'borin': 1457,\n",
       " 'ya': 7731,\n",
       " 'boggy': 1433,\n",
       " 'boring': 1458,\n",
       " 'biatch': 1362,\n",
       " 'wait': 7417,\n",
       " 'til': 6962,\n",
       " 'ave': 1176,\n",
       " 'sch': 5996,\n",
       " 'neva': 4786,\n",
       " 'lor': 4227,\n",
       " 'sounds': 6400,\n",
       " 'crazy': 2087,\n",
       " 'tahan': 6750,\n",
       " 'anot': 1006,\n",
       " 'look': 4216,\n",
       " 'pretty': 5445,\n",
       " 'wif': 7575,\n",
       " 'cutting': 2155,\n",
       " 'quite': 5581,\n",
       " 'short': 6171,\n",
       " 'seems': 6046,\n",
       " 'unnecessarily': 7241,\n",
       " 'affectionate': 866,\n",
       " 'yay': 7743,\n",
       " 'stop': 6554,\n",
       " 'roommate': 5876,\n",
       " 'stock': 6545,\n",
       " 'trip': 7107,\n",
       " 'dileep': 2337,\n",
       " 'muchand': 4663,\n",
       " 'forward': 2985,\n",
       " 'support': 6676,\n",
       " 'less': 4104,\n",
       " 'contacts': 2005,\n",
       " 'remember': 5739,\n",
       " 'venugopal': 7331,\n",
       " 'mentioned': 4475,\n",
       " 'tomorrow': 7024,\n",
       " 'late': 4046,\n",
       " 'shall': 6120,\n",
       " 'till': 6963,\n",
       " 'goodnight': 3212,\n",
       " 'abt': 784,\n",
       " 'making': 4352,\n",
       " 'pics': 5243,\n",
       " 'bigger': 1366,\n",
       " 've': 7323,\n",
       " 'costa': 2045,\n",
       " 'del': 2243,\n",
       " 'sol': 6353,\n",
       " 'await': 1185,\n",
       " 'collection': 1917,\n",
       " '09050090044': 183,\n",
       " 'toclaim': 7003,\n",
       " 'tc': 6792,\n",
       " 'pobox334': 5314,\n",
       " 'stockport': 6547,\n",
       " 'sk38xh': 6260,\n",
       " 'costå': 2050,\n",
       " 'max10mins': 4418,\n",
       " 'convey': 2019,\n",
       " 'regards': 5717,\n",
       " 'achan': 810,\n",
       " 'amma': 971,\n",
       " 'rakhesh': 5609,\n",
       " 'qatar': 5565,\n",
       " 'words': 7656,\n",
       " 'leave': 4082,\n",
       " 'dismay': 2372,\n",
       " 'training': 7078,\n",
       " 'manual': 4372,\n",
       " 'show': 6186,\n",
       " 'tech': 6807,\n",
       " 'password': 5144,\n",
       " 'reset': 5789,\n",
       " 'troubleshooting': 7114,\n",
       " 'everyso': 2695,\n",
       " 'often': 4946,\n",
       " 'panicks': 5104,\n",
       " 'starts': 6509,\n",
       " 'goin': 3192,\n",
       " 'bout': 1470,\n",
       " 'bein': 1324,\n",
       " 'enough': 2621,\n",
       " 'û_': 7817,\n",
       " 'consider': 1998,\n",
       " 'walls': 7432,\n",
       " 'bunkers': 1576,\n",
       " 'shit': 6154,\n",
       " 'important': 3657,\n",
       " 'peaceful': 5171,\n",
       " 'guess': 3293,\n",
       " 'place': 5268,\n",
       " 'high': 3454,\n",
       " 'matter': 4413,\n",
       " 'valued': 7312,\n",
       " 'pleased': 5291,\n",
       " 'advise': 857,\n",
       " 'following': 2949,\n",
       " 'recent': 5679,\n",
       " 'review': 5824,\n",
       " '1500': 318,\n",
       " '09066364589': 245,\n",
       " 'massive': 4398,\n",
       " 'pain': 5092,\n",
       " 'rather': 5626,\n",
       " 'involved': 3758,\n",
       " 'possible': 5369,\n",
       " 'yes': 7757,\n",
       " 'lady': 4019,\n",
       " 'single': 6238,\n",
       " 'mean': 4434,\n",
       " '11mths': 291,\n",
       " 'update': 7256,\n",
       " 'oranges': 5016,\n",
       " 'latest': 4050,\n",
       " 'colour': 1921,\n",
       " 'camera': 1648,\n",
       " 'mobiles': 4572,\n",
       " 'unlimited': 7239,\n",
       " 'weekend': 7504,\n",
       " 'calls': 1641,\n",
       " 'upd8': 7254,\n",
       " 'freefone': 3010,\n",
       " '08000839402': 52,\n",
       " '2stoptxt': 428,\n",
       " 'adult': 851,\n",
       " '18': 336,\n",
       " 'content': 2006,\n",
       " 'video': 7346,\n",
       " 'shortly': 6175,\n",
       " 'couldn': 2056,\n",
       " 'worse': 7669,\n",
       " 'fantastic': 2800,\n",
       " 'chance': 1742,\n",
       " 'anything': 1028,\n",
       " 'life': 4123,\n",
       " 'lift': 4128,\n",
       " 'losing': 4232,\n",
       " 'would': 7677,\n",
       " 'die': 2322,\n",
       " 'hack': 3315,\n",
       " 'chat': 1763,\n",
       " 'backdoor': 1219,\n",
       " 'entry': 2634,\n",
       " 'into': 3744,\n",
       " '121': 295,\n",
       " 'rooms': 5878,\n",
       " 'fraction': 2996,\n",
       " 'reply': 5770,\n",
       " 'neo69': 4774,\n",
       " '09050280520': 184,\n",
       " 'subscribe': 6619,\n",
       " '25p': 386,\n",
       " 'dps': 2454,\n",
       " 'bcm': 1282,\n",
       " 'box': 1474,\n",
       " '8027': 665,\n",
       " 'ldn': 4070,\n",
       " 'wc1n3xx': 7480,\n",
       " 'bit': 1386,\n",
       " 'ex': 2713,\n",
       " 'else': 2579,\n",
       " 'feel': 2832,\n",
       " 'guilty': 3302,\n",
       " 'style': 6608,\n",
       " 'garments': 3101,\n",
       " 'account': 806,\n",
       " 'please': 5290,\n",
       " 'ouch': 5044,\n",
       " 'wish': 7602,\n",
       " 'stayed': 6518,\n",
       " 'longer': 4213,\n",
       " 'happen': 3351,\n",
       " 'de': 2201,\n",
       " 'alright': 952,\n",
       " 'care': 1677,\n",
       " 'worries': 7666,\n",
       " 'erm': 2649,\n",
       " '45pm': 515,\n",
       " 'park': 5124,\n",
       " 'unsubscribed': 7248,\n",
       " 'services': 6089,\n",
       " 'tons': 7036,\n",
       " 'sexy': 6105,\n",
       " 'babes': 1210,\n",
       " 'hunks': 3580,\n",
       " 'straight': 6569,\n",
       " 'http': 3559,\n",
       " 'gotbabes': 3226,\n",
       " 'subscriptions': 6625,\n",
       " 'izzit': 3804,\n",
       " 'raining': 5600,\n",
       " 'heavily': 3413,\n",
       " 'mrt': 4642,\n",
       " 'outside': 5058,\n",
       " 'shd': 6132,\n",
       " 'oni': 4980,\n",
       " 'hows': 3550,\n",
       " 'smiling': 6317,\n",
       " '0776xxxxxxx': 30,\n",
       " 'xchat': 7715,\n",
       " '86688': 708,\n",
       " 'msgrcvdhg': 4649,\n",
       " 'suite342': 6645,\n",
       " '2lands': 410,\n",
       " 'row': 5886,\n",
       " 'w1j6hl': 7401,\n",
       " '18yrs': 340,\n",
       " 'bold': 1435,\n",
       " 'torch': 7052,\n",
       " '2bold': 398,\n",
       " 'wan2': 7437,\n",
       " 'win': 7587,\n",
       " 'greet': 3266,\n",
       " 'westlife': 7531,\n",
       " 'm8': 4306,\n",
       " 'currently': 2140,\n",
       " 'tour': 7067,\n",
       " 'unbreakable': 7202,\n",
       " 'untamed': 7249,\n",
       " 'unkempt': 7235,\n",
       " '83049': 682,\n",
       " '50p': 554,\n",
       " 'std': 6522,\n",
       " 'done': 2425,\n",
       " 'blimey': 1409,\n",
       " 'exercise': 2728,\n",
       " 'yeah': 7745,\n",
       " 'kinda': 3964,\n",
       " 'wot': 7673,\n",
       " 'hmm': 3479,\n",
       " 'great': 3260,\n",
       " 'aunts': 1164,\n",
       " 'anniversary': 999,\n",
       " 'tarpon': 6776,\n",
       " 'springs': 6475,\n",
       " 'princess': 5456,\n",
       " 'thats': 6874,\n",
       " '3510i': 459,\n",
       " 'delivered': 2250,\n",
       " '200': 362,\n",
       " 'minutes': 4531,\n",
       " '100': 272,\n",
       " 'camcorder': 1646,\n",
       " '08000930705': 53,\n",
       " 'dust': 2512,\n",
       " 'related': 5724,\n",
       " 'trade': 7073,\n",
       " 'arul': 1108,\n",
       " 'awesome': 1191,\n",
       " 'regular': 5722,\n",
       " 'unless': 7237,\n",
       " 'see': 6039,\n",
       " 'being': 1325,\n",
       " 'contacted': 2004,\n",
       " 'dating': 2193,\n",
       " '09064017305': 226,\n",
       " 'pobox75ldns7': 5317,\n",
       " 'birthday': 1384,\n",
       " 'dreams': 2461,\n",
       " 'true': 7118,\n",
       " 'more': 4612,\n",
       " 'though': 6925,\n",
       " 'whatever': 7540,\n",
       " 'swt': 6728,\n",
       " 'nver': 4899,\n",
       " 'tired': 6973,\n",
       " 'little': 4174,\n",
       " 'lovable': 4247,\n",
       " 'persons': 5205,\n",
       " 'coz': 2072,\n",
       " 'somtimes': 6374,\n",
       " 'those': 6922,\n",
       " 'occupy': 4922,\n",
       " 'biggest': 1367,\n",
       " 'part': 5128,\n",
       " 'their': 6883,\n",
       " 'hearts': 3409,\n",
       " 'ni8': 4799,\n",
       " 'head': 3393,\n",
       " 'few': 2847,\n",
       " 'print': 5457,\n",
       " 'outs': 5057,\n",
       " 'orchard': 5018,\n",
       " 'near': 4747,\n",
       " 'univ': 7232,\n",
       " 'wife': 7576,\n",
       " 'knew': 3980,\n",
       " 'murder': 4678,\n",
       " 'exactly': 2715,\n",
       " 'xmas': 7718,\n",
       " 'iscoming': 3778,\n",
       " '500': 548,\n",
       " 'cd': 1717,\n",
       " 'gift': 3154,\n",
       " 'vouchers': 7390,\n",
       " 'weekly': 7506,\n",
       " 'draw': 2458,\n",
       " 'music': 4684,\n",
       " '87066': 711,\n",
       " 'tnc': 6996,\n",
       " 'ldew': 4069,\n",
       " 'com1win150ppmx3age16subscription': 1926,\n",
       " 'sad': 5930,\n",
       " 'puppy': 5544,\n",
       " 'noise': 4834,\n",
       " 'complete': 1955,\n",
       " 'payed': 5161,\n",
       " 'suganya': 6639,\n",
       " 'umma': 7195,\n",
       " 'speed': 6431,\n",
       " 'quitting': 5583,\n",
       " 'least5times': 4081,\n",
       " 'wudn': 7703,\n",
       " 'nah': 4708,\n",
       " 'didn': 2319,\n",
       " 'taunton': 6783,\n",
       " 'aftr': 879,\n",
       " 'cleaning': 1859,\n",
       " 'house': 3543,\n",
       " 'special': 6424,\n",
       " 'sipix': 6242,\n",
       " 'digital': 2334,\n",
       " '09061221066': 205,\n",
       " 'fromm': 3043,\n",
       " 'delivery': 2252,\n",
       " 'within': 7613,\n",
       " '28': 391,\n",
       " 'days': 2197,\n",
       " 'nothing': 4869,\n",
       " 'ever': 2688,\n",
       " 'easy': 2530,\n",
       " 'reason': 5662,\n",
       " 'risk': 5850,\n",
       " 'yar': 7737,\n",
       " 'mum': 4670,\n",
       " 'whole': 7563,\n",
       " 'morning': 4616,\n",
       " 'stay': 6517,\n",
       " 'clean': 1858,\n",
       " 'room': 5874,\n",
       " 'hee': 3415,\n",
       " 'yck': 7744,\n",
       " 'bday': 1290,\n",
       " 'real': 5651,\n",
       " 'april': 1066,\n",
       " 'should': 6179,\n",
       " 'made': 4324,\n",
       " 'appointment': 1054,\n",
       " 'date': 2190,\n",
       " 'sunday': 6659,\n",
       " 'diet': 2325,\n",
       " 'flew': 2915,\n",
       " 'window': 7589,\n",
       " 'sound': 6399,\n",
       " 'effects': 2553,\n",
       " 'gorgeous': 3220,\n",
       " 'man': 4358,\n",
       " 'isn': 3783,\n",
       " 'kind': 3963,\n",
       " 'needs': 4763,\n",
       " 'brighten': 1523,\n",
       " 'university': 7233,\n",
       " 'southern': 6407,\n",
       " 'california': 1626,\n",
       " 'abeg': 770,\n",
       " 'profit': 5489,\n",
       " 'start': 6506,\n",
       " 'sponsors': 6459,\n",
       " 'next': 4797,\n",
       " 'event': 2685,\n",
       " 'off': 4932,\n",
       " 'phones': 5229,\n",
       " 'having': 3389,\n",
       " 'problems': 5477,\n",
       " 'meds': 4448,\n",
       " 'once': 4976,\n",
       " 'hours': 3542,\n",
       " 'took': 7038,\n",
       " 'another': 1007,\n",
       " 'lul': 4282,\n",
       " 'gettin': 3146,\n",
       " 'juicy': 3887,\n",
       " 'gossip': 3222,\n",
       " 'hospital': 3529,\n",
       " 'two': 7161,\n",
       " 'nurses': 4895,\n",
       " 'fat': 2810,\n",
       " 'thinks': 6912,\n",
       " 'shes': 6140,\n",
       " 'obese': 4914,\n",
       " 'oyea': 5079,\n",
       " 'crashed': 2083,\n",
       " 'cuddled': 2127,\n",
       " 'sofa': 6348,\n",
       " 'ride': 5837,\n",
       " 'cause': 1710,\n",
       " 'used': 7287,\n",
       " 'otherwise': 5039,\n",
       " 'mag': 4329,\n",
       " 'avo': 1181,\n",
       " 'point': 5326,\n",
       " 'weirdo': 7513,\n",
       " 'fuck': 3049,\n",
       " 'family': 2793,\n",
       " 'rhode': 5831,\n",
       " 'island': 3781,\n",
       " 'wherever': 7552,\n",
       " 'leaving': 4084,\n",
       " 'alone': 948,\n",
       " 'bong': 1441,\n",
       " 'emigrated': 2591,\n",
       " 'something': 6368,\n",
       " 'hopeful': 3518,\n",
       " 'usual': 7297,\n",
       " 'iam': 3601,\n",
       " 'why': 7569,\n",
       " 'ffffuuuuuuu': 2850,\n",
       " 'masters': 4400,\n",
       " 'bb': 1275,\n",
       " 'sale': 5941,\n",
       " 'bf': 1355,\n",
       " 'cooked': 2025,\n",
       " ...}"
      ]
     },
     "execution_count": 14,
     "metadata": {},
     "output_type": "execute_result"
    }
   ],
   "source": [
    "v.vocabulary_"
   ]
  },
  {
   "cell_type": "code",
   "execution_count": 15,
   "id": "89f765f8",
   "metadata": {
    "execution": {
     "iopub.execute_input": "2023-03-14T19:31:00.196555Z",
     "iopub.status.busy": "2023-03-14T19:31:00.195698Z",
     "iopub.status.idle": "2023-03-14T19:31:00.355586Z",
     "shell.execute_reply": "2023-03-14T19:31:00.354486Z"
    },
    "papermill": {
     "duration": 0.191053,
     "end_time": "2023-03-14T19:31:00.358322",
     "exception": false,
     "start_time": "2023-03-14T19:31:00.167269",
     "status": "completed"
    },
    "tags": []
   },
   "outputs": [
    {
     "data": {
      "text/plain": [
       "array([[0, 0, 0, ..., 0, 0, 0],\n",
       "       [0, 0, 0, ..., 0, 0, 0],\n",
       "       [0, 0, 0, ..., 0, 0, 0],\n",
       "       [0, 0, 0, ..., 0, 0, 0]])"
      ]
     },
     "execution_count": 15,
     "metadata": {},
     "output_type": "execute_result"
    }
   ],
   "source": [
    "X_train_np = X_train_cv.toarray()\n",
    "X_train_np[:4]"
   ]
  },
  {
   "cell_type": "code",
   "execution_count": 16,
   "id": "c64c8c8d",
   "metadata": {
    "execution": {
     "iopub.execute_input": "2023-03-14T19:31:00.414250Z",
     "iopub.status.busy": "2023-03-14T19:31:00.413252Z",
     "iopub.status.idle": "2023-03-14T19:31:00.421225Z",
     "shell.execute_reply": "2023-03-14T19:31:00.419958Z"
    },
    "papermill": {
     "duration": 0.038852,
     "end_time": "2023-03-14T19:31:00.423730",
     "exception": false,
     "start_time": "2023-03-14T19:31:00.384878",
     "status": "completed"
    },
    "tags": []
   },
   "outputs": [
    {
     "data": {
      "text/plain": [
       "(array([  17,  255,  299,  323,  419,  547, 1151, 1200, 1627, 1631, 2003,\n",
       "        2115, 3383, 3777, 4422, 4574, 5830, 6877, 6916, 6998, 7640]),)"
      ]
     },
     "execution_count": 16,
     "metadata": {},
     "output_type": "execute_result"
    }
   ],
   "source": [
    "np.where(X_train_np[0]!=0)"
   ]
  },
  {
   "cell_type": "code",
   "execution_count": 17,
   "id": "41106a98",
   "metadata": {
    "execution": {
     "iopub.execute_input": "2023-03-14T19:31:00.483054Z",
     "iopub.status.busy": "2023-03-14T19:31:00.481597Z",
     "iopub.status.idle": "2023-03-14T19:31:00.490003Z",
     "shell.execute_reply": "2023-03-14T19:31:00.488532Z"
    },
    "papermill": {
     "duration": 0.039894,
     "end_time": "2023-03-14T19:31:00.492459",
     "exception": false,
     "start_time": "2023-03-14T19:31:00.452565",
     "status": "completed"
    },
    "tags": []
   },
   "outputs": [
    {
     "data": {
      "text/plain": [
       "1"
      ]
     },
     "execution_count": 17,
     "metadata": {},
     "output_type": "execute_result"
    }
   ],
   "source": [
    "X_train_np[0][1151]"
   ]
  },
  {
   "cell_type": "code",
   "execution_count": 18,
   "id": "22371be9",
   "metadata": {
    "execution": {
     "iopub.execute_input": "2023-03-14T19:31:00.549315Z",
     "iopub.status.busy": "2023-03-14T19:31:00.548733Z",
     "iopub.status.idle": "2023-03-14T19:31:00.564412Z",
     "shell.execute_reply": "2023-03-14T19:31:00.563063Z"
    },
    "papermill": {
     "duration": 0.047581,
     "end_time": "2023-03-14T19:31:00.567143",
     "exception": false,
     "start_time": "2023-03-14T19:31:00.519562",
     "status": "completed"
    },
    "tags": []
   },
   "outputs": [
    {
     "data": {
      "text/plain": [
       "'attempt'"
      ]
     },
     "execution_count": 18,
     "metadata": {},
     "output_type": "execute_result"
    }
   ],
   "source": [
    "v.get_feature_names_out()[1151]"
   ]
  },
  {
   "cell_type": "code",
   "execution_count": 19,
   "id": "c45151c7",
   "metadata": {
    "execution": {
     "iopub.execute_input": "2023-03-14T19:31:00.625240Z",
     "iopub.status.busy": "2023-03-14T19:31:00.624282Z",
     "iopub.status.idle": "2023-03-14T19:31:00.634214Z",
     "shell.execute_reply": "2023-03-14T19:31:00.632861Z"
    },
    "papermill": {
     "duration": 0.041359,
     "end_time": "2023-03-14T19:31:00.636838",
     "exception": false,
     "start_time": "2023-03-14T19:31:00.595479",
     "status": "completed"
    },
    "tags": []
   },
   "outputs": [
    {
     "data": {
      "text/plain": [
       "1658    RGENT! This is the 2nd attempt to contact U!U ...\n",
       "1509    When u love someone Dont make them to love u a...\n",
       "3266                    Ok then i come n pick u at engin?\n",
       "5199           Ugh my leg hurts. Musta overdid it on mon.\n",
       "Name: v2, dtype: object"
      ]
     },
     "execution_count": 19,
     "metadata": {},
     "output_type": "execute_result"
    }
   ],
   "source": [
    "X_train[:4]"
   ]
  },
  {
   "cell_type": "markdown",
   "id": "b09ff850",
   "metadata": {
    "papermill": {
     "duration": 0.026167,
     "end_time": "2023-03-14T19:31:00.689690",
     "exception": false,
     "start_time": "2023-03-14T19:31:00.663523",
     "status": "completed"
    },
    "tags": []
   },
   "source": [
    "# Modelling"
   ]
  },
  {
   "cell_type": "code",
   "execution_count": 20,
   "id": "161c5420",
   "metadata": {
    "execution": {
     "iopub.execute_input": "2023-03-14T19:31:00.747423Z",
     "iopub.status.busy": "2023-03-14T19:31:00.746878Z",
     "iopub.status.idle": "2023-03-14T19:31:00.775217Z",
     "shell.execute_reply": "2023-03-14T19:31:00.773865Z"
    },
    "papermill": {
     "duration": 0.061546,
     "end_time": "2023-03-14T19:31:00.778154",
     "exception": false,
     "start_time": "2023-03-14T19:31:00.716608",
     "status": "completed"
    },
    "tags": []
   },
   "outputs": [
    {
     "data": {
      "text/plain": [
       "MultinomialNB()"
      ]
     },
     "execution_count": 20,
     "metadata": {},
     "output_type": "execute_result"
    }
   ],
   "source": [
    "from sklearn.naive_bayes import MultinomialNB\n",
    "\n",
    "model = MultinomialNB()\n",
    "model.fit(X_train_cv, y_train)"
   ]
  },
  {
   "cell_type": "code",
   "execution_count": 21,
   "id": "29c2c58e",
   "metadata": {
    "execution": {
     "iopub.execute_input": "2023-03-14T19:31:00.836116Z",
     "iopub.status.busy": "2023-03-14T19:31:00.834745Z",
     "iopub.status.idle": "2023-03-14T19:31:00.861009Z",
     "shell.execute_reply": "2023-03-14T19:31:00.859583Z"
    },
    "papermill": {
     "duration": 0.058823,
     "end_time": "2023-03-14T19:31:00.864232",
     "exception": false,
     "start_time": "2023-03-14T19:31:00.805409",
     "status": "completed"
    },
    "tags": []
   },
   "outputs": [],
   "source": [
    "X_test_cv = v.transform(X_test)"
   ]
  },
  {
   "cell_type": "code",
   "execution_count": 22,
   "id": "a6f90dab",
   "metadata": {
    "execution": {
     "iopub.execute_input": "2023-03-14T19:31:00.922116Z",
     "iopub.status.busy": "2023-03-14T19:31:00.921124Z",
     "iopub.status.idle": "2023-03-14T19:31:00.935985Z",
     "shell.execute_reply": "2023-03-14T19:31:00.934277Z"
    },
    "papermill": {
     "duration": 0.047022,
     "end_time": "2023-03-14T19:31:00.938986",
     "exception": false,
     "start_time": "2023-03-14T19:31:00.891964",
     "status": "completed"
    },
    "tags": []
   },
   "outputs": [
    {
     "name": "stdout",
     "output_type": "stream",
     "text": [
      "              precision    recall  f1-score   support\n",
      "\n",
      "           0       0.99      1.00      0.99       978\n",
      "           1       0.98      0.92      0.95       137\n",
      "\n",
      "    accuracy                           0.99      1115\n",
      "   macro avg       0.99      0.96      0.97      1115\n",
      "weighted avg       0.99      0.99      0.99      1115\n",
      "\n"
     ]
    }
   ],
   "source": [
    "from sklearn.metrics import classification_report\n",
    "\n",
    "y_pred = model.predict(X_test_cv)\n",
    "# f1 score important due to imbalance dataset\n",
    "print(classification_report(y_test, y_pred))"
   ]
  },
  {
   "cell_type": "code",
   "execution_count": 23,
   "id": "1839092e",
   "metadata": {
    "execution": {
     "iopub.execute_input": "2023-03-14T19:31:00.996909Z",
     "iopub.status.busy": "2023-03-14T19:31:00.995947Z",
     "iopub.status.idle": "2023-03-14T19:31:01.006318Z",
     "shell.execute_reply": "2023-03-14T19:31:01.005246Z"
    },
    "papermill": {
     "duration": 0.04211,
     "end_time": "2023-03-14T19:31:01.008912",
     "exception": false,
     "start_time": "2023-03-14T19:31:00.966802",
     "status": "completed"
    },
    "tags": []
   },
   "outputs": [
    {
     "data": {
      "text/plain": [
       "array([0, 1])"
      ]
     },
     "execution_count": 23,
     "metadata": {},
     "output_type": "execute_result"
    }
   ],
   "source": [
    "emails = [\n",
    "    \"Hello you want to hang out tonight baby, just like last night, i have offer for you\",\n",
    "    \"20% discount on parking, exclusive offer only for you\"\n",
    "]\n",
    "\n",
    "emails_count = v.transform(emails)\n",
    "model.predict(emails_count)"
   ]
  },
  {
   "cell_type": "markdown",
   "id": "4eaf2ceb",
   "metadata": {
    "papermill": {
     "duration": 0.027034,
     "end_time": "2023-03-14T19:31:01.063655",
     "exception": false,
     "start_time": "2023-03-14T19:31:01.036621",
     "status": "completed"
    },
    "tags": []
   },
   "source": [
    "## Pipeline"
   ]
  },
  {
   "cell_type": "code",
   "execution_count": 24,
   "id": "beee5e81",
   "metadata": {
    "execution": {
     "iopub.execute_input": "2023-03-14T19:31:01.121008Z",
     "iopub.status.busy": "2023-03-14T19:31:01.120148Z",
     "iopub.status.idle": "2023-03-14T19:31:01.135038Z",
     "shell.execute_reply": "2023-03-14T19:31:01.133667Z"
    },
    "papermill": {
     "duration": 0.047542,
     "end_time": "2023-03-14T19:31:01.138433",
     "exception": false,
     "start_time": "2023-03-14T19:31:01.090891",
     "status": "completed"
    },
    "tags": []
   },
   "outputs": [],
   "source": [
    "from sklearn.pipeline import Pipeline\n",
    "\n",
    "clf = Pipeline([\n",
    "    (\"vectorizer\", CountVectorizer()),\n",
    "    (\"nb\", MultinomialNB())\n",
    "])"
   ]
  },
  {
   "cell_type": "code",
   "execution_count": 25,
   "id": "4b8c2696",
   "metadata": {
    "execution": {
     "iopub.execute_input": "2023-03-14T19:31:01.197995Z",
     "iopub.status.busy": "2023-03-14T19:31:01.197143Z",
     "iopub.status.idle": "2023-03-14T19:31:01.299220Z",
     "shell.execute_reply": "2023-03-14T19:31:01.297452Z"
    },
    "papermill": {
     "duration": 0.135516,
     "end_time": "2023-03-14T19:31:01.302327",
     "exception": false,
     "start_time": "2023-03-14T19:31:01.166811",
     "status": "completed"
    },
    "tags": []
   },
   "outputs": [
    {
     "data": {
      "text/plain": [
       "Pipeline(steps=[('vectorizer', CountVectorizer()), ('nb', MultinomialNB())])"
      ]
     },
     "execution_count": 25,
     "metadata": {},
     "output_type": "execute_result"
    }
   ],
   "source": [
    "clf.fit(X_train, y_train)"
   ]
  },
  {
   "cell_type": "code",
   "execution_count": 26,
   "id": "80b0e728",
   "metadata": {
    "execution": {
     "iopub.execute_input": "2023-03-14T19:31:01.360247Z",
     "iopub.status.busy": "2023-03-14T19:31:01.359805Z",
     "iopub.status.idle": "2023-03-14T19:31:01.392303Z",
     "shell.execute_reply": "2023-03-14T19:31:01.390337Z"
    },
    "papermill": {
     "duration": 0.065928,
     "end_time": "2023-03-14T19:31:01.395948",
     "exception": false,
     "start_time": "2023-03-14T19:31:01.330020",
     "status": "completed"
    },
    "tags": []
   },
   "outputs": [
    {
     "name": "stdout",
     "output_type": "stream",
     "text": [
      "              precision    recall  f1-score   support\n",
      "\n",
      "           0       0.99      1.00      0.99       978\n",
      "           1       0.98      0.92      0.95       137\n",
      "\n",
      "    accuracy                           0.99      1115\n",
      "   macro avg       0.99      0.96      0.97      1115\n",
      "weighted avg       0.99      0.99      0.99      1115\n",
      "\n"
     ]
    }
   ],
   "source": [
    "y_pred = clf.predict(X_test)\n",
    "\n",
    "print(classification_report(y_test, y_pred))"
   ]
  },
  {
   "cell_type": "markdown",
   "id": "63abb096",
   "metadata": {
    "papermill": {
     "duration": 0.029483,
     "end_time": "2023-03-14T19:31:01.454816",
     "exception": false,
     "start_time": "2023-03-14T19:31:01.425333",
     "status": "completed"
    },
    "tags": []
   },
   "source": [
    "# Stop Words"
   ]
  },
  {
   "cell_type": "code",
   "execution_count": 27,
   "id": "b4ca6a42",
   "metadata": {
    "collapsed": true,
    "execution": {
     "iopub.execute_input": "2023-03-14T19:31:01.513419Z",
     "iopub.status.busy": "2023-03-14T19:31:01.513001Z",
     "iopub.status.idle": "2023-03-14T19:31:17.967650Z",
     "shell.execute_reply": "2023-03-14T19:31:17.966279Z"
    },
    "jupyter": {
     "outputs_hidden": true
    },
    "papermill": {
     "duration": 16.488089,
     "end_time": "2023-03-14T19:31:17.970721",
     "exception": false,
     "start_time": "2023-03-14T19:31:01.482632",
     "status": "completed"
    },
    "tags": []
   },
   "outputs": [
    {
     "data": {
      "text/plain": [
       "{\"'d\",\n",
       " \"'ll\",\n",
       " \"'m\",\n",
       " \"'re\",\n",
       " \"'s\",\n",
       " \"'ve\",\n",
       " 'a',\n",
       " 'about',\n",
       " 'above',\n",
       " 'across',\n",
       " 'after',\n",
       " 'afterwards',\n",
       " 'again',\n",
       " 'against',\n",
       " 'all',\n",
       " 'almost',\n",
       " 'alone',\n",
       " 'along',\n",
       " 'already',\n",
       " 'also',\n",
       " 'although',\n",
       " 'always',\n",
       " 'am',\n",
       " 'among',\n",
       " 'amongst',\n",
       " 'amount',\n",
       " 'an',\n",
       " 'and',\n",
       " 'another',\n",
       " 'any',\n",
       " 'anyhow',\n",
       " 'anyone',\n",
       " 'anything',\n",
       " 'anyway',\n",
       " 'anywhere',\n",
       " 'are',\n",
       " 'around',\n",
       " 'as',\n",
       " 'at',\n",
       " 'back',\n",
       " 'be',\n",
       " 'became',\n",
       " 'because',\n",
       " 'become',\n",
       " 'becomes',\n",
       " 'becoming',\n",
       " 'been',\n",
       " 'before',\n",
       " 'beforehand',\n",
       " 'behind',\n",
       " 'being',\n",
       " 'below',\n",
       " 'beside',\n",
       " 'besides',\n",
       " 'between',\n",
       " 'beyond',\n",
       " 'both',\n",
       " 'bottom',\n",
       " 'but',\n",
       " 'by',\n",
       " 'ca',\n",
       " 'call',\n",
       " 'can',\n",
       " 'cannot',\n",
       " 'could',\n",
       " 'did',\n",
       " 'do',\n",
       " 'does',\n",
       " 'doing',\n",
       " 'done',\n",
       " 'down',\n",
       " 'due',\n",
       " 'during',\n",
       " 'each',\n",
       " 'eight',\n",
       " 'either',\n",
       " 'eleven',\n",
       " 'else',\n",
       " 'elsewhere',\n",
       " 'empty',\n",
       " 'enough',\n",
       " 'even',\n",
       " 'ever',\n",
       " 'every',\n",
       " 'everyone',\n",
       " 'everything',\n",
       " 'everywhere',\n",
       " 'except',\n",
       " 'few',\n",
       " 'fifteen',\n",
       " 'fifty',\n",
       " 'first',\n",
       " 'five',\n",
       " 'for',\n",
       " 'former',\n",
       " 'formerly',\n",
       " 'forty',\n",
       " 'four',\n",
       " 'from',\n",
       " 'front',\n",
       " 'full',\n",
       " 'further',\n",
       " 'get',\n",
       " 'give',\n",
       " 'go',\n",
       " 'had',\n",
       " 'has',\n",
       " 'have',\n",
       " 'he',\n",
       " 'hence',\n",
       " 'her',\n",
       " 'here',\n",
       " 'hereafter',\n",
       " 'hereby',\n",
       " 'herein',\n",
       " 'hereupon',\n",
       " 'hers',\n",
       " 'herself',\n",
       " 'him',\n",
       " 'himself',\n",
       " 'his',\n",
       " 'how',\n",
       " 'however',\n",
       " 'hundred',\n",
       " 'i',\n",
       " 'if',\n",
       " 'in',\n",
       " 'indeed',\n",
       " 'into',\n",
       " 'is',\n",
       " 'it',\n",
       " 'its',\n",
       " 'itself',\n",
       " 'just',\n",
       " 'keep',\n",
       " 'last',\n",
       " 'latter',\n",
       " 'latterly',\n",
       " 'least',\n",
       " 'less',\n",
       " 'made',\n",
       " 'make',\n",
       " 'many',\n",
       " 'may',\n",
       " 'me',\n",
       " 'meanwhile',\n",
       " 'might',\n",
       " 'mine',\n",
       " 'more',\n",
       " 'moreover',\n",
       " 'most',\n",
       " 'mostly',\n",
       " 'move',\n",
       " 'much',\n",
       " 'must',\n",
       " 'my',\n",
       " 'myself',\n",
       " \"n't\",\n",
       " 'name',\n",
       " 'namely',\n",
       " 'neither',\n",
       " 'never',\n",
       " 'nevertheless',\n",
       " 'next',\n",
       " 'nine',\n",
       " 'no',\n",
       " 'nobody',\n",
       " 'none',\n",
       " 'noone',\n",
       " 'nor',\n",
       " 'not',\n",
       " 'nothing',\n",
       " 'now',\n",
       " 'nowhere',\n",
       " 'n‘t',\n",
       " 'n’t',\n",
       " 'of',\n",
       " 'off',\n",
       " 'often',\n",
       " 'on',\n",
       " 'once',\n",
       " 'one',\n",
       " 'only',\n",
       " 'onto',\n",
       " 'or',\n",
       " 'other',\n",
       " 'others',\n",
       " 'otherwise',\n",
       " 'our',\n",
       " 'ours',\n",
       " 'ourselves',\n",
       " 'out',\n",
       " 'over',\n",
       " 'own',\n",
       " 'part',\n",
       " 'per',\n",
       " 'perhaps',\n",
       " 'please',\n",
       " 'put',\n",
       " 'quite',\n",
       " 'rather',\n",
       " 're',\n",
       " 'really',\n",
       " 'regarding',\n",
       " 'same',\n",
       " 'say',\n",
       " 'see',\n",
       " 'seem',\n",
       " 'seemed',\n",
       " 'seeming',\n",
       " 'seems',\n",
       " 'serious',\n",
       " 'several',\n",
       " 'she',\n",
       " 'should',\n",
       " 'show',\n",
       " 'side',\n",
       " 'since',\n",
       " 'six',\n",
       " 'sixty',\n",
       " 'so',\n",
       " 'some',\n",
       " 'somehow',\n",
       " 'someone',\n",
       " 'something',\n",
       " 'sometime',\n",
       " 'sometimes',\n",
       " 'somewhere',\n",
       " 'still',\n",
       " 'such',\n",
       " 'take',\n",
       " 'ten',\n",
       " 'than',\n",
       " 'that',\n",
       " 'the',\n",
       " 'their',\n",
       " 'them',\n",
       " 'themselves',\n",
       " 'then',\n",
       " 'thence',\n",
       " 'there',\n",
       " 'thereafter',\n",
       " 'thereby',\n",
       " 'therefore',\n",
       " 'therein',\n",
       " 'thereupon',\n",
       " 'these',\n",
       " 'they',\n",
       " 'third',\n",
       " 'this',\n",
       " 'those',\n",
       " 'though',\n",
       " 'three',\n",
       " 'through',\n",
       " 'throughout',\n",
       " 'thru',\n",
       " 'thus',\n",
       " 'to',\n",
       " 'together',\n",
       " 'too',\n",
       " 'top',\n",
       " 'toward',\n",
       " 'towards',\n",
       " 'twelve',\n",
       " 'twenty',\n",
       " 'two',\n",
       " 'under',\n",
       " 'unless',\n",
       " 'until',\n",
       " 'up',\n",
       " 'upon',\n",
       " 'us',\n",
       " 'used',\n",
       " 'using',\n",
       " 'various',\n",
       " 'very',\n",
       " 'via',\n",
       " 'was',\n",
       " 'we',\n",
       " 'well',\n",
       " 'were',\n",
       " 'what',\n",
       " 'whatever',\n",
       " 'when',\n",
       " 'whence',\n",
       " 'whenever',\n",
       " 'where',\n",
       " 'whereafter',\n",
       " 'whereas',\n",
       " 'whereby',\n",
       " 'wherein',\n",
       " 'whereupon',\n",
       " 'wherever',\n",
       " 'whether',\n",
       " 'which',\n",
       " 'while',\n",
       " 'whither',\n",
       " 'who',\n",
       " 'whoever',\n",
       " 'whole',\n",
       " 'whom',\n",
       " 'whose',\n",
       " 'why',\n",
       " 'will',\n",
       " 'with',\n",
       " 'within',\n",
       " 'without',\n",
       " 'would',\n",
       " 'yet',\n",
       " 'you',\n",
       " 'your',\n",
       " 'yours',\n",
       " 'yourself',\n",
       " 'yourselves',\n",
       " '‘d',\n",
       " '‘ll',\n",
       " '‘m',\n",
       " '‘re',\n",
       " '‘s',\n",
       " '‘ve',\n",
       " '’d',\n",
       " '’ll',\n",
       " '’m',\n",
       " '’re',\n",
       " '’s',\n",
       " '’ve'}"
      ]
     },
     "execution_count": 27,
     "metadata": {},
     "output_type": "execute_result"
    }
   ],
   "source": [
    "import spacy\n",
    "from spacy.lang.en.stop_words import STOP_WORDS\n",
    "\n",
    "STOP_WORDS"
   ]
  },
  {
   "cell_type": "code",
   "execution_count": 28,
   "id": "374c4a09",
   "metadata": {
    "execution": {
     "iopub.execute_input": "2023-03-14T19:31:18.030845Z",
     "iopub.status.busy": "2023-03-14T19:31:18.030013Z",
     "iopub.status.idle": "2023-03-14T19:31:18.942052Z",
     "shell.execute_reply": "2023-03-14T19:31:18.940287Z"
    },
    "papermill": {
     "duration": 0.946284,
     "end_time": "2023-03-14T19:31:18.945246",
     "exception": false,
     "start_time": "2023-03-14T19:31:17.998962",
     "status": "completed"
    },
    "tags": []
   },
   "outputs": [
    {
     "name": "stdout",
     "output_type": "stream",
     "text": [
      "We\n",
      "just\n",
      "our\n",
      "the\n",
      "part\n",
      "is\n"
     ]
    }
   ],
   "source": [
    "nlp = spacy.load(\"en_core_web_sm\")\n",
    "doc = nlp(\"We just opened our wings, the flying part is coming soon\")\n",
    "\n",
    "for token in doc:\n",
    "    if token.is_stop:\n",
    "        print(token)"
   ]
  },
  {
   "cell_type": "code",
   "execution_count": 29,
   "id": "a6a8635b",
   "metadata": {
    "execution": {
     "iopub.execute_input": "2023-03-14T19:31:19.006612Z",
     "iopub.status.busy": "2023-03-14T19:31:19.005311Z",
     "iopub.status.idle": "2023-03-14T19:31:19.014230Z",
     "shell.execute_reply": "2023-03-14T19:31:19.012374Z"
    },
    "papermill": {
     "duration": 0.044071,
     "end_time": "2023-03-14T19:31:19.017661",
     "exception": false,
     "start_time": "2023-03-14T19:31:18.973590",
     "status": "completed"
    },
    "tags": []
   },
   "outputs": [],
   "source": [
    "def preprocess(text):\n",
    "    doc = nlp(text)\n",
    "    \n",
    "    no_stop_words = [token.text for token in doc if not token.is_stop and not token.is_punct]\n",
    "    no_stop_words = \" \".join(no_stop_words)\n",
    "    return no_stop_words"
   ]
  },
  {
   "cell_type": "code",
   "execution_count": 30,
   "id": "217d78b6",
   "metadata": {
    "execution": {
     "iopub.execute_input": "2023-03-14T19:31:19.076703Z",
     "iopub.status.busy": "2023-03-14T19:31:19.076192Z",
     "iopub.status.idle": "2023-03-14T19:31:19.097911Z",
     "shell.execute_reply": "2023-03-14T19:31:19.096043Z"
    },
    "papermill": {
     "duration": 0.054717,
     "end_time": "2023-03-14T19:31:19.100854",
     "exception": false,
     "start_time": "2023-03-14T19:31:19.046137",
     "status": "completed"
    },
    "tags": []
   },
   "outputs": [
    {
     "data": {
      "text/plain": [
       "'opened wings flying coming soon'"
      ]
     },
     "execution_count": 30,
     "metadata": {},
     "output_type": "execute_result"
    }
   ],
   "source": [
    "preprocess(\"We just opened our wings, the flying part is coming soon\")"
   ]
  },
  {
   "cell_type": "code",
   "execution_count": 31,
   "id": "63772b23",
   "metadata": {
    "execution": {
     "iopub.execute_input": "2023-03-14T19:31:19.160632Z",
     "iopub.status.busy": "2023-03-14T19:31:19.159537Z",
     "iopub.status.idle": "2023-03-14T19:31:22.372697Z",
     "shell.execute_reply": "2023-03-14T19:31:22.371098Z"
    },
    "papermill": {
     "duration": 3.246397,
     "end_time": "2023-03-14T19:31:22.375677",
     "exception": false,
     "start_time": "2023-03-14T19:31:19.129280",
     "status": "completed"
    },
    "tags": []
   },
   "outputs": [
    {
     "data": {
      "text/plain": [
       "(13087, 6)"
      ]
     },
     "execution_count": 31,
     "metadata": {},
     "output_type": "execute_result"
    }
   ],
   "source": [
    "df = pd.read_json(\"/kaggle/input/department-of-justice-20092018-press-releases/combined.json\",lines=True)\n",
    "\n",
    "df.shape"
   ]
  },
  {
   "cell_type": "code",
   "execution_count": 32,
   "id": "3a0bb9f9",
   "metadata": {
    "execution": {
     "iopub.execute_input": "2023-03-14T19:31:22.432736Z",
     "iopub.status.busy": "2023-03-14T19:31:22.432234Z",
     "iopub.status.idle": "2023-03-14T19:31:22.452061Z",
     "shell.execute_reply": "2023-03-14T19:31:22.450651Z"
    },
    "papermill": {
     "duration": 0.051682,
     "end_time": "2023-03-14T19:31:22.454859",
     "exception": false,
     "start_time": "2023-03-14T19:31:22.403177",
     "status": "completed"
    },
    "tags": []
   },
   "outputs": [
    {
     "data": {
      "text/html": [
       "<div>\n",
       "<style scoped>\n",
       "    .dataframe tbody tr th:only-of-type {\n",
       "        vertical-align: middle;\n",
       "    }\n",
       "\n",
       "    .dataframe tbody tr th {\n",
       "        vertical-align: top;\n",
       "    }\n",
       "\n",
       "    .dataframe thead th {\n",
       "        text-align: right;\n",
       "    }\n",
       "</style>\n",
       "<table border=\"1\" class=\"dataframe\">\n",
       "  <thead>\n",
       "    <tr style=\"text-align: right;\">\n",
       "      <th></th>\n",
       "      <th>id</th>\n",
       "      <th>title</th>\n",
       "      <th>contents</th>\n",
       "      <th>date</th>\n",
       "      <th>topics</th>\n",
       "      <th>components</th>\n",
       "    </tr>\n",
       "  </thead>\n",
       "  <tbody>\n",
       "    <tr>\n",
       "      <th>0</th>\n",
       "      <td>None</td>\n",
       "      <td>Convicted Bomb Plotter Sentenced to 30 Years</td>\n",
       "      <td>PORTLAND, Oregon. – Mohamed Osman Mohamud, 23,...</td>\n",
       "      <td>2014-10-01T00:00:00-04:00</td>\n",
       "      <td>[]</td>\n",
       "      <td>[National Security Division (NSD)]</td>\n",
       "    </tr>\n",
       "    <tr>\n",
       "      <th>1</th>\n",
       "      <td>12-919</td>\n",
       "      <td>$1 Million in Restitution Payments Announced t...</td>\n",
       "      <td>WASHINGTON – North Carolina’s Waccamaw River...</td>\n",
       "      <td>2012-07-25T00:00:00-04:00</td>\n",
       "      <td>[]</td>\n",
       "      <td>[Environment and Natural Resources Division]</td>\n",
       "    </tr>\n",
       "    <tr>\n",
       "      <th>2</th>\n",
       "      <td>11-1002</td>\n",
       "      <td>$1 Million Settlement Reached for Natural Reso...</td>\n",
       "      <td>BOSTON– A $1-million settlement has been...</td>\n",
       "      <td>2011-08-03T00:00:00-04:00</td>\n",
       "      <td>[]</td>\n",
       "      <td>[Environment and Natural Resources Division]</td>\n",
       "    </tr>\n",
       "    <tr>\n",
       "      <th>3</th>\n",
       "      <td>10-015</td>\n",
       "      <td>10 Las Vegas Men Indicted \\r\\nfor Falsifying V...</td>\n",
       "      <td>WASHINGTON—A federal grand jury in Las Vegas...</td>\n",
       "      <td>2010-01-08T00:00:00-05:00</td>\n",
       "      <td>[]</td>\n",
       "      <td>[Environment and Natural Resources Division]</td>\n",
       "    </tr>\n",
       "    <tr>\n",
       "      <th>4</th>\n",
       "      <td>18-898</td>\n",
       "      <td>$100 Million Settlement Will Speed Cleanup Wor...</td>\n",
       "      <td>The U.S. Department of Justice, the U.S. Envir...</td>\n",
       "      <td>2018-07-09T00:00:00-04:00</td>\n",
       "      <td>[Environment]</td>\n",
       "      <td>[Environment and Natural Resources Division]</td>\n",
       "    </tr>\n",
       "  </tbody>\n",
       "</table>\n",
       "</div>"
      ],
      "text/plain": [
       "        id                                              title  \\\n",
       "0     None       Convicted Bomb Plotter Sentenced to 30 Years   \n",
       "1  12-919   $1 Million in Restitution Payments Announced t...   \n",
       "2  11-1002  $1 Million Settlement Reached for Natural Reso...   \n",
       "3   10-015  10 Las Vegas Men Indicted \\r\\nfor Falsifying V...   \n",
       "4   18-898  $100 Million Settlement Will Speed Cleanup Wor...   \n",
       "\n",
       "                                            contents  \\\n",
       "0  PORTLAND, Oregon. – Mohamed Osman Mohamud, 23,...   \n",
       "1    WASHINGTON – North Carolina’s Waccamaw River...   \n",
       "2        BOSTON– A $1-million settlement has been...   \n",
       "3    WASHINGTON—A federal grand jury in Las Vegas...   \n",
       "4  The U.S. Department of Justice, the U.S. Envir...   \n",
       "\n",
       "                        date         topics  \\\n",
       "0  2014-10-01T00:00:00-04:00             []   \n",
       "1  2012-07-25T00:00:00-04:00             []   \n",
       "2  2011-08-03T00:00:00-04:00             []   \n",
       "3  2010-01-08T00:00:00-05:00             []   \n",
       "4  2018-07-09T00:00:00-04:00  [Environment]   \n",
       "\n",
       "                                     components  \n",
       "0            [National Security Division (NSD)]  \n",
       "1  [Environment and Natural Resources Division]  \n",
       "2  [Environment and Natural Resources Division]  \n",
       "3  [Environment and Natural Resources Division]  \n",
       "4  [Environment and Natural Resources Division]  "
      ]
     },
     "execution_count": 32,
     "metadata": {},
     "output_type": "execute_result"
    }
   ],
   "source": [
    "df.head(5)"
   ]
  },
  {
   "cell_type": "code",
   "execution_count": 33,
   "id": "0e9eba22",
   "metadata": {
    "execution": {
     "iopub.execute_input": "2023-03-14T19:31:22.512805Z",
     "iopub.status.busy": "2023-03-14T19:31:22.512304Z",
     "iopub.status.idle": "2023-03-14T19:31:22.544826Z",
     "shell.execute_reply": "2023-03-14T19:31:22.543042Z"
    },
    "papermill": {
     "duration": 0.065177,
     "end_time": "2023-03-14T19:31:22.548008",
     "exception": false,
     "start_time": "2023-03-14T19:31:22.482831",
     "status": "completed"
    },
    "tags": []
   },
   "outputs": [
    {
     "data": {
      "text/html": [
       "<div>\n",
       "<style scoped>\n",
       "    .dataframe tbody tr th:only-of-type {\n",
       "        vertical-align: middle;\n",
       "    }\n",
       "\n",
       "    .dataframe tbody tr th {\n",
       "        vertical-align: top;\n",
       "    }\n",
       "\n",
       "    .dataframe thead th {\n",
       "        text-align: right;\n",
       "    }\n",
       "</style>\n",
       "<table border=\"1\" class=\"dataframe\">\n",
       "  <thead>\n",
       "    <tr style=\"text-align: right;\">\n",
       "      <th></th>\n",
       "      <th>id</th>\n",
       "      <th>title</th>\n",
       "      <th>contents</th>\n",
       "      <th>date</th>\n",
       "      <th>topics</th>\n",
       "      <th>components</th>\n",
       "    </tr>\n",
       "  </thead>\n",
       "  <tbody>\n",
       "    <tr>\n",
       "      <th>4</th>\n",
       "      <td>18-898</td>\n",
       "      <td>$100 Million Settlement Will Speed Cleanup Wor...</td>\n",
       "      <td>The U.S. Department of Justice, the U.S. Envir...</td>\n",
       "      <td>2018-07-09T00:00:00-04:00</td>\n",
       "      <td>[Environment]</td>\n",
       "      <td>[Environment and Natural Resources Division]</td>\n",
       "    </tr>\n",
       "    <tr>\n",
       "      <th>7</th>\n",
       "      <td>14-1412</td>\n",
       "      <td>14 Indicted in Connection with New England Com...</td>\n",
       "      <td>A 131-count criminal indictment was unsealed t...</td>\n",
       "      <td>2014-12-17T00:00:00-05:00</td>\n",
       "      <td>[Consumer Protection]</td>\n",
       "      <td>[Civil Division]</td>\n",
       "    </tr>\n",
       "    <tr>\n",
       "      <th>19</th>\n",
       "      <td>17-1419</td>\n",
       "      <td>2017 Southeast Regional Animal Cruelty Prosecu...</td>\n",
       "      <td>The United States Attorney’s Office for the Mi...</td>\n",
       "      <td>2017-12-14T00:00:00-05:00</td>\n",
       "      <td>[Environment]</td>\n",
       "      <td>[Environment and Natural Resources Division, U...</td>\n",
       "    </tr>\n",
       "    <tr>\n",
       "      <th>22</th>\n",
       "      <td>15-1562</td>\n",
       "      <td>21st Century Oncology to Pay $19.75 Million to...</td>\n",
       "      <td>21st Century Oncology LLC, has agreed to pay $...</td>\n",
       "      <td>2015-12-18T00:00:00-05:00</td>\n",
       "      <td>[False Claims Act, Health Care Fraud]</td>\n",
       "      <td>[Civil Division]</td>\n",
       "    </tr>\n",
       "    <tr>\n",
       "      <th>23</th>\n",
       "      <td>17-1404</td>\n",
       "      <td>21st Century Oncology to Pay $26 Million to Se...</td>\n",
       "      <td>21st Century Oncology Inc. and certain of its ...</td>\n",
       "      <td>2017-12-12T00:00:00-05:00</td>\n",
       "      <td>[Health Care Fraud, False Claims Act]</td>\n",
       "      <td>[Civil Division, USAO - Florida, Middle]</td>\n",
       "    </tr>\n",
       "  </tbody>\n",
       "</table>\n",
       "</div>"
      ],
      "text/plain": [
       "         id                                              title  \\\n",
       "4    18-898  $100 Million Settlement Will Speed Cleanup Wor...   \n",
       "7   14-1412  14 Indicted in Connection with New England Com...   \n",
       "19  17-1419  2017 Southeast Regional Animal Cruelty Prosecu...   \n",
       "22  15-1562  21st Century Oncology to Pay $19.75 Million to...   \n",
       "23  17-1404  21st Century Oncology to Pay $26 Million to Se...   \n",
       "\n",
       "                                             contents  \\\n",
       "4   The U.S. Department of Justice, the U.S. Envir...   \n",
       "7   A 131-count criminal indictment was unsealed t...   \n",
       "19  The United States Attorney’s Office for the Mi...   \n",
       "22  21st Century Oncology LLC, has agreed to pay $...   \n",
       "23  21st Century Oncology Inc. and certain of its ...   \n",
       "\n",
       "                         date                                 topics  \\\n",
       "4   2018-07-09T00:00:00-04:00                          [Environment]   \n",
       "7   2014-12-17T00:00:00-05:00                  [Consumer Protection]   \n",
       "19  2017-12-14T00:00:00-05:00                          [Environment]   \n",
       "22  2015-12-18T00:00:00-05:00  [False Claims Act, Health Care Fraud]   \n",
       "23  2017-12-12T00:00:00-05:00  [Health Care Fraud, False Claims Act]   \n",
       "\n",
       "                                           components  \n",
       "4        [Environment and Natural Resources Division]  \n",
       "7                                    [Civil Division]  \n",
       "19  [Environment and Natural Resources Division, U...  \n",
       "22                                   [Civil Division]  \n",
       "23           [Civil Division, USAO - Florida, Middle]  "
      ]
     },
     "execution_count": 33,
     "metadata": {},
     "output_type": "execute_result"
    }
   ],
   "source": [
    "df = df[df[\"topics\"].str.len() != 0]\n",
    "df.head()"
   ]
  },
  {
   "cell_type": "code",
   "execution_count": 34,
   "id": "cb06a919",
   "metadata": {
    "execution": {
     "iopub.execute_input": "2023-03-14T19:31:22.608266Z",
     "iopub.status.busy": "2023-03-14T19:31:22.607772Z",
     "iopub.status.idle": "2023-03-14T19:31:22.617064Z",
     "shell.execute_reply": "2023-03-14T19:31:22.615585Z"
    },
    "papermill": {
     "duration": 0.043904,
     "end_time": "2023-03-14T19:31:22.620092",
     "exception": false,
     "start_time": "2023-03-14T19:31:22.576188",
     "status": "completed"
    },
    "tags": []
   },
   "outputs": [
    {
     "data": {
      "text/plain": [
       "(100, 6)"
      ]
     },
     "execution_count": 34,
     "metadata": {},
     "output_type": "execute_result"
    }
   ],
   "source": [
    "df =df.head(100)\n",
    "df.shape"
   ]
  },
  {
   "cell_type": "code",
   "execution_count": 35,
   "id": "5915d4a7",
   "metadata": {
    "execution": {
     "iopub.execute_input": "2023-03-14T19:31:22.683250Z",
     "iopub.status.busy": "2023-03-14T19:31:22.682770Z",
     "iopub.status.idle": "2023-03-14T19:31:36.171035Z",
     "shell.execute_reply": "2023-03-14T19:31:36.169380Z"
    },
    "papermill": {
     "duration": 13.524297,
     "end_time": "2023-03-14T19:31:36.174246",
     "exception": false,
     "start_time": "2023-03-14T19:31:22.649949",
     "status": "completed"
    },
    "tags": []
   },
   "outputs": [],
   "source": [
    "df[\"contents_new\"] = df.contents.apply(preprocess)"
   ]
  },
  {
   "cell_type": "code",
   "execution_count": 36,
   "id": "b0565c09",
   "metadata": {
    "execution": {
     "iopub.execute_input": "2023-03-14T19:31:36.239363Z",
     "iopub.status.busy": "2023-03-14T19:31:36.238158Z",
     "iopub.status.idle": "2023-03-14T19:31:36.264452Z",
     "shell.execute_reply": "2023-03-14T19:31:36.262866Z"
    },
    "papermill": {
     "duration": 0.059868,
     "end_time": "2023-03-14T19:31:36.267348",
     "exception": false,
     "start_time": "2023-03-14T19:31:36.207480",
     "status": "completed"
    },
    "tags": []
   },
   "outputs": [
    {
     "data": {
      "text/html": [
       "<div>\n",
       "<style scoped>\n",
       "    .dataframe tbody tr th:only-of-type {\n",
       "        vertical-align: middle;\n",
       "    }\n",
       "\n",
       "    .dataframe tbody tr th {\n",
       "        vertical-align: top;\n",
       "    }\n",
       "\n",
       "    .dataframe thead th {\n",
       "        text-align: right;\n",
       "    }\n",
       "</style>\n",
       "<table border=\"1\" class=\"dataframe\">\n",
       "  <thead>\n",
       "    <tr style=\"text-align: right;\">\n",
       "      <th></th>\n",
       "      <th>id</th>\n",
       "      <th>title</th>\n",
       "      <th>contents</th>\n",
       "      <th>date</th>\n",
       "      <th>topics</th>\n",
       "      <th>components</th>\n",
       "      <th>contents_new</th>\n",
       "    </tr>\n",
       "  </thead>\n",
       "  <tbody>\n",
       "    <tr>\n",
       "      <th>4</th>\n",
       "      <td>18-898</td>\n",
       "      <td>$100 Million Settlement Will Speed Cleanup Wor...</td>\n",
       "      <td>The U.S. Department of Justice, the U.S. Envir...</td>\n",
       "      <td>2018-07-09T00:00:00-04:00</td>\n",
       "      <td>[Environment]</td>\n",
       "      <td>[Environment and Natural Resources Division]</td>\n",
       "      <td>U.S. Department Justice U.S. Environmental Pro...</td>\n",
       "    </tr>\n",
       "    <tr>\n",
       "      <th>7</th>\n",
       "      <td>14-1412</td>\n",
       "      <td>14 Indicted in Connection with New England Com...</td>\n",
       "      <td>A 131-count criminal indictment was unsealed t...</td>\n",
       "      <td>2014-12-17T00:00:00-05:00</td>\n",
       "      <td>[Consumer Protection]</td>\n",
       "      <td>[Civil Division]</td>\n",
       "      <td>131 count criminal indictment unsealed today B...</td>\n",
       "    </tr>\n",
       "    <tr>\n",
       "      <th>19</th>\n",
       "      <td>17-1419</td>\n",
       "      <td>2017 Southeast Regional Animal Cruelty Prosecu...</td>\n",
       "      <td>The United States Attorney’s Office for the Mi...</td>\n",
       "      <td>2017-12-14T00:00:00-05:00</td>\n",
       "      <td>[Environment]</td>\n",
       "      <td>[Environment and Natural Resources Division, U...</td>\n",
       "      <td>United States Attorney Office Middle District ...</td>\n",
       "    </tr>\n",
       "    <tr>\n",
       "      <th>22</th>\n",
       "      <td>15-1562</td>\n",
       "      <td>21st Century Oncology to Pay $19.75 Million to...</td>\n",
       "      <td>21st Century Oncology LLC, has agreed to pay $...</td>\n",
       "      <td>2015-12-18T00:00:00-05:00</td>\n",
       "      <td>[False Claims Act, Health Care Fraud]</td>\n",
       "      <td>[Civil Division]</td>\n",
       "      <td>21st Century Oncology LLC agreed pay $ 19.75 m...</td>\n",
       "    </tr>\n",
       "    <tr>\n",
       "      <th>23</th>\n",
       "      <td>17-1404</td>\n",
       "      <td>21st Century Oncology to Pay $26 Million to Se...</td>\n",
       "      <td>21st Century Oncology Inc. and certain of its ...</td>\n",
       "      <td>2017-12-12T00:00:00-05:00</td>\n",
       "      <td>[Health Care Fraud, False Claims Act]</td>\n",
       "      <td>[Civil Division, USAO - Florida, Middle]</td>\n",
       "      <td>21st Century Oncology Inc. certain subsidiarie...</td>\n",
       "    </tr>\n",
       "    <tr>\n",
       "      <th>...</th>\n",
       "      <td>...</td>\n",
       "      <td>...</td>\n",
       "      <td>...</td>\n",
       "      <td>...</td>\n",
       "      <td>...</td>\n",
       "      <td>...</td>\n",
       "      <td>...</td>\n",
       "    </tr>\n",
       "    <tr>\n",
       "      <th>316</th>\n",
       "      <td>15-1359</td>\n",
       "      <td>Alaska Plastic Surgeon Convicted of Wire Fraud...</td>\n",
       "      <td>Doctor Hid Millions in Secret Accounts in Pana...</td>\n",
       "      <td>2015-11-04T00:00:00-05:00</td>\n",
       "      <td>[Tax]</td>\n",
       "      <td>[Tax Division]</td>\n",
       "      <td>Doctor Hid Millions Secret Accounts Panama Ala...</td>\n",
       "    </tr>\n",
       "    <tr>\n",
       "      <th>318</th>\n",
       "      <td>16-396</td>\n",
       "      <td>Alaska Plastic Surgeon Sentenced to Prison for...</td>\n",
       "      <td>Defendant Concealed Bank Accounts in Panama an...</td>\n",
       "      <td>2016-04-04T00:00:00-04:00</td>\n",
       "      <td>[Tax]</td>\n",
       "      <td>[Tax Division]</td>\n",
       "      <td>Defendant Concealed Bank Accounts Panama Costa...</td>\n",
       "    </tr>\n",
       "    <tr>\n",
       "      <th>321</th>\n",
       "      <td>17-736</td>\n",
       "      <td>Alaskan Commercial Fishing Couple Charged with...</td>\n",
       "      <td>An Alaskan couple was charged in federal court...</td>\n",
       "      <td>2017-07-26T00:00:00-04:00</td>\n",
       "      <td>[Tax]</td>\n",
       "      <td>[Tax Division, USAO - Alaska]</td>\n",
       "      <td>Alaskan couple charged federal court Juneau Al...</td>\n",
       "    </tr>\n",
       "    <tr>\n",
       "      <th>322</th>\n",
       "      <td>18-717</td>\n",
       "      <td>Alaskan Husband And Wife Plead Guilty To Willf...</td>\n",
       "      <td>A husband and wife pleaded guilty yesterday to...</td>\n",
       "      <td>2018-06-01T00:00:00-04:00</td>\n",
       "      <td>[Tax]</td>\n",
       "      <td>[Tax Division]</td>\n",
       "      <td>husband wife pleaded guilty yesterday counts w...</td>\n",
       "    </tr>\n",
       "    <tr>\n",
       "      <th>324</th>\n",
       "      <td>16-1345</td>\n",
       "      <td>Alaskan Oncologist Indicted for Tax Evasion</td>\n",
       "      <td>A resident of Big Lake, Alaska was indicted on...</td>\n",
       "      <td>2016-11-17T00:00:00-05:00</td>\n",
       "      <td>[Tax]</td>\n",
       "      <td>[Tax Division]</td>\n",
       "      <td>resident Big Lake Alaska indicted counts tax e...</td>\n",
       "    </tr>\n",
       "  </tbody>\n",
       "</table>\n",
       "<p>100 rows × 7 columns</p>\n",
       "</div>"
      ],
      "text/plain": [
       "          id                                              title  \\\n",
       "4     18-898  $100 Million Settlement Will Speed Cleanup Wor...   \n",
       "7    14-1412  14 Indicted in Connection with New England Com...   \n",
       "19   17-1419  2017 Southeast Regional Animal Cruelty Prosecu...   \n",
       "22   15-1562  21st Century Oncology to Pay $19.75 Million to...   \n",
       "23   17-1404  21st Century Oncology to Pay $26 Million to Se...   \n",
       "..       ...                                                ...   \n",
       "316  15-1359  Alaska Plastic Surgeon Convicted of Wire Fraud...   \n",
       "318   16-396  Alaska Plastic Surgeon Sentenced to Prison for...   \n",
       "321   17-736  Alaskan Commercial Fishing Couple Charged with...   \n",
       "322   18-717  Alaskan Husband And Wife Plead Guilty To Willf...   \n",
       "324  16-1345        Alaskan Oncologist Indicted for Tax Evasion   \n",
       "\n",
       "                                              contents  \\\n",
       "4    The U.S. Department of Justice, the U.S. Envir...   \n",
       "7    A 131-count criminal indictment was unsealed t...   \n",
       "19   The United States Attorney’s Office for the Mi...   \n",
       "22   21st Century Oncology LLC, has agreed to pay $...   \n",
       "23   21st Century Oncology Inc. and certain of its ...   \n",
       "..                                                 ...   \n",
       "316  Doctor Hid Millions in Secret Accounts in Pana...   \n",
       "318  Defendant Concealed Bank Accounts in Panama an...   \n",
       "321  An Alaskan couple was charged in federal court...   \n",
       "322  A husband and wife pleaded guilty yesterday to...   \n",
       "324  A resident of Big Lake, Alaska was indicted on...   \n",
       "\n",
       "                          date                                 topics  \\\n",
       "4    2018-07-09T00:00:00-04:00                          [Environment]   \n",
       "7    2014-12-17T00:00:00-05:00                  [Consumer Protection]   \n",
       "19   2017-12-14T00:00:00-05:00                          [Environment]   \n",
       "22   2015-12-18T00:00:00-05:00  [False Claims Act, Health Care Fraud]   \n",
       "23   2017-12-12T00:00:00-05:00  [Health Care Fraud, False Claims Act]   \n",
       "..                         ...                                    ...   \n",
       "316  2015-11-04T00:00:00-05:00                                  [Tax]   \n",
       "318  2016-04-04T00:00:00-04:00                                  [Tax]   \n",
       "321  2017-07-26T00:00:00-04:00                                  [Tax]   \n",
       "322  2018-06-01T00:00:00-04:00                                  [Tax]   \n",
       "324  2016-11-17T00:00:00-05:00                                  [Tax]   \n",
       "\n",
       "                                            components  \\\n",
       "4         [Environment and Natural Resources Division]   \n",
       "7                                     [Civil Division]   \n",
       "19   [Environment and Natural Resources Division, U...   \n",
       "22                                    [Civil Division]   \n",
       "23            [Civil Division, USAO - Florida, Middle]   \n",
       "..                                                 ...   \n",
       "316                                     [Tax Division]   \n",
       "318                                     [Tax Division]   \n",
       "321                      [Tax Division, USAO - Alaska]   \n",
       "322                                     [Tax Division]   \n",
       "324                                     [Tax Division]   \n",
       "\n",
       "                                          contents_new  \n",
       "4    U.S. Department Justice U.S. Environmental Pro...  \n",
       "7    131 count criminal indictment unsealed today B...  \n",
       "19   United States Attorney Office Middle District ...  \n",
       "22   21st Century Oncology LLC agreed pay $ 19.75 m...  \n",
       "23   21st Century Oncology Inc. certain subsidiarie...  \n",
       "..                                                 ...  \n",
       "316  Doctor Hid Millions Secret Accounts Panama Ala...  \n",
       "318  Defendant Concealed Bank Accounts Panama Costa...  \n",
       "321  Alaskan couple charged federal court Juneau Al...  \n",
       "322  husband wife pleaded guilty yesterday counts w...  \n",
       "324  resident Big Lake Alaska indicted counts tax e...  \n",
       "\n",
       "[100 rows x 7 columns]"
      ]
     },
     "execution_count": 36,
     "metadata": {},
     "output_type": "execute_result"
    }
   ],
   "source": [
    "df"
   ]
  },
  {
   "cell_type": "code",
   "execution_count": 37,
   "id": "83bb8d7b",
   "metadata": {
    "execution": {
     "iopub.execute_input": "2023-03-14T19:31:36.328140Z",
     "iopub.status.busy": "2023-03-14T19:31:36.327688Z",
     "iopub.status.idle": "2023-03-14T19:31:36.336715Z",
     "shell.execute_reply": "2023-03-14T19:31:36.335364Z"
    },
    "papermill": {
     "duration": 0.042596,
     "end_time": "2023-03-14T19:31:36.339213",
     "exception": false,
     "start_time": "2023-03-14T19:31:36.296617",
     "status": "completed"
    },
    "tags": []
   },
   "outputs": [
    {
     "data": {
      "text/plain": [
       "6286"
      ]
     },
     "execution_count": 37,
     "metadata": {},
     "output_type": "execute_result"
    }
   ],
   "source": [
    "len(df.contents[4])"
   ]
  },
  {
   "cell_type": "code",
   "execution_count": 38,
   "id": "d8507ff9",
   "metadata": {
    "execution": {
     "iopub.execute_input": "2023-03-14T19:31:36.400542Z",
     "iopub.status.busy": "2023-03-14T19:31:36.399837Z",
     "iopub.status.idle": "2023-03-14T19:31:36.408886Z",
     "shell.execute_reply": "2023-03-14T19:31:36.407848Z"
    },
    "papermill": {
     "duration": 0.04314,
     "end_time": "2023-03-14T19:31:36.411622",
     "exception": false,
     "start_time": "2023-03-14T19:31:36.368482",
     "status": "completed"
    },
    "tags": []
   },
   "outputs": [
    {
     "data": {
      "text/plain": [
       "4574"
      ]
     },
     "execution_count": 38,
     "metadata": {},
     "output_type": "execute_result"
    }
   ],
   "source": [
    "len(df.contents_new[4])"
   ]
  },
  {
   "cell_type": "markdown",
   "id": "9eea4eed",
   "metadata": {
    "papermill": {
     "duration": 0.029717,
     "end_time": "2023-03-14T19:31:36.471011",
     "exception": false,
     "start_time": "2023-03-14T19:31:36.441294",
     "status": "completed"
    },
    "tags": []
   },
   "source": [
    "# # Bag Of Words n-grams"
   ]
  },
  {
   "cell_type": "code",
   "execution_count": 39,
   "id": "9f0bfc89",
   "metadata": {
    "execution": {
     "iopub.execute_input": "2023-03-14T19:31:36.532244Z",
     "iopub.status.busy": "2023-03-14T19:31:36.531443Z",
     "iopub.status.idle": "2023-03-14T19:31:36.539955Z",
     "shell.execute_reply": "2023-03-14T19:31:36.538739Z"
    },
    "papermill": {
     "duration": 0.042052,
     "end_time": "2023-03-14T19:31:36.542443",
     "exception": false,
     "start_time": "2023-03-14T19:31:36.500391",
     "status": "completed"
    },
    "tags": []
   },
   "outputs": [
    {
     "data": {
      "text/plain": [
       "{'thor': 5, 'hathodawala': 1, 'is': 2, 'looking': 4, 'for': 0, 'job': 3}"
      ]
     },
     "execution_count": 39,
     "metadata": {},
     "output_type": "execute_result"
    }
   ],
   "source": [
    "from sklearn.feature_extraction.text import CountVectorizer\n",
    "\n",
    "v = CountVectorizer()\n",
    "v.fit([\"Thor Hathodawala is looking for a job\"])\n",
    "v.vocabulary_"
   ]
  },
  {
   "cell_type": "code",
   "execution_count": 40,
   "id": "977f81c4",
   "metadata": {
    "execution": {
     "iopub.execute_input": "2023-03-14T19:31:36.603319Z",
     "iopub.status.busy": "2023-03-14T19:31:36.602875Z",
     "iopub.status.idle": "2023-03-14T19:31:36.613017Z",
     "shell.execute_reply": "2023-03-14T19:31:36.611308Z"
    },
    "papermill": {
     "duration": 0.044192,
     "end_time": "2023-03-14T19:31:36.615839",
     "exception": false,
     "start_time": "2023-03-14T19:31:36.571647",
     "status": "completed"
    },
    "tags": []
   },
   "outputs": [
    {
     "data": {
      "text/plain": [
       "{'thor': 9,\n",
       " 'hathodawala': 2,\n",
       " 'is': 4,\n",
       " 'looking': 7,\n",
       " 'for': 0,\n",
       " 'job': 6,\n",
       " 'thor hathodawala': 10,\n",
       " 'hathodawala is': 3,\n",
       " 'is looking': 5,\n",
       " 'looking for': 8,\n",
       " 'for job': 1}"
      ]
     },
     "execution_count": 40,
     "metadata": {},
     "output_type": "execute_result"
    }
   ],
   "source": [
    "v = CountVectorizer(ngram_range=(1,2))\n",
    "v.fit([\"Thor Hathodawala is looking for a job\"])\n",
    "v.vocabulary_"
   ]
  },
  {
   "cell_type": "code",
   "execution_count": 41,
   "id": "4ba7066f",
   "metadata": {
    "execution": {
     "iopub.execute_input": "2023-03-14T19:31:36.676120Z",
     "iopub.status.busy": "2023-03-14T19:31:36.675403Z",
     "iopub.status.idle": "2023-03-14T19:31:36.684282Z",
     "shell.execute_reply": "2023-03-14T19:31:36.683192Z"
    },
    "papermill": {
     "duration": 0.041628,
     "end_time": "2023-03-14T19:31:36.686559",
     "exception": false,
     "start_time": "2023-03-14T19:31:36.644931",
     "status": "completed"
    },
    "tags": []
   },
   "outputs": [
    {
     "data": {
      "text/plain": [
       "{'thor': 12,\n",
       " 'hathodawala': 2,\n",
       " 'is': 5,\n",
       " 'looking': 9,\n",
       " 'for': 0,\n",
       " 'job': 8,\n",
       " 'thor hathodawala': 13,\n",
       " 'hathodawala is': 3,\n",
       " 'is looking': 6,\n",
       " 'looking for': 10,\n",
       " 'for job': 1,\n",
       " 'thor hathodawala is': 14,\n",
       " 'hathodawala is looking': 4,\n",
       " 'is looking for': 7,\n",
       " 'looking for job': 11}"
      ]
     },
     "execution_count": 41,
     "metadata": {},
     "output_type": "execute_result"
    }
   ],
   "source": [
    "v = CountVectorizer(ngram_range=(1,3))\n",
    "v.fit([\"Thor Hathodawala is looking for a job\"])\n",
    "v.vocabulary_"
   ]
  },
  {
   "cell_type": "code",
   "execution_count": 42,
   "id": "9085e277",
   "metadata": {
    "execution": {
     "iopub.execute_input": "2023-03-14T19:31:36.746468Z",
     "iopub.status.busy": "2023-03-14T19:31:36.745797Z",
     "iopub.status.idle": "2023-03-14T19:31:36.751152Z",
     "shell.execute_reply": "2023-03-14T19:31:36.750119Z"
    },
    "papermill": {
     "duration": 0.038354,
     "end_time": "2023-03-14T19:31:36.753831",
     "exception": false,
     "start_time": "2023-03-14T19:31:36.715477",
     "status": "completed"
    },
    "tags": []
   },
   "outputs": [],
   "source": [
    "corpus = [\n",
    "    \"Thor ate pizza\",\n",
    "    \"Loki is tall\",\n",
    "    \"Loki is eating pizza\"\n",
    "]"
   ]
  },
  {
   "cell_type": "code",
   "execution_count": 43,
   "id": "570132fe",
   "metadata": {
    "execution": {
     "iopub.execute_input": "2023-03-14T19:31:36.815243Z",
     "iopub.status.busy": "2023-03-14T19:31:36.814707Z",
     "iopub.status.idle": "2023-03-14T19:31:37.526980Z",
     "shell.execute_reply": "2023-03-14T19:31:37.525482Z"
    },
    "papermill": {
     "duration": 0.746598,
     "end_time": "2023-03-14T19:31:37.530375",
     "exception": false,
     "start_time": "2023-03-14T19:31:36.783777",
     "status": "completed"
    },
    "tags": []
   },
   "outputs": [],
   "source": [
    "import spacy\n",
    "\n",
    "# load english language model and create nlp object from it\n",
    "nlp = spacy.load(\"en_core_web_sm\") \n",
    "\n",
    "def preprocess(text):\n",
    "    # remove stop words and lemmatize the text\n",
    "    doc = nlp(text)\n",
    "    filtered_tokens = []\n",
    "    for token in doc:\n",
    "        if token.is_stop or token.is_punct:\n",
    "            continue\n",
    "        filtered_tokens.append(token.lemma_)\n",
    "    \n",
    "    return \" \".join(filtered_tokens) "
   ]
  },
  {
   "cell_type": "code",
   "execution_count": 44,
   "id": "a195cff7",
   "metadata": {
    "execution": {
     "iopub.execute_input": "2023-03-14T19:31:37.594082Z",
     "iopub.status.busy": "2023-03-14T19:31:37.592704Z",
     "iopub.status.idle": "2023-03-14T19:31:37.608779Z",
     "shell.execute_reply": "2023-03-14T19:31:37.607675Z"
    },
    "papermill": {
     "duration": 0.050682,
     "end_time": "2023-03-14T19:31:37.611386",
     "exception": false,
     "start_time": "2023-03-14T19:31:37.560704",
     "status": "completed"
    },
    "tags": []
   },
   "outputs": [
    {
     "data": {
      "text/plain": [
       "'thor eat pizza'"
      ]
     },
     "execution_count": 44,
     "metadata": {},
     "output_type": "execute_result"
    }
   ],
   "source": [
    "preprocess(\"Thor ate pizza\")"
   ]
  },
  {
   "cell_type": "code",
   "execution_count": 45,
   "id": "3f185795",
   "metadata": {
    "execution": {
     "iopub.execute_input": "2023-03-14T19:31:37.675672Z",
     "iopub.status.busy": "2023-03-14T19:31:37.674732Z",
     "iopub.status.idle": "2023-03-14T19:31:37.690474Z",
     "shell.execute_reply": "2023-03-14T19:31:37.689429Z"
    },
    "papermill": {
     "duration": 0.050563,
     "end_time": "2023-03-14T19:31:37.693072",
     "exception": false,
     "start_time": "2023-03-14T19:31:37.642509",
     "status": "completed"
    },
    "tags": []
   },
   "outputs": [
    {
     "data": {
      "text/plain": [
       "'Loki eat pizza'"
      ]
     },
     "execution_count": 45,
     "metadata": {},
     "output_type": "execute_result"
    }
   ],
   "source": [
    "preprocess(\"Loki is eating pizza\")"
   ]
  },
  {
   "cell_type": "code",
   "execution_count": 46,
   "id": "529d817c",
   "metadata": {
    "execution": {
     "iopub.execute_input": "2023-03-14T19:31:37.756857Z",
     "iopub.status.busy": "2023-03-14T19:31:37.755399Z",
     "iopub.status.idle": "2023-03-14T19:31:37.786410Z",
     "shell.execute_reply": "2023-03-14T19:31:37.785115Z"
    },
    "papermill": {
     "duration": 0.065782,
     "end_time": "2023-03-14T19:31:37.789129",
     "exception": false,
     "start_time": "2023-03-14T19:31:37.723347",
     "status": "completed"
    },
    "tags": []
   },
   "outputs": [
    {
     "data": {
      "text/plain": [
       "['thor eat pizza', 'Loki tall', 'Loki eat pizza']"
      ]
     },
     "execution_count": 46,
     "metadata": {},
     "output_type": "execute_result"
    }
   ],
   "source": [
    "corpus_processed = [\n",
    "    preprocess(text) for text in corpus\n",
    "]\n",
    "corpus_processed"
   ]
  },
  {
   "cell_type": "code",
   "execution_count": 47,
   "id": "3482c96a",
   "metadata": {
    "execution": {
     "iopub.execute_input": "2023-03-14T19:31:37.853016Z",
     "iopub.status.busy": "2023-03-14T19:31:37.851825Z",
     "iopub.status.idle": "2023-03-14T19:31:37.861660Z",
     "shell.execute_reply": "2023-03-14T19:31:37.860317Z"
    },
    "papermill": {
     "duration": 0.045031,
     "end_time": "2023-03-14T19:31:37.864536",
     "exception": false,
     "start_time": "2023-03-14T19:31:37.819505",
     "status": "completed"
    },
    "tags": []
   },
   "outputs": [
    {
     "data": {
      "text/plain": [
       "{'thor': 7,\n",
       " 'eat': 0,\n",
       " 'pizza': 5,\n",
       " 'thor eat': 8,\n",
       " 'eat pizza': 1,\n",
       " 'loki': 2,\n",
       " 'tall': 6,\n",
       " 'loki tall': 4,\n",
       " 'loki eat': 3}"
      ]
     },
     "execution_count": 47,
     "metadata": {},
     "output_type": "execute_result"
    }
   ],
   "source": [
    "v = CountVectorizer(ngram_range=(1,2))\n",
    "v.fit(corpus_processed)\n",
    "v.vocabulary_"
   ]
  },
  {
   "cell_type": "code",
   "execution_count": 48,
   "id": "e9e54462",
   "metadata": {
    "execution": {
     "iopub.execute_input": "2023-03-14T19:31:37.927956Z",
     "iopub.status.busy": "2023-03-14T19:31:37.927420Z",
     "iopub.status.idle": "2023-03-14T19:31:37.936363Z",
     "shell.execute_reply": "2023-03-14T19:31:37.935070Z"
    },
    "papermill": {
     "duration": 0.043955,
     "end_time": "2023-03-14T19:31:37.939044",
     "exception": false,
     "start_time": "2023-03-14T19:31:37.895089",
     "status": "completed"
    },
    "tags": []
   },
   "outputs": [
    {
     "data": {
      "text/plain": [
       "array([[1, 1, 0, 0, 0, 1, 0, 1, 1]])"
      ]
     },
     "execution_count": 48,
     "metadata": {},
     "output_type": "execute_result"
    }
   ],
   "source": [
    "v.transform([\"Thor eat pizza\"]).toarray()"
   ]
  },
  {
   "cell_type": "code",
   "execution_count": 49,
   "id": "97b102d6",
   "metadata": {
    "execution": {
     "iopub.execute_input": "2023-03-14T19:31:38.002655Z",
     "iopub.status.busy": "2023-03-14T19:31:38.002159Z",
     "iopub.status.idle": "2023-03-14T19:31:38.011179Z",
     "shell.execute_reply": "2023-03-14T19:31:38.009857Z"
    },
    "papermill": {
     "duration": 0.044443,
     "end_time": "2023-03-14T19:31:38.014054",
     "exception": false,
     "start_time": "2023-03-14T19:31:37.969611",
     "status": "completed"
    },
    "tags": []
   },
   "outputs": [
    {
     "data": {
      "text/plain": [
       "array([[1, 1, 0, 0, 0, 1, 0, 0, 0]])"
      ]
     },
     "execution_count": 49,
     "metadata": {},
     "output_type": "execute_result"
    }
   ],
   "source": [
    "v.transform([\"Hulk eat pizza\"]).toarray()#oov problem"
   ]
  },
  {
   "cell_type": "code",
   "execution_count": 50,
   "id": "699c0798",
   "metadata": {
    "execution": {
     "iopub.execute_input": "2023-03-14T19:31:38.077987Z",
     "iopub.status.busy": "2023-03-14T19:31:38.077476Z",
     "iopub.status.idle": "2023-03-14T19:31:41.499026Z",
     "shell.execute_reply": "2023-03-14T19:31:41.497466Z"
    },
    "papermill": {
     "duration": 3.457074,
     "end_time": "2023-03-14T19:31:41.501926",
     "exception": false,
     "start_time": "2023-03-14T19:31:38.044852",
     "status": "completed"
    },
    "tags": []
   },
   "outputs": [
    {
     "data": {
      "text/html": [
       "<div>\n",
       "<style scoped>\n",
       "    .dataframe tbody tr th:only-of-type {\n",
       "        vertical-align: middle;\n",
       "    }\n",
       "\n",
       "    .dataframe tbody tr th {\n",
       "        vertical-align: top;\n",
       "    }\n",
       "\n",
       "    .dataframe thead th {\n",
       "        text-align: right;\n",
       "    }\n",
       "</style>\n",
       "<table border=\"1\" class=\"dataframe\">\n",
       "  <thead>\n",
       "    <tr style=\"text-align: right;\">\n",
       "      <th></th>\n",
       "      <th>link</th>\n",
       "      <th>headline</th>\n",
       "      <th>category</th>\n",
       "      <th>short_description</th>\n",
       "      <th>authors</th>\n",
       "      <th>date</th>\n",
       "    </tr>\n",
       "  </thead>\n",
       "  <tbody>\n",
       "    <tr>\n",
       "      <th>0</th>\n",
       "      <td>https://www.huffpost.com/entry/covid-boosters-...</td>\n",
       "      <td>Over 4 Million Americans Roll Up Sleeves For O...</td>\n",
       "      <td>U.S. NEWS</td>\n",
       "      <td>Health experts said it is too early to predict...</td>\n",
       "      <td>Carla K. Johnson, AP</td>\n",
       "      <td>2022-09-23</td>\n",
       "    </tr>\n",
       "    <tr>\n",
       "      <th>1</th>\n",
       "      <td>https://www.huffpost.com/entry/american-airlin...</td>\n",
       "      <td>American Airlines Flyer Charged, Banned For Li...</td>\n",
       "      <td>U.S. NEWS</td>\n",
       "      <td>He was subdued by passengers and crew when he ...</td>\n",
       "      <td>Mary Papenfuss</td>\n",
       "      <td>2022-09-23</td>\n",
       "    </tr>\n",
       "    <tr>\n",
       "      <th>2</th>\n",
       "      <td>https://www.huffpost.com/entry/funniest-tweets...</td>\n",
       "      <td>23 Of The Funniest Tweets About Cats And Dogs ...</td>\n",
       "      <td>COMEDY</td>\n",
       "      <td>\"Until you have a dog you don't understand wha...</td>\n",
       "      <td>Elyse Wanshel</td>\n",
       "      <td>2022-09-23</td>\n",
       "    </tr>\n",
       "    <tr>\n",
       "      <th>3</th>\n",
       "      <td>https://www.huffpost.com/entry/funniest-parent...</td>\n",
       "      <td>The Funniest Tweets From Parents This Week (Se...</td>\n",
       "      <td>PARENTING</td>\n",
       "      <td>\"Accidentally put grown-up toothpaste on my to...</td>\n",
       "      <td>Caroline Bologna</td>\n",
       "      <td>2022-09-23</td>\n",
       "    </tr>\n",
       "    <tr>\n",
       "      <th>4</th>\n",
       "      <td>https://www.huffpost.com/entry/amy-cooper-lose...</td>\n",
       "      <td>Woman Who Called Cops On Black Bird-Watcher Lo...</td>\n",
       "      <td>U.S. NEWS</td>\n",
       "      <td>Amy Cooper accused investment firm Franklin Te...</td>\n",
       "      <td>Nina Golgowski</td>\n",
       "      <td>2022-09-22</td>\n",
       "    </tr>\n",
       "  </tbody>\n",
       "</table>\n",
       "</div>"
      ],
      "text/plain": [
       "                                                link  \\\n",
       "0  https://www.huffpost.com/entry/covid-boosters-...   \n",
       "1  https://www.huffpost.com/entry/american-airlin...   \n",
       "2  https://www.huffpost.com/entry/funniest-tweets...   \n",
       "3  https://www.huffpost.com/entry/funniest-parent...   \n",
       "4  https://www.huffpost.com/entry/amy-cooper-lose...   \n",
       "\n",
       "                                            headline   category  \\\n",
       "0  Over 4 Million Americans Roll Up Sleeves For O...  U.S. NEWS   \n",
       "1  American Airlines Flyer Charged, Banned For Li...  U.S. NEWS   \n",
       "2  23 Of The Funniest Tweets About Cats And Dogs ...     COMEDY   \n",
       "3  The Funniest Tweets From Parents This Week (Se...  PARENTING   \n",
       "4  Woman Who Called Cops On Black Bird-Watcher Lo...  U.S. NEWS   \n",
       "\n",
       "                                   short_description               authors  \\\n",
       "0  Health experts said it is too early to predict...  Carla K. Johnson, AP   \n",
       "1  He was subdued by passengers and crew when he ...        Mary Papenfuss   \n",
       "2  \"Until you have a dog you don't understand wha...         Elyse Wanshel   \n",
       "3  \"Accidentally put grown-up toothpaste on my to...      Caroline Bologna   \n",
       "4  Amy Cooper accused investment firm Franklin Te...        Nina Golgowski   \n",
       "\n",
       "        date  \n",
       "0 2022-09-23  \n",
       "1 2022-09-23  \n",
       "2 2022-09-23  \n",
       "3 2022-09-23  \n",
       "4 2022-09-22  "
      ]
     },
     "execution_count": 50,
     "metadata": {},
     "output_type": "execute_result"
    }
   ],
   "source": [
    "df = pd.read_json(\"/kaggle/input/news-category-dataset/News_Category_Dataset_v3.json\", lines=True)\n",
    "\n",
    "df.head()"
   ]
  },
  {
   "cell_type": "code",
   "execution_count": 51,
   "id": "2338fa69",
   "metadata": {
    "execution": {
     "iopub.execute_input": "2023-03-14T19:31:41.564968Z",
     "iopub.status.busy": "2023-03-14T19:31:41.564235Z",
     "iopub.status.idle": "2023-03-14T19:31:41.579377Z",
     "shell.execute_reply": "2023-03-14T19:31:41.578302Z"
    },
    "papermill": {
     "duration": 0.04993,
     "end_time": "2023-03-14T19:31:41.582090",
     "exception": false,
     "start_time": "2023-03-14T19:31:41.532160",
     "status": "completed"
    },
    "tags": []
   },
   "outputs": [],
   "source": [
    "df = df[[\"short_description\", \"category\"]]"
   ]
  },
  {
   "cell_type": "code",
   "execution_count": 52,
   "id": "ffe282e5",
   "metadata": {
    "execution": {
     "iopub.execute_input": "2023-03-14T19:31:41.646266Z",
     "iopub.status.busy": "2023-03-14T19:31:41.645516Z",
     "iopub.status.idle": "2023-03-14T19:31:41.684700Z",
     "shell.execute_reply": "2023-03-14T19:31:41.683353Z"
    },
    "papermill": {
     "duration": 0.07554,
     "end_time": "2023-03-14T19:31:41.687663",
     "exception": false,
     "start_time": "2023-03-14T19:31:41.612123",
     "status": "completed"
    },
    "tags": []
   },
   "outputs": [
    {
     "data": {
      "text/plain": [
       "POLITICS          35602\n",
       "WELLNESS          17945\n",
       "ENTERTAINMENT     17362\n",
       "TRAVEL             9900\n",
       "STYLE & BEAUTY     9814\n",
       "PARENTING          8791\n",
       "HEALTHY LIVING     6694\n",
       "QUEER VOICES       6347\n",
       "FOOD & DRINK       6340\n",
       "BUSINESS           5992\n",
       "COMEDY             5400\n",
       "SPORTS             5077\n",
       "BLACK VOICES       4583\n",
       "HOME & LIVING      4320\n",
       "PARENTS            3955\n",
       "THE WORLDPOST      3664\n",
       "WEDDINGS           3653\n",
       "WOMEN              3572\n",
       "CRIME              3562\n",
       "IMPACT             3484\n",
       "DIVORCE            3426\n",
       "WORLD NEWS         3299\n",
       "MEDIA              2944\n",
       "WEIRD NEWS         2777\n",
       "GREEN              2622\n",
       "WORLDPOST          2579\n",
       "RELIGION           2577\n",
       "STYLE              2254\n",
       "SCIENCE            2206\n",
       "TECH               2104\n",
       "TASTE              2096\n",
       "MONEY              1756\n",
       "ARTS               1509\n",
       "ENVIRONMENT        1444\n",
       "FIFTY              1401\n",
       "GOOD NEWS          1398\n",
       "U.S. NEWS          1377\n",
       "ARTS & CULTURE     1339\n",
       "COLLEGE            1144\n",
       "LATINO VOICES      1130\n",
       "CULTURE & ARTS     1074\n",
       "EDUCATION          1014\n",
       "Name: category, dtype: int64"
      ]
     },
     "execution_count": 52,
     "metadata": {},
     "output_type": "execute_result"
    }
   ],
   "source": [
    "df[\"category\"].value_counts()"
   ]
  },
  {
   "cell_type": "code",
   "execution_count": 53,
   "id": "30c24a50",
   "metadata": {
    "execution": {
     "iopub.execute_input": "2023-03-14T19:31:41.751217Z",
     "iopub.status.busy": "2023-03-14T19:31:41.750786Z",
     "iopub.status.idle": "2023-03-14T19:31:41.875193Z",
     "shell.execute_reply": "2023-03-14T19:31:41.873861Z"
    },
    "papermill": {
     "duration": 0.159843,
     "end_time": "2023-03-14T19:31:41.878443",
     "exception": false,
     "start_time": "2023-03-14T19:31:41.718600",
     "status": "completed"
    },
    "tags": []
   },
   "outputs": [],
   "source": [
    "min_samples = 9900 # we have these many SCIENCE articles and SCIENCE is our minority class\n",
    "\n",
    "\n",
    "df_politics = df[df.category==\"POLITICS\"].sample(min_samples, random_state=2022)\n",
    "df_wellness = df[df.category==\"WELLNESS\"].sample(min_samples, random_state=2022)\n",
    "df_entartainment = df[df.category==\"ENTERTAINMENT\"].sample(min_samples, random_state=2022)\n",
    "df_travel = df[df.category==\"TRAVEL\"].sample(min_samples, random_state=2022)"
   ]
  },
  {
   "cell_type": "code",
   "execution_count": 54,
   "id": "b5bf1152",
   "metadata": {
    "execution": {
     "iopub.execute_input": "2023-03-14T19:31:41.941530Z",
     "iopub.status.busy": "2023-03-14T19:31:41.941130Z",
     "iopub.status.idle": "2023-03-14T19:31:41.965376Z",
     "shell.execute_reply": "2023-03-14T19:31:41.963836Z"
    },
    "papermill": {
     "duration": 0.058672,
     "end_time": "2023-03-14T19:31:41.968012",
     "exception": false,
     "start_time": "2023-03-14T19:31:41.909340",
     "status": "completed"
    },
    "tags": []
   },
   "outputs": [
    {
     "data": {
      "text/plain": [
       "POLITICS         9900\n",
       "WELLNESS         9900\n",
       "ENTERTAINMENT    9900\n",
       "TRAVEL           9900\n",
       "Name: category, dtype: int64"
      ]
     },
     "execution_count": 54,
     "metadata": {},
     "output_type": "execute_result"
    }
   ],
   "source": [
    "df_balanced = pd.concat([df_politics,df_wellness,df_entartainment,df_travel],axis=0)\n",
    "df_balanced.category.value_counts()"
   ]
  },
  {
   "cell_type": "code",
   "execution_count": 55,
   "id": "9790dca5",
   "metadata": {
    "execution": {
     "iopub.execute_input": "2023-03-14T19:31:42.032789Z",
     "iopub.status.busy": "2023-03-14T19:31:42.031546Z",
     "iopub.status.idle": "2023-03-14T19:31:42.080449Z",
     "shell.execute_reply": "2023-03-14T19:31:42.079059Z"
    },
    "papermill": {
     "duration": 0.085413,
     "end_time": "2023-03-14T19:31:42.083884",
     "exception": false,
     "start_time": "2023-03-14T19:31:41.998471",
     "status": "completed"
    },
    "tags": []
   },
   "outputs": [],
   "source": [
    "from sklearn.preprocessing import LabelEncoder\n",
    "labelencoder = LabelEncoder()\n",
    "df_balanced[\"category\"] = labelencoder.fit_transform(df_balanced[\"category\"])"
   ]
  },
  {
   "cell_type": "markdown",
   "id": "d24f1090",
   "metadata": {
    "execution": {
     "iopub.execute_input": "2023-03-13T20:47:12.201013Z",
     "iopub.status.busy": "2023-03-13T20:47:12.200606Z",
     "iopub.status.idle": "2023-03-13T20:47:12.215751Z",
     "shell.execute_reply": "2023-03-13T20:47:12.214417Z",
     "shell.execute_reply.started": "2023-03-13T20:47:12.200977Z"
    },
    "papermill": {
     "duration": 0.032001,
     "end_time": "2023-03-14T19:31:42.148324",
     "exception": false,
     "start_time": "2023-03-14T19:31:42.116323",
     "status": "completed"
    },
    "tags": []
   },
   "source": [
    "# Build a model with original text (no pre processing)"
   ]
  },
  {
   "cell_type": "code",
   "execution_count": 56,
   "id": "2c8cfbb2",
   "metadata": {
    "execution": {
     "iopub.execute_input": "2023-03-14T19:31:42.223850Z",
     "iopub.status.busy": "2023-03-14T19:31:42.222545Z",
     "iopub.status.idle": "2023-03-14T19:31:42.266576Z",
     "shell.execute_reply": "2023-03-14T19:31:42.264659Z"
    },
    "papermill": {
     "duration": 0.091192,
     "end_time": "2023-03-14T19:31:42.271198",
     "exception": false,
     "start_time": "2023-03-14T19:31:42.180006",
     "status": "completed"
    },
    "tags": []
   },
   "outputs": [],
   "source": [
    "from sklearn.model_selection import train_test_split\n",
    "\n",
    "X_train, X_test, y_train, y_test = train_test_split(\n",
    "    df_balanced.short_description, \n",
    "    df_balanced.category, \n",
    "    test_size=0.2, # 20% samples will go to test dataset\n",
    "    random_state=2022,\n",
    "    stratify=df_balanced.category\n",
    ")"
   ]
  },
  {
   "cell_type": "code",
   "execution_count": 57,
   "id": "c2cc77dd",
   "metadata": {
    "execution": {
     "iopub.execute_input": "2023-03-14T19:31:42.343351Z",
     "iopub.status.busy": "2023-03-14T19:31:42.341940Z",
     "iopub.status.idle": "2023-03-14T19:31:42.353696Z",
     "shell.execute_reply": "2023-03-14T19:31:42.352333Z"
    },
    "papermill": {
     "duration": 0.048019,
     "end_time": "2023-03-14T19:31:42.356731",
     "exception": false,
     "start_time": "2023-03-14T19:31:42.308712",
     "status": "completed"
    },
    "tags": []
   },
   "outputs": [
    {
     "name": "stdout",
     "output_type": "stream",
     "text": [
      "(31680,)\n"
     ]
    },
    {
     "data": {
      "text/plain": [
       "146031    Punctual people leave room for error. One of t...\n",
       "120991    Maybe it's their permissive attitude toward pu...\n",
       "3358      The '90s can't come back fast enough for fans ...\n",
       "14084     \"They are spending too much time trying to pro...\n",
       "127940    The World Bank, which for decades has been cri...\n",
       "Name: short_description, dtype: object"
      ]
     },
     "execution_count": 57,
     "metadata": {},
     "output_type": "execute_result"
    }
   ],
   "source": [
    "print(X_train.shape)\n",
    "X_train.head()"
   ]
  },
  {
   "cell_type": "code",
   "execution_count": 58,
   "id": "ecdf1ad4",
   "metadata": {
    "execution": {
     "iopub.execute_input": "2023-03-14T19:31:42.424502Z",
     "iopub.status.busy": "2023-03-14T19:31:42.422953Z",
     "iopub.status.idle": "2023-03-14T19:31:42.434701Z",
     "shell.execute_reply": "2023-03-14T19:31:42.433155Z"
    },
    "papermill": {
     "duration": 0.04894,
     "end_time": "2023-03-14T19:31:42.437795",
     "exception": false,
     "start_time": "2023-03-14T19:31:42.388855",
     "status": "completed"
    },
    "tags": []
   },
   "outputs": [
    {
     "data": {
      "text/plain": [
       "3    7920\n",
       "2    7920\n",
       "0    7920\n",
       "1    7920\n",
       "Name: category, dtype: int64"
      ]
     },
     "execution_count": 58,
     "metadata": {},
     "output_type": "execute_result"
    }
   ],
   "source": [
    "y_train.value_counts()"
   ]
  },
  {
   "cell_type": "markdown",
   "id": "04b246aa",
   "metadata": {
    "papermill": {
     "duration": 0.03116,
     "end_time": "2023-03-14T19:31:42.501521",
     "exception": false,
     "start_time": "2023-03-14T19:31:42.470361",
     "status": "completed"
    },
    "tags": []
   },
   "source": [
    "## Attempt 1 : Use 1-gram which is nothing but a Bag Of Words (BOW) model"
   ]
  },
  {
   "cell_type": "code",
   "execution_count": 59,
   "id": "4f761541",
   "metadata": {
    "execution": {
     "iopub.execute_input": "2023-03-14T19:31:42.569169Z",
     "iopub.status.busy": "2023-03-14T19:31:42.567649Z",
     "iopub.status.idle": "2023-03-14T19:31:43.598453Z",
     "shell.execute_reply": "2023-03-14T19:31:43.597295Z"
    },
    "papermill": {
     "duration": 1.067883,
     "end_time": "2023-03-14T19:31:43.601448",
     "exception": false,
     "start_time": "2023-03-14T19:31:42.533565",
     "status": "completed"
    },
    "tags": []
   },
   "outputs": [
    {
     "name": "stdout",
     "output_type": "stream",
     "text": [
      "              precision    recall  f1-score   support\n",
      "\n",
      "           0       0.72      0.70      0.71      1980\n",
      "           1       0.85      0.69      0.76      1980\n",
      "           2       0.80      0.79      0.80      1980\n",
      "           3       0.71      0.88      0.79      1980\n",
      "\n",
      "    accuracy                           0.77      7920\n",
      "   macro avg       0.77      0.77      0.76      7920\n",
      "weighted avg       0.77      0.77      0.76      7920\n",
      "\n"
     ]
    }
   ],
   "source": [
    "from sklearn.naive_bayes import MultinomialNB\n",
    "from sklearn.pipeline import Pipeline\n",
    "from sklearn.metrics import classification_report\n",
    "\n",
    "#1. create a pipeline object\n",
    "clf = Pipeline([\n",
    "     ('vectorizer_bow', CountVectorizer(ngram_range = (1, 1))),        #using the ngram_range parameter \n",
    "     ('Multi NB', MultinomialNB())         \n",
    "])\n",
    "\n",
    "#2. fit with X_train and y_train\n",
    "clf.fit(X_train, y_train)\n",
    "\n",
    "\n",
    "#3. get the predictions for X_test and store it in y_pred\n",
    "y_pred = clf.predict(X_test)\n",
    "\n",
    "\n",
    "#4. print the classfication report\n",
    "print(classification_report(y_test, y_pred))"
   ]
  },
  {
   "cell_type": "code",
   "execution_count": 60,
   "id": "e610f727",
   "metadata": {
    "execution": {
     "iopub.execute_input": "2023-03-14T19:31:43.668888Z",
     "iopub.status.busy": "2023-03-14T19:31:43.668045Z",
     "iopub.status.idle": "2023-03-14T19:31:43.676785Z",
     "shell.execute_reply": "2023-03-14T19:31:43.675176Z"
    },
    "papermill": {
     "duration": 0.045969,
     "end_time": "2023-03-14T19:31:43.679302",
     "exception": false,
     "start_time": "2023-03-14T19:31:43.633333",
     "status": "completed"
    },
    "tags": []
   },
   "outputs": [
    {
     "data": {
      "text/plain": [
       "128588                                                     \n",
       "129681                                                     \n",
       "28322     Taylor Swift's little brother will be in the m...\n",
       "156006    The stress and strain of constantly being conn...\n",
       "102799    This is much better than a seat upgrade.  Last...\n",
       "Name: short_description, dtype: object"
      ]
     },
     "execution_count": 60,
     "metadata": {},
     "output_type": "execute_result"
    }
   ],
   "source": [
    "X_test[:5]"
   ]
  },
  {
   "cell_type": "code",
   "execution_count": 61,
   "id": "9cf83ba6",
   "metadata": {
    "execution": {
     "iopub.execute_input": "2023-03-14T19:31:43.745998Z",
     "iopub.status.busy": "2023-03-14T19:31:43.745218Z",
     "iopub.status.idle": "2023-03-14T19:31:43.752520Z",
     "shell.execute_reply": "2023-03-14T19:31:43.751266Z"
    },
    "papermill": {
     "duration": 0.044213,
     "end_time": "2023-03-14T19:31:43.755444",
     "exception": false,
     "start_time": "2023-03-14T19:31:43.711231",
     "status": "completed"
    },
    "tags": []
   },
   "outputs": [
    {
     "data": {
      "text/plain": [
       "array([0, 0, 0, 3, 2])"
      ]
     },
     "execution_count": 61,
     "metadata": {},
     "output_type": "execute_result"
    }
   ],
   "source": [
    "y_pred[:5]"
   ]
  },
  {
   "cell_type": "code",
   "execution_count": 62,
   "id": "f5bf996a",
   "metadata": {
    "execution": {
     "iopub.execute_input": "2023-03-14T19:31:43.822252Z",
     "iopub.status.busy": "2023-03-14T19:31:43.821814Z",
     "iopub.status.idle": "2023-03-14T19:31:43.831035Z",
     "shell.execute_reply": "2023-03-14T19:31:43.829496Z"
    },
    "papermill": {
     "duration": 0.045712,
     "end_time": "2023-03-14T19:31:43.833782",
     "exception": false,
     "start_time": "2023-03-14T19:31:43.788070",
     "status": "completed"
    },
    "tags": []
   },
   "outputs": [
    {
     "data": {
      "text/plain": [
       "128588    2\n",
       "129681    2\n",
       "28322     0\n",
       "156006    3\n",
       "102799    2\n",
       "Name: category, dtype: int64"
      ]
     },
     "execution_count": 62,
     "metadata": {},
     "output_type": "execute_result"
    }
   ],
   "source": [
    "y_test[:5]"
   ]
  },
  {
   "cell_type": "markdown",
   "id": "ffdcaf8a",
   "metadata": {
    "papermill": {
     "duration": 0.03202,
     "end_time": "2023-03-14T19:31:43.898381",
     "exception": false,
     "start_time": "2023-03-14T19:31:43.866361",
     "status": "completed"
    },
    "tags": []
   },
   "source": [
    "## Attempt 2 : Use 1-gram and bigrams"
   ]
  },
  {
   "cell_type": "code",
   "execution_count": 63,
   "id": "e838c1ef",
   "metadata": {
    "execution": {
     "iopub.execute_input": "2023-03-14T19:31:43.965695Z",
     "iopub.status.busy": "2023-03-14T19:31:43.965202Z",
     "iopub.status.idle": "2023-03-14T19:31:47.757639Z",
     "shell.execute_reply": "2023-03-14T19:31:47.756268Z"
    },
    "papermill": {
     "duration": 3.829795,
     "end_time": "2023-03-14T19:31:47.760480",
     "exception": false,
     "start_time": "2023-03-14T19:31:43.930685",
     "status": "completed"
    },
    "tags": []
   },
   "outputs": [
    {
     "name": "stdout",
     "output_type": "stream",
     "text": [
      "              precision    recall  f1-score   support\n",
      "\n",
      "           0       0.75      0.57      0.65      1980\n",
      "           1       0.87      0.62      0.72      1980\n",
      "           2       0.75      0.79      0.77      1980\n",
      "           3       0.63      0.93      0.75      1980\n",
      "\n",
      "    accuracy                           0.73      7920\n",
      "   macro avg       0.75      0.73      0.72      7920\n",
      "weighted avg       0.75      0.73      0.72      7920\n",
      "\n"
     ]
    }
   ],
   "source": [
    "#1. create a pipeline object\n",
    "clf = Pipeline([\n",
    "     ('vectorizer_n_gram_1_2', CountVectorizer(ngram_range = (1, 2))),        #using the ngram_range parameter \n",
    "     ('Multi NB', MultinomialNB())         \n",
    "])\n",
    "\n",
    "#2. fit with X_train and y_train\n",
    "clf.fit(X_train, y_train)\n",
    "\n",
    "\n",
    "#3. get the predictions for X_test and store it in y_pred\n",
    "y_pred = clf.predict(X_test)\n",
    "\n",
    "\n",
    "#4. print the classfication report\n",
    "print(classification_report(y_test, y_pred))"
   ]
  },
  {
   "cell_type": "markdown",
   "id": "14e32b53",
   "metadata": {
    "papermill": {
     "duration": 0.031727,
     "end_time": "2023-03-14T19:31:47.824688",
     "exception": false,
     "start_time": "2023-03-14T19:31:47.792961",
     "status": "completed"
    },
    "tags": []
   },
   "source": [
    "# Attempt 3 : Use 1-gram to trigrams"
   ]
  },
  {
   "cell_type": "code",
   "execution_count": 64,
   "id": "d5e0b002",
   "metadata": {
    "execution": {
     "iopub.execute_input": "2023-03-14T19:31:47.891881Z",
     "iopub.status.busy": "2023-03-14T19:31:47.890511Z",
     "iopub.status.idle": "2023-03-14T19:31:55.837105Z",
     "shell.execute_reply": "2023-03-14T19:31:55.835923Z"
    },
    "papermill": {
     "duration": 7.982679,
     "end_time": "2023-03-14T19:31:55.839689",
     "exception": false,
     "start_time": "2023-03-14T19:31:47.857010",
     "status": "completed"
    },
    "tags": []
   },
   "outputs": [
    {
     "name": "stdout",
     "output_type": "stream",
     "text": [
      "              precision    recall  f1-score   support\n",
      "\n",
      "           0       0.74      0.52      0.61      1980\n",
      "           1       0.87      0.58      0.70      1980\n",
      "           2       0.72      0.78      0.75      1980\n",
      "           3       0.60      0.93      0.73      1980\n",
      "\n",
      "    accuracy                           0.70      7920\n",
      "   macro avg       0.73      0.70      0.70      7920\n",
      "weighted avg       0.73      0.70      0.70      7920\n",
      "\n"
     ]
    }
   ],
   "source": [
    "#1. create a pipeline object\n",
    "clf = Pipeline([\n",
    "     ('vectorizer_1_3_grams', CountVectorizer(ngram_range = (1, 3))),        #using the ngram_range parameter \n",
    "     ('Multi NB', MultinomialNB())         \n",
    "])\n",
    "\n",
    "#2. fit with X_train and y_train\n",
    "clf.fit(X_train, y_train)\n",
    "\n",
    "\n",
    "#3. get the predictions for X_test and store it in y_pred\n",
    "y_pred = clf.predict(X_test)\n",
    "\n",
    "\n",
    "#4. print the classfication report\n",
    "print(classification_report(y_test, y_pred))"
   ]
  },
  {
   "cell_type": "code",
   "execution_count": 65,
   "id": "14864daa",
   "metadata": {
    "execution": {
     "iopub.execute_input": "2023-03-14T19:31:55.904219Z",
     "iopub.status.busy": "2023-03-14T19:31:55.903820Z",
     "iopub.status.idle": "2023-03-14T19:38:11.745561Z",
     "shell.execute_reply": "2023-03-14T19:38:11.743830Z"
    },
    "papermill": {
     "duration": 375.87821,
     "end_time": "2023-03-14T19:38:11.749170",
     "exception": false,
     "start_time": "2023-03-14T19:31:55.870960",
     "status": "completed"
    },
    "tags": []
   },
   "outputs": [],
   "source": [
    "df_balanced['preprocessed_txt'] = df_balanced['short_description'].apply(preprocess)"
   ]
  },
  {
   "cell_type": "code",
   "execution_count": 66,
   "id": "2d8e14ed",
   "metadata": {
    "execution": {
     "iopub.execute_input": "2023-03-14T19:38:11.817333Z",
     "iopub.status.busy": "2023-03-14T19:38:11.816918Z",
     "iopub.status.idle": "2023-03-14T19:38:11.830182Z",
     "shell.execute_reply": "2023-03-14T19:38:11.828683Z"
    },
    "papermill": {
     "duration": 0.050658,
     "end_time": "2023-03-14T19:38:11.833007",
     "exception": false,
     "start_time": "2023-03-14T19:38:11.782349",
     "status": "completed"
    },
    "tags": []
   },
   "outputs": [
    {
     "data": {
      "text/html": [
       "<div>\n",
       "<style scoped>\n",
       "    .dataframe tbody tr th:only-of-type {\n",
       "        vertical-align: middle;\n",
       "    }\n",
       "\n",
       "    .dataframe tbody tr th {\n",
       "        vertical-align: top;\n",
       "    }\n",
       "\n",
       "    .dataframe thead th {\n",
       "        text-align: right;\n",
       "    }\n",
       "</style>\n",
       "<table border=\"1\" class=\"dataframe\">\n",
       "  <thead>\n",
       "    <tr style=\"text-align: right;\">\n",
       "      <th></th>\n",
       "      <th>short_description</th>\n",
       "      <th>category</th>\n",
       "      <th>preprocessed_txt</th>\n",
       "    </tr>\n",
       "  </thead>\n",
       "  <tbody>\n",
       "    <tr>\n",
       "      <th>16014</th>\n",
       "      <td>The president, it evidently needs to be said, ...</td>\n",
       "      <td>1</td>\n",
       "      <td>president evidently need say professional athlete</td>\n",
       "    </tr>\n",
       "    <tr>\n",
       "      <th>25545</th>\n",
       "      <td>People should not be reduced to pawns used by ...</td>\n",
       "      <td>1</td>\n",
       "      <td>People reduce pawn official hope garner politi...</td>\n",
       "    </tr>\n",
       "    <tr>\n",
       "      <th>51291</th>\n",
       "      <td>The Senate will meet this Wednesday to elect i...</td>\n",
       "      <td>1</td>\n",
       "      <td>Senate meet Wednesday elect leader</td>\n",
       "    </tr>\n",
       "    <tr>\n",
       "      <th>41123</th>\n",
       "      <td>In a letter to Attorney General Jeff Sessions,...</td>\n",
       "      <td>1</td>\n",
       "      <td>letter Attorney General Jeff Sessions ask avai...</td>\n",
       "    </tr>\n",
       "    <tr>\n",
       "      <th>10450</th>\n",
       "      <td>Well, that didn't seem to go as planned.</td>\n",
       "      <td>1</td>\n",
       "      <td>plan</td>\n",
       "    </tr>\n",
       "  </tbody>\n",
       "</table>\n",
       "</div>"
      ],
      "text/plain": [
       "                                       short_description  category  \\\n",
       "16014  The president, it evidently needs to be said, ...         1   \n",
       "25545  People should not be reduced to pawns used by ...         1   \n",
       "51291  The Senate will meet this Wednesday to elect i...         1   \n",
       "41123  In a letter to Attorney General Jeff Sessions,...         1   \n",
       "10450           Well, that didn't seem to go as planned.         1   \n",
       "\n",
       "                                        preprocessed_txt  \n",
       "16014  president evidently need say professional athlete  \n",
       "25545  People reduce pawn official hope garner politi...  \n",
       "51291                 Senate meet Wednesday elect leader  \n",
       "41123  letter Attorney General Jeff Sessions ask avai...  \n",
       "10450                                               plan  "
      ]
     },
     "execution_count": 66,
     "metadata": {},
     "output_type": "execute_result"
    }
   ],
   "source": [
    "df_balanced.head()\n"
   ]
  },
  {
   "cell_type": "markdown",
   "id": "13867f9c",
   "metadata": {
    "papermill": {
     "duration": 0.03198,
     "end_time": "2023-03-14T19:38:11.898295",
     "exception": false,
     "start_time": "2023-03-14T19:38:11.866315",
     "status": "completed"
    },
    "tags": []
   },
   "source": [
    "# Build a model with pre processed text"
   ]
  },
  {
   "cell_type": "code",
   "execution_count": 67,
   "id": "7916dfff",
   "metadata": {
    "execution": {
     "iopub.execute_input": "2023-03-14T19:38:11.966808Z",
     "iopub.status.busy": "2023-03-14T19:38:11.966329Z",
     "iopub.status.idle": "2023-03-14T19:38:11.990239Z",
     "shell.execute_reply": "2023-03-14T19:38:11.988712Z"
    },
    "papermill": {
     "duration": 0.061631,
     "end_time": "2023-03-14T19:38:11.993038",
     "exception": false,
     "start_time": "2023-03-14T19:38:11.931407",
     "status": "completed"
    },
    "tags": []
   },
   "outputs": [],
   "source": [
    "X_train, X_test, y_train, y_test = train_test_split(\n",
    "    df_balanced.preprocessed_txt, \n",
    "    df_balanced.category, \n",
    "    test_size=0.2, # 20% samples will go to test dataset\n",
    "    random_state=2022,\n",
    "    stratify=df_balanced.category\n",
    ")"
   ]
  },
  {
   "cell_type": "code",
   "execution_count": 68,
   "id": "41ceb867",
   "metadata": {
    "execution": {
     "iopub.execute_input": "2023-03-14T19:38:12.060829Z",
     "iopub.status.busy": "2023-03-14T19:38:12.059573Z",
     "iopub.status.idle": "2023-03-14T19:38:12.070176Z",
     "shell.execute_reply": "2023-03-14T19:38:12.068999Z"
    },
    "papermill": {
     "duration": 0.045869,
     "end_time": "2023-03-14T19:38:12.072460",
     "exception": false,
     "start_time": "2023-03-14T19:38:12.026591",
     "status": "completed"
    },
    "tags": []
   },
   "outputs": [
    {
     "name": "stdout",
     "output_type": "stream",
     "text": [
      "(31680,)\n"
     ]
    },
    {
     "data": {
      "text/plain": [
       "146031    punctual people leave room error common charac...\n",
       "120991    maybe permissive attitude public nudity maybe ...\n",
       "3358                               90 come fast fan Twitter\n",
       "14084     spend time try prove russian collusion Trump c...\n",
       "127940    World Bank decade criticize overly focus const...\n",
       "Name: preprocessed_txt, dtype: object"
      ]
     },
     "execution_count": 68,
     "metadata": {},
     "output_type": "execute_result"
    }
   ],
   "source": [
    "print(X_train.shape)\n",
    "X_train.head()"
   ]
  },
  {
   "cell_type": "code",
   "execution_count": 69,
   "id": "a8b2285b",
   "metadata": {
    "execution": {
     "iopub.execute_input": "2023-03-14T19:38:12.139378Z",
     "iopub.status.busy": "2023-03-14T19:38:12.138885Z",
     "iopub.status.idle": "2023-03-14T19:38:15.068382Z",
     "shell.execute_reply": "2023-03-14T19:38:15.066718Z"
    },
    "papermill": {
     "duration": 2.966304,
     "end_time": "2023-03-14T19:38:15.071184",
     "exception": false,
     "start_time": "2023-03-14T19:38:12.104880",
     "status": "completed"
    },
    "tags": []
   },
   "outputs": [
    {
     "name": "stdout",
     "output_type": "stream",
     "text": [
      "              precision    recall  f1-score   support\n",
      "\n",
      "           0       0.76      0.61      0.68      1980\n",
      "           1       0.85      0.68      0.76      1980\n",
      "           2       0.77      0.83      0.80      1980\n",
      "           3       0.70      0.91      0.79      1980\n",
      "\n",
      "    accuracy                           0.76      7920\n",
      "   macro avg       0.77      0.76      0.76      7920\n",
      "weighted avg       0.77      0.76      0.76      7920\n",
      "\n"
     ]
    }
   ],
   "source": [
    "#1. create a pipeline object\n",
    "clf = Pipeline([\n",
    "    ('vectorizer_bow', CountVectorizer(ngram_range = (1, 2))),        #using the ngram_range parameter \n",
    "    ('Multi NB', MultinomialNB())\n",
    "])\n",
    "\n",
    "#2. fit with X_train and y_train\n",
    "clf.fit(X_train, y_train)\n",
    "\n",
    "\n",
    "#3. get the predictions for X_test and store it in y_pred\n",
    "y_pred = clf.predict(X_test)\n",
    "\n",
    "\n",
    "#4. print the classfication report\n",
    "print(classification_report(y_test, y_pred))"
   ]
  },
  {
   "cell_type": "markdown",
   "id": "b3a974b4",
   "metadata": {
    "papermill": {
     "duration": 0.032361,
     "end_time": "2023-03-14T19:38:15.136745",
     "exception": false,
     "start_time": "2023-03-14T19:38:15.104384",
     "status": "completed"
    },
    "tags": []
   },
   "source": [
    "If you compare above classification report for (1,2) gram with the one from unprocessed text, you will find some improvement in the model that uses preprocessed cleaned up text. Hence we can conclude that for this particular problem using preprocessing (removing stop words, lemmatization) is improving the performance of the model"
   ]
  },
  {
   "cell_type": "code",
   "execution_count": 70,
   "id": "1cac23b2",
   "metadata": {
    "execution": {
     "iopub.execute_input": "2023-03-14T19:38:15.205484Z",
     "iopub.status.busy": "2023-03-14T19:38:15.204593Z",
     "iopub.status.idle": "2023-03-14T19:38:15.214649Z",
     "shell.execute_reply": "2023-03-14T19:38:15.213601Z"
    },
    "papermill": {
     "duration": 0.047267,
     "end_time": "2023-03-14T19:38:15.217265",
     "exception": false,
     "start_time": "2023-03-14T19:38:15.169998",
     "status": "completed"
    },
    "tags": []
   },
   "outputs": [
    {
     "data": {
      "text/plain": [
       "array([[1216,  166,  249,  349],\n",
       "       [ 247, 1351,  114,  268],\n",
       "       [ 126,   42, 1642,  170],\n",
       "       [  16,   29,  128, 1807]])"
      ]
     },
     "execution_count": 70,
     "metadata": {},
     "output_type": "execute_result"
    }
   ],
   "source": [
    "from sklearn.metrics import confusion_matrix\n",
    "cm = confusion_matrix(y_test, y_pred)\n",
    "cm"
   ]
  },
  {
   "cell_type": "code",
   "execution_count": 71,
   "id": "d47dd145",
   "metadata": {
    "execution": {
     "iopub.execute_input": "2023-03-14T19:38:15.286595Z",
     "iopub.status.busy": "2023-03-14T19:38:15.286078Z",
     "iopub.status.idle": "2023-03-14T19:38:15.888024Z",
     "shell.execute_reply": "2023-03-14T19:38:15.886747Z"
    },
    "papermill": {
     "duration": 0.640395,
     "end_time": "2023-03-14T19:38:15.891232",
     "exception": false,
     "start_time": "2023-03-14T19:38:15.250837",
     "status": "completed"
    },
    "tags": []
   },
   "outputs": [
    {
     "data": {
      "text/plain": [
       "Text(95.72222222222221, 0.5, 'Truth')"
      ]
     },
     "execution_count": 71,
     "metadata": {},
     "output_type": "execute_result"
    },
    {
     "data": {
      "image/png": "[encoded data removed]",
      "text/plain": [
       "<Figure size 1000x700 with 2 Axes>"
      ]
     },
     "metadata": {},
     "output_type": "display_data"
    }
   ],
   "source": [
    "from matplotlib import pyplot as plt\n",
    "import seaborn as sns\n",
    "plt.figure(figsize = (10,7))\n",
    "sns.heatmap(cm, annot=True, fmt='d')\n",
    "plt.xlabel('Prediction')\n",
    "plt.ylabel('Truth')"
   ]
  },
  {
   "cell_type": "markdown",
   "id": "f3e92167",
   "metadata": {
    "papermill": {
     "duration": 0.034099,
     "end_time": "2023-03-14T19:38:15.959058",
     "exception": false,
     "start_time": "2023-03-14T19:38:15.924959",
     "status": "completed"
    },
    "tags": []
   },
   "source": [
    "# TF-IDF"
   ]
  },
  {
   "cell_type": "markdown",
   "id": "1ecdf481",
   "metadata": {
    "papermill": {
     "duration": 0.036895,
     "end_time": "2023-03-14T19:38:16.029531",
     "exception": false,
     "start_time": "2023-03-14T19:38:15.992636",
     "status": "completed"
    },
    "tags": []
   },
   "source": [
    "The formula for tf-idf (Term Frequency-Inverse Document Frequency) is:\n",
    "\n",
    "tf-idf = tf * idf\n",
    "\n",
    "where:\n",
    "\n",
    "tf = (Number of times term appears in a document) / (Total number of terms in the document) <br/>\n",
    "idf = log_e(Total number of documents / Number of documents with term in it)"
   ]
  },
  {
   "cell_type": "code",
   "execution_count": 72,
   "id": "1b36a8e5",
   "metadata": {
    "execution": {
     "iopub.execute_input": "2023-03-14T19:38:16.099447Z",
     "iopub.status.busy": "2023-03-14T19:38:16.098977Z",
     "iopub.status.idle": "2023-03-14T19:38:16.105367Z",
     "shell.execute_reply": "2023-03-14T19:38:16.104119Z"
    },
    "papermill": {
     "duration": 0.044652,
     "end_time": "2023-03-14T19:38:16.108295",
     "exception": false,
     "start_time": "2023-03-14T19:38:16.063643",
     "status": "completed"
    },
    "tags": []
   },
   "outputs": [],
   "source": [
    "from sklearn.feature_extraction.text import TfidfVectorizer\n",
    "\n",
    "corpus = [\n",
    "    \"Thor eating pizza, Loki is eating pizza, Ironman ate pizza already\",\n",
    "    \"Apple is announcing new iphone tomorrow\",\n",
    "    \"Tesla is announcing new model-3 tomorrow\",\n",
    "    \"Google is announcing new pixel-6 tomorrow\",\n",
    "    \"Microsoft is announcing new surface tomorrow\",\n",
    "    \"Amazon is announcing new eco-dot tomorrow\",\n",
    "    \"I am eating biryani and you are eating grapes\"\n",
    "]"
   ]
  },
  {
   "cell_type": "code",
   "execution_count": 73,
   "id": "3c24c899",
   "metadata": {
    "execution": {
     "iopub.execute_input": "2023-03-14T19:38:16.177185Z",
     "iopub.status.busy": "2023-03-14T19:38:16.175842Z",
     "iopub.status.idle": "2023-03-14T19:38:16.187309Z",
     "shell.execute_reply": "2023-03-14T19:38:16.186104Z"
    },
    "papermill": {
     "duration": 0.050307,
     "end_time": "2023-03-14T19:38:16.191463",
     "exception": false,
     "start_time": "2023-03-14T19:38:16.141156",
     "status": "completed"
    },
    "tags": []
   },
   "outputs": [],
   "source": [
    "#let's create the vectorizer and fit the corpus and transform them accordingly\n",
    "v = TfidfVectorizer()\n",
    "v.fit(corpus)\n",
    "transform_output = v.transform(corpus)"
   ]
  },
  {
   "cell_type": "code",
   "execution_count": 74,
   "id": "b3f161de",
   "metadata": {
    "execution": {
     "iopub.execute_input": "2023-03-14T19:38:16.262997Z",
     "iopub.status.busy": "2023-03-14T19:38:16.261427Z",
     "iopub.status.idle": "2023-03-14T19:38:16.268310Z",
     "shell.execute_reply": "2023-03-14T19:38:16.267034Z"
    },
    "papermill": {
     "duration": 0.044208,
     "end_time": "2023-03-14T19:38:16.271007",
     "exception": false,
     "start_time": "2023-03-14T19:38:16.226799",
     "status": "completed"
    },
    "tags": []
   },
   "outputs": [
    {
     "name": "stdout",
     "output_type": "stream",
     "text": [
      "{'thor': 25, 'eating': 10, 'pizza': 22, 'loki': 17, 'is': 16, 'ironman': 15, 'ate': 7, 'already': 0, 'apple': 5, 'announcing': 4, 'new': 20, 'iphone': 14, 'tomorrow': 26, 'tesla': 24, 'model': 19, 'google': 12, 'pixel': 21, 'microsoft': 18, 'surface': 23, 'amazon': 2, 'eco': 11, 'dot': 9, 'am': 1, 'biryani': 8, 'and': 3, 'you': 27, 'are': 6, 'grapes': 13}\n"
     ]
    }
   ],
   "source": [
    "#let's print the vocabulary\n",
    "\n",
    "print(v.vocabulary_)"
   ]
  },
  {
   "cell_type": "code",
   "execution_count": 75,
   "id": "a819c2da",
   "metadata": {
    "execution": {
     "iopub.execute_input": "2023-03-14T19:38:16.340476Z",
     "iopub.status.busy": "2023-03-14T19:38:16.338932Z",
     "iopub.status.idle": "2023-03-14T19:38:16.351901Z",
     "shell.execute_reply": "2023-03-14T19:38:16.350145Z"
    },
    "papermill": {
     "duration": 0.050768,
     "end_time": "2023-03-14T19:38:16.354365",
     "exception": false,
     "start_time": "2023-03-14T19:38:16.303597",
     "status": "completed"
    },
    "tags": []
   },
   "outputs": [
    {
     "name": "stdout",
     "output_type": "stream",
     "text": [
      "already : 2.386294361119891\n",
      "am : 2.386294361119891\n",
      "amazon : 2.386294361119891\n",
      "and : 2.386294361119891\n",
      "announcing : 1.2876820724517808\n",
      "apple : 2.386294361119891\n",
      "are : 2.386294361119891\n",
      "ate : 2.386294361119891\n",
      "biryani : 2.386294361119891\n",
      "dot : 2.386294361119891\n",
      "eating : 1.9808292530117262\n",
      "eco : 2.386294361119891\n",
      "google : 2.386294361119891\n",
      "grapes : 2.386294361119891\n",
      "iphone : 2.386294361119891\n",
      "ironman : 2.386294361119891\n",
      "is : 1.1335313926245225\n",
      "loki : 2.386294361119891\n",
      "microsoft : 2.386294361119891\n",
      "model : 2.386294361119891\n",
      "new : 1.2876820724517808\n",
      "pixel : 2.386294361119891\n",
      "pizza : 2.386294361119891\n",
      "surface : 2.386294361119891\n",
      "tesla : 2.386294361119891\n",
      "thor : 2.386294361119891\n",
      "tomorrow : 1.2876820724517808\n",
      "you : 2.386294361119891\n"
     ]
    }
   ],
   "source": [
    "#let's print the idf of each word:\n",
    "\n",
    "all_feature_names = v.get_feature_names_out()\n",
    "\n",
    "for word in all_feature_names:\n",
    "    \n",
    "    #let's get the index in the vocabulary\n",
    "    indx = v.vocabulary_.get(word)\n",
    "    \n",
    "    #get the score\n",
    "    idf_score = v.idf_[indx]\n",
    "    \n",
    "    print(f\"{word} : {idf_score}\")"
   ]
  },
  {
   "cell_type": "code",
   "execution_count": 76,
   "id": "69d2a473",
   "metadata": {
    "execution": {
     "iopub.execute_input": "2023-03-14T19:38:16.424549Z",
     "iopub.status.busy": "2023-03-14T19:38:16.424078Z",
     "iopub.status.idle": "2023-03-14T19:38:16.432946Z",
     "shell.execute_reply": "2023-03-14T19:38:16.431579Z"
    },
    "papermill": {
     "duration": 0.048088,
     "end_time": "2023-03-14T19:38:16.435897",
     "exception": false,
     "start_time": "2023-03-14T19:38:16.387809",
     "status": "completed"
    },
    "tags": []
   },
   "outputs": [
    {
     "name": "stdout",
     "output_type": "stream",
     "text": [
      "[[0.24266547 0.         0.         0.         0.         0.\n",
      "  0.         0.24266547 0.         0.         0.40286636 0.\n",
      "  0.         0.         0.         0.24266547 0.11527033 0.24266547\n",
      "  0.         0.         0.         0.         0.72799642 0.\n",
      "  0.         0.24266547 0.         0.        ]\n",
      " [0.         0.         0.         0.         0.30652086 0.5680354\n",
      "  0.         0.         0.         0.         0.         0.\n",
      "  0.         0.         0.5680354  0.         0.26982671 0.\n",
      "  0.         0.         0.30652086 0.         0.         0.\n",
      "  0.         0.         0.30652086 0.        ]\n",
      " [0.         0.         0.         0.         0.30652086 0.\n",
      "  0.         0.         0.         0.         0.         0.\n",
      "  0.         0.         0.         0.         0.26982671 0.\n",
      "  0.         0.5680354  0.30652086 0.         0.         0.\n",
      "  0.5680354  0.         0.30652086 0.        ]\n",
      " [0.         0.         0.         0.         0.30652086 0.\n",
      "  0.         0.         0.         0.         0.         0.\n",
      "  0.5680354  0.         0.         0.         0.26982671 0.\n",
      "  0.         0.         0.30652086 0.5680354  0.         0.\n",
      "  0.         0.         0.30652086 0.        ]\n",
      " [0.         0.         0.         0.         0.30652086 0.\n",
      "  0.         0.         0.         0.         0.         0.\n",
      "  0.         0.         0.         0.         0.26982671 0.\n",
      "  0.5680354  0.         0.30652086 0.         0.         0.5680354\n",
      "  0.         0.         0.30652086 0.        ]\n",
      " [0.         0.         0.49391316 0.         0.26652333 0.\n",
      "  0.         0.         0.         0.49391316 0.         0.49391316\n",
      "  0.         0.         0.         0.         0.23461736 0.\n",
      "  0.         0.         0.26652333 0.         0.         0.\n",
      "  0.         0.         0.26652333 0.        ]\n",
      " [0.         0.33794257 0.         0.33794257 0.         0.\n",
      "  0.33794257 0.         0.33794257 0.         0.56104271 0.\n",
      "  0.         0.33794257 0.         0.         0.         0.\n",
      "  0.         0.         0.         0.         0.         0.\n",
      "  0.         0.         0.         0.33794257]]\n"
     ]
    }
   ],
   "source": [
    "#let's print the transformed output from tf-idf\n",
    "print(transform_output.toarray())"
   ]
  },
  {
   "cell_type": "code",
   "execution_count": 77,
   "id": "69d432a5",
   "metadata": {
    "execution": {
     "iopub.execute_input": "2023-03-14T19:38:16.509618Z",
     "iopub.status.busy": "2023-03-14T19:38:16.509107Z",
     "iopub.status.idle": "2023-03-14T19:38:17.385317Z",
     "shell.execute_reply": "2023-03-14T19:38:17.383860Z"
    },
    "papermill": {
     "duration": 0.917225,
     "end_time": "2023-03-14T19:38:17.388345",
     "exception": false,
     "start_time": "2023-03-14T19:38:16.471120",
     "status": "completed"
    },
    "tags": []
   },
   "outputs": [
    {
     "name": "stdout",
     "output_type": "stream",
     "text": [
      "(50424, 2)\n"
     ]
    },
    {
     "data": {
      "text/html": [
       "<div>\n",
       "<style scoped>\n",
       "    .dataframe tbody tr th:only-of-type {\n",
       "        vertical-align: middle;\n",
       "    }\n",
       "\n",
       "    .dataframe tbody tr th {\n",
       "        vertical-align: top;\n",
       "    }\n",
       "\n",
       "    .dataframe thead th {\n",
       "        text-align: right;\n",
       "    }\n",
       "</style>\n",
       "<table border=\"1\" class=\"dataframe\">\n",
       "  <thead>\n",
       "    <tr style=\"text-align: right;\">\n",
       "      <th></th>\n",
       "      <th>Household</th>\n",
       "      <th>Paper Plane Design Framed Wall Hanging Motivational Office Decor Art Prints (8.7 X 8.7 inch) - Set of 4 Painting made up in synthetic frame with uv textured print which gives multi effects and attracts towards it. This is an special series of paintings which makes your wall very beautiful and gives a royal touch. This painting is ready to hang, you would be proud to possess this unique painting that is a niche apart. We use only the most modern and efficient printing technology on our prints, with only the and inks and precision epson, roland and hp printers. This innovative hd printing technique results in durable and spectacular looking prints of the highest that last a lifetime. We print solely with top-notch 100% inks, to achieve brilliant and true colours. Due to their high level of uv resistance, our prints retain their beautiful colours for many years. Add colour and style to your living space with this digitally printed painting. Some are for pleasure and some for eternal bliss.so bring home this elegant print that is lushed with rich colors that makes it nothing but sheer elegance to be to your friends and family.it would be treasured forever by whoever your lucky recipient is. Liven up your place with these intriguing paintings that are high definition hd graphic digital prints for home, office or any room.</th>\n",
       "    </tr>\n",
       "  </thead>\n",
       "  <tbody>\n",
       "    <tr>\n",
       "      <th>0</th>\n",
       "      <td>Household</td>\n",
       "      <td>SAF 'Floral' Framed Painting (Wood, 30 inch x ...</td>\n",
       "    </tr>\n",
       "    <tr>\n",
       "      <th>1</th>\n",
       "      <td>Household</td>\n",
       "      <td>SAF 'UV Textured Modern Art Print Framed' Pain...</td>\n",
       "    </tr>\n",
       "    <tr>\n",
       "      <th>2</th>\n",
       "      <td>Household</td>\n",
       "      <td>SAF Flower Print Framed Painting (Synthetic, 1...</td>\n",
       "    </tr>\n",
       "    <tr>\n",
       "      <th>3</th>\n",
       "      <td>Household</td>\n",
       "      <td>Incredible Gifts India Wooden Happy Birthday U...</td>\n",
       "    </tr>\n",
       "    <tr>\n",
       "      <th>4</th>\n",
       "      <td>Household</td>\n",
       "      <td>Pitaara Box Romantic Venice Canvas Painting 6m...</td>\n",
       "    </tr>\n",
       "  </tbody>\n",
       "</table>\n",
       "</div>"
      ],
      "text/plain": [
       "   Household  \\\n",
       "0  Household   \n",
       "1  Household   \n",
       "2  Household   \n",
       "3  Household   \n",
       "4  Household   \n",
       "\n",
       "  Paper Plane Design Framed Wall Hanging Motivational Office Decor Art Prints (8.7 X 8.7 inch) - Set of 4 Painting made up in synthetic frame with uv textured print which gives multi effects and attracts towards it. This is an special series of paintings which makes your wall very beautiful and gives a royal touch. This painting is ready to hang, you would be proud to possess this unique painting that is a niche apart. We use only the most modern and efficient printing technology on our prints, with only the and inks and precision epson, roland and hp printers. This innovative hd printing technique results in durable and spectacular looking prints of the highest that last a lifetime. We print solely with top-notch 100% inks, to achieve brilliant and true colours. Due to their high level of uv resistance, our prints retain their beautiful colours for many years. Add colour and style to your living space with this digitally printed painting. Some are for pleasure and some for eternal bliss.so bring home this elegant print that is lushed with rich colors that makes it nothing but sheer elegance to be to your friends and family.it would be treasured forever by whoever your lucky recipient is. Liven up your place with these intriguing paintings that are high definition hd graphic digital prints for home, office or any room.  \n",
       "0  SAF 'Floral' Framed Painting (Wood, 30 inch x ...                                                                                                                                                                                                                                                                                                                                                                                                                                                                                                                                                                                                                                                                                                                                                                                                                                                                                                                                                                                                                                                                                                                                                                                                                                                                                                                                          \n",
       "1  SAF 'UV Textured Modern Art Print Framed' Pain...                                                                                                                                                                                                                                                                                                                                                                                                                                                                                                                                                                                                                                                                                                                                                                                                                                                                                                                                                                                                                                                                                                                                                                                                                                                                                                                                          \n",
       "2  SAF Flower Print Framed Painting (Synthetic, 1...                                                                                                                                                                                                                                                                                                                                                                                                                                                                                                                                                                                                                                                                                                                                                                                                                                                                                                                                                                                                                                                                                                                                                                                                                                                                                                                                          \n",
       "3  Incredible Gifts India Wooden Happy Birthday U...                                                                                                                                                                                                                                                                                                                                                                                                                                                                                                                                                                                                                                                                                                                                                                                                                                                                                                                                                                                                                                                                                                                                                                                                                                                                                                                                          \n",
       "4  Pitaara Box Romantic Venice Canvas Painting 6m...                                                                                                                                                                                                                                                                                                                                                                                                                                                                                                                                                                                                                                                                                                                                                                                                                                                                                                                                                                                                                                                                                                                                                                                                                                                                                                                                          "
      ]
     },
     "execution_count": 77,
     "metadata": {},
     "output_type": "execute_result"
    }
   ],
   "source": [
    "import pandas as pd\n",
    "\n",
    "#read the data into a pandas dataframe\n",
    "df = pd.read_csv(\"/kaggle/input/ecommerce-text-classification/ecommerceDataset.csv\")\n",
    "print(df.shape)\n",
    "df.head(5)"
   ]
  },
  {
   "cell_type": "code",
   "execution_count": 78,
   "id": "7265d8ee",
   "metadata": {
    "execution": {
     "iopub.execute_input": "2023-03-14T19:38:17.540023Z",
     "iopub.status.busy": "2023-03-14T19:38:17.539486Z",
     "iopub.status.idle": "2023-03-14T19:38:17.550726Z",
     "shell.execute_reply": "2023-03-14T19:38:17.549593Z"
    },
    "papermill": {
     "duration": 0.049676,
     "end_time": "2023-03-14T19:38:17.553688",
     "exception": false,
     "start_time": "2023-03-14T19:38:17.504012",
     "status": "completed"
    },
    "tags": []
   },
   "outputs": [],
   "source": [
    "df = df.rename(columns={\"Household\": \"label\"})\n",
    "df = df.rename(columns={f\"{df.columns.values[1]}\": \"Text\"})"
   ]
  },
  {
   "cell_type": "code",
   "execution_count": 79,
   "id": "f65f7e82",
   "metadata": {
    "execution": {
     "iopub.execute_input": "2023-03-14T19:38:17.623996Z",
     "iopub.status.busy": "2023-03-14T19:38:17.622617Z",
     "iopub.status.idle": "2023-03-14T19:38:17.632118Z",
     "shell.execute_reply": "2023-03-14T19:38:17.630725Z"
    },
    "papermill": {
     "duration": 0.047328,
     "end_time": "2023-03-14T19:38:17.634704",
     "exception": false,
     "start_time": "2023-03-14T19:38:17.587376",
     "status": "completed"
    },
    "tags": []
   },
   "outputs": [
    {
     "data": {
      "text/plain": [
       "Index(['label', 'Text'], dtype='object')"
      ]
     },
     "execution_count": 79,
     "metadata": {},
     "output_type": "execute_result"
    }
   ],
   "source": [
    "df.columns"
   ]
  },
  {
   "cell_type": "code",
   "execution_count": 80,
   "id": "69d08b60",
   "metadata": {
    "execution": {
     "iopub.execute_input": "2023-03-14T19:38:17.706996Z",
     "iopub.status.busy": "2023-03-14T19:38:17.706501Z",
     "iopub.status.idle": "2023-03-14T19:38:17.719914Z",
     "shell.execute_reply": "2023-03-14T19:38:17.718866Z"
    },
    "papermill": {
     "duration": 0.052336,
     "end_time": "2023-03-14T19:38:17.722364",
     "exception": false,
     "start_time": "2023-03-14T19:38:17.670028",
     "status": "completed"
    },
    "tags": []
   },
   "outputs": [
    {
     "data": {
      "text/plain": [
       "Household                 19312\n",
       "Books                     11820\n",
       "Electronics               10621\n",
       "Clothing & Accessories     8671\n",
       "Name: label, dtype: int64"
      ]
     },
     "execution_count": 80,
     "metadata": {},
     "output_type": "execute_result"
    }
   ],
   "source": [
    "#check the distribution of labels \n",
    "df['label'].value_counts()"
   ]
  },
  {
   "cell_type": "code",
   "execution_count": 81,
   "id": "c1fbb95c",
   "metadata": {
    "execution": {
     "iopub.execute_input": "2023-03-14T19:38:17.795129Z",
     "iopub.status.busy": "2023-03-14T19:38:17.794439Z",
     "iopub.status.idle": "2023-03-14T19:38:17.810893Z",
     "shell.execute_reply": "2023-03-14T19:38:17.809847Z"
    },
    "papermill": {
     "duration": 0.056191,
     "end_time": "2023-03-14T19:38:17.813675",
     "exception": false,
     "start_time": "2023-03-14T19:38:17.757484",
     "status": "completed"
    },
    "tags": []
   },
   "outputs": [
    {
     "data": {
      "text/html": [
       "<div>\n",
       "<style scoped>\n",
       "    .dataframe tbody tr th:only-of-type {\n",
       "        vertical-align: middle;\n",
       "    }\n",
       "\n",
       "    .dataframe tbody tr th {\n",
       "        vertical-align: top;\n",
       "    }\n",
       "\n",
       "    .dataframe thead th {\n",
       "        text-align: right;\n",
       "    }\n",
       "</style>\n",
       "<table border=\"1\" class=\"dataframe\">\n",
       "  <thead>\n",
       "    <tr style=\"text-align: right;\">\n",
       "      <th></th>\n",
       "      <th>label</th>\n",
       "      <th>Text</th>\n",
       "      <th>label_num</th>\n",
       "    </tr>\n",
       "  </thead>\n",
       "  <tbody>\n",
       "    <tr>\n",
       "      <th>0</th>\n",
       "      <td>Household</td>\n",
       "      <td>SAF 'Floral' Framed Painting (Wood, 30 inch x ...</td>\n",
       "      <td>0</td>\n",
       "    </tr>\n",
       "    <tr>\n",
       "      <th>1</th>\n",
       "      <td>Household</td>\n",
       "      <td>SAF 'UV Textured Modern Art Print Framed' Pain...</td>\n",
       "      <td>0</td>\n",
       "    </tr>\n",
       "    <tr>\n",
       "      <th>2</th>\n",
       "      <td>Household</td>\n",
       "      <td>SAF Flower Print Framed Painting (Synthetic, 1...</td>\n",
       "      <td>0</td>\n",
       "    </tr>\n",
       "    <tr>\n",
       "      <th>3</th>\n",
       "      <td>Household</td>\n",
       "      <td>Incredible Gifts India Wooden Happy Birthday U...</td>\n",
       "      <td>0</td>\n",
       "    </tr>\n",
       "    <tr>\n",
       "      <th>4</th>\n",
       "      <td>Household</td>\n",
       "      <td>Pitaara Box Romantic Venice Canvas Painting 6m...</td>\n",
       "      <td>0</td>\n",
       "    </tr>\n",
       "  </tbody>\n",
       "</table>\n",
       "</div>"
      ],
      "text/plain": [
       "       label                                               Text  label_num\n",
       "0  Household  SAF 'Floral' Framed Painting (Wood, 30 inch x ...          0\n",
       "1  Household  SAF 'UV Textured Modern Art Print Framed' Pain...          0\n",
       "2  Household  SAF Flower Print Framed Painting (Synthetic, 1...          0\n",
       "3  Household  Incredible Gifts India Wooden Happy Birthday U...          0\n",
       "4  Household  Pitaara Box Romantic Venice Canvas Painting 6m...          0"
      ]
     },
     "execution_count": 81,
     "metadata": {},
     "output_type": "execute_result"
    }
   ],
   "source": [
    "#Add the new column which gives a unique number to each of these labels \n",
    "\n",
    "df['label_num'] = df['label'].map({\n",
    "    'Household' : 0, \n",
    "    'Books': 1, \n",
    "    'Electronics': 2, \n",
    "    'Clothing & Accessories': 3\n",
    "})\n",
    "\n",
    "#checking the results \n",
    "df.head(5)"
   ]
  },
  {
   "cell_type": "code",
   "execution_count": 82,
   "id": "d4d8686c",
   "metadata": {
    "execution": {
     "iopub.execute_input": "2023-03-14T19:38:17.887766Z",
     "iopub.status.busy": "2023-03-14T19:38:17.887026Z",
     "iopub.status.idle": "2023-03-14T19:38:17.905496Z",
     "shell.execute_reply": "2023-03-14T19:38:17.904477Z"
    },
    "papermill": {
     "duration": 0.058604,
     "end_time": "2023-03-14T19:38:17.908572",
     "exception": false,
     "start_time": "2023-03-14T19:38:17.849968",
     "status": "completed"
    },
    "tags": []
   },
   "outputs": [],
   "source": [
    "df = df.dropna()"
   ]
  },
  {
   "cell_type": "markdown",
   "id": "4c16dd65",
   "metadata": {
    "papermill": {
     "duration": 0.035372,
     "end_time": "2023-03-14T19:38:17.979170",
     "exception": false,
     "start_time": "2023-03-14T19:38:17.943798",
     "status": "completed"
    },
    "tags": []
   },
   "source": [
    "## Train Test Split"
   ]
  },
  {
   "cell_type": "code",
   "execution_count": 83,
   "id": "a3e216a1",
   "metadata": {
    "execution": {
     "iopub.execute_input": "2023-03-14T19:38:18.052349Z",
     "iopub.status.busy": "2023-03-14T19:38:18.051701Z",
     "iopub.status.idle": "2023-03-14T19:38:18.085227Z",
     "shell.execute_reply": "2023-03-14T19:38:18.083817Z"
    },
    "papermill": {
     "duration": 0.073751,
     "end_time": "2023-03-14T19:38:18.088287",
     "exception": false,
     "start_time": "2023-03-14T19:38:18.014536",
     "status": "completed"
    },
    "tags": []
   },
   "outputs": [],
   "source": [
    "from sklearn.model_selection import train_test_split\n",
    "\n",
    "X_train, X_test, y_train, y_test = train_test_split(\n",
    "    df.Text, \n",
    "    df.label_num, \n",
    "    test_size=0.2, # 20% samples will go to test dataset\n",
    "    random_state=2022,\n",
    "    stratify=df.label_num\n",
    ")"
   ]
  },
  {
   "cell_type": "code",
   "execution_count": 84,
   "id": "90685827",
   "metadata": {
    "execution": {
     "iopub.execute_input": "2023-03-14T19:38:18.162063Z",
     "iopub.status.busy": "2023-03-14T19:38:18.161332Z",
     "iopub.status.idle": "2023-03-14T19:38:18.168051Z",
     "shell.execute_reply": "2023-03-14T19:38:18.166583Z"
    },
    "papermill": {
     "duration": 0.046934,
     "end_time": "2023-03-14T19:38:18.171207",
     "exception": false,
     "start_time": "2023-03-14T19:38:18.124273",
     "status": "completed"
    },
    "tags": []
   },
   "outputs": [
    {
     "name": "stdout",
     "output_type": "stream",
     "text": [
      "Shape of X_train:  (40338,)\n",
      "Shape of X_test:  (10085,)\n"
     ]
    }
   ],
   "source": [
    "print(\"Shape of X_train: \", X_train.shape)\n",
    "print(\"Shape of X_test: \", X_test.shape)"
   ]
  },
  {
   "cell_type": "code",
   "execution_count": 85,
   "id": "4005b209",
   "metadata": {
    "execution": {
     "iopub.execute_input": "2023-03-14T19:38:18.256061Z",
     "iopub.status.busy": "2023-03-14T19:38:18.254688Z",
     "iopub.status.idle": "2023-03-14T19:38:18.266266Z",
     "shell.execute_reply": "2023-03-14T19:38:18.265135Z"
    },
    "papermill": {
     "duration": 0.0564,
     "end_time": "2023-03-14T19:38:18.268518",
     "exception": false,
     "start_time": "2023-03-14T19:38:18.212118",
     "status": "completed"
    },
    "tags": []
   },
   "outputs": [
    {
     "data": {
      "text/plain": [
       "6291     Deco Window Polyester Roller Blind (Blue, 36 W...\n",
       "13532    Black + Decker 48 Ltr Oven Toaster Grill,Grey/...\n",
       "14313    Euroclean Eureka Forbes Plastic Vacuum Cleaner...\n",
       "31384    ahhaaaa Boy's Blended Waistcoat, Shirt and Tro...\n",
       "20846    Wintech Assembled All-in-One Desktop PC(19-inc...\n",
       "Name: Text, dtype: object"
      ]
     },
     "execution_count": 85,
     "metadata": {},
     "output_type": "execute_result"
    }
   ],
   "source": [
    "X_train.head()"
   ]
  },
  {
   "cell_type": "code",
   "execution_count": 86,
   "id": "899d9a91",
   "metadata": {
    "execution": {
     "iopub.execute_input": "2023-03-14T19:38:18.343430Z",
     "iopub.status.busy": "2023-03-14T19:38:18.342370Z",
     "iopub.status.idle": "2023-03-14T19:38:56.973464Z",
     "shell.execute_reply": "2023-03-14T19:38:56.971957Z"
    },
    "papermill": {
     "duration": 38.705377,
     "end_time": "2023-03-14T19:38:57.011796",
     "exception": false,
     "start_time": "2023-03-14T19:38:18.306419",
     "status": "completed"
    },
    "tags": []
   },
   "outputs": [
    {
     "name": "stdout",
     "output_type": "stream",
     "text": [
      "              precision    recall  f1-score   support\n",
      "\n",
      "           0       0.95      0.97      0.96      3863\n",
      "           1       0.97      0.96      0.96      2364\n",
      "           2       0.96      0.94      0.95      2124\n",
      "           3       0.98      0.97      0.97      1734\n",
      "\n",
      "    accuracy                           0.96     10085\n",
      "   macro avg       0.96      0.96      0.96     10085\n",
      "weighted avg       0.96      0.96      0.96     10085\n",
      "\n"
     ]
    }
   ],
   "source": [
    "# Attempt 1 :\n",
    "# using sklearn pipeline module create a classification pipeline to classify the Ecommerce Data.\n",
    "\n",
    "from sklearn.neighbors import KNeighborsClassifier\n",
    "from sklearn.pipeline import Pipeline\n",
    "from sklearn.metrics import classification_report\n",
    "\n",
    "#1. create a pipeline object\n",
    "clf = Pipeline([\n",
    "     ('vectorizer_tfidf',TfidfVectorizer()),    \n",
    "     ('KNN', KNeighborsClassifier())         \n",
    "])\n",
    "\n",
    "#2. fit with X_train and y_train\n",
    "clf.fit(X_train, y_train)\n",
    "\n",
    "\n",
    "#3. get the predictions for X_test and store it in y_pred\n",
    "y_pred = clf.predict(X_test)\n",
    "\n",
    "\n",
    "#4. print the classfication report\n",
    "print(classification_report(y_test, y_pred))"
   ]
  },
  {
   "cell_type": "code",
   "execution_count": 87,
   "id": "7a45f677",
   "metadata": {
    "execution": {
     "iopub.execute_input": "2023-03-14T19:38:57.085197Z",
     "iopub.status.busy": "2023-03-14T19:38:57.083785Z",
     "iopub.status.idle": "2023-03-14T19:38:57.094174Z",
     "shell.execute_reply": "2023-03-14T19:38:57.092985Z"
    },
    "papermill": {
     "duration": 0.049601,
     "end_time": "2023-03-14T19:38:57.096576",
     "exception": false,
     "start_time": "2023-03-14T19:38:57.046975",
     "status": "completed"
    },
    "tags": []
   },
   "outputs": [
    {
     "data": {
      "text/plain": [
       "41535    Seagate 4TB Backup Plus Hub USB 3.0 Desktop 3....\n",
       "9671     Prestige Marvel Glass 3 Burner Gas Stove (Blac...\n",
       "49629    iVoltaa Next Gen Compact Wired Selfie Stick fo...\n",
       "33657    TWO DOTS Air Bra for Girls and Women Combo of ...\n",
       "19316    The Secret of Secrets: The Secrets of the Gold...\n",
       "Name: Text, dtype: object"
      ]
     },
     "execution_count": 87,
     "metadata": {},
     "output_type": "execute_result"
    }
   ],
   "source": [
    "X_test[:5]"
   ]
  },
  {
   "cell_type": "code",
   "execution_count": 88,
   "id": "c563e36a",
   "metadata": {
    "execution": {
     "iopub.execute_input": "2023-03-14T19:38:57.170729Z",
     "iopub.status.busy": "2023-03-14T19:38:57.170222Z",
     "iopub.status.idle": "2023-03-14T19:38:57.180033Z",
     "shell.execute_reply": "2023-03-14T19:38:57.178711Z"
    },
    "papermill": {
     "duration": 0.04911,
     "end_time": "2023-03-14T19:38:57.182411",
     "exception": false,
     "start_time": "2023-03-14T19:38:57.133301",
     "status": "completed"
    },
    "tags": []
   },
   "outputs": [
    {
     "data": {
      "text/plain": [
       "41535    2\n",
       "9671     0\n",
       "49629    2\n",
       "33657    3\n",
       "19316    1\n",
       "Name: label_num, dtype: int64"
      ]
     },
     "execution_count": 88,
     "metadata": {},
     "output_type": "execute_result"
    }
   ],
   "source": [
    "y_test[:5]"
   ]
  },
  {
   "cell_type": "code",
   "execution_count": 89,
   "id": "67bf8e0d",
   "metadata": {
    "execution": {
     "iopub.execute_input": "2023-03-14T19:38:57.256169Z",
     "iopub.status.busy": "2023-03-14T19:38:57.255639Z",
     "iopub.status.idle": "2023-03-14T19:38:57.263608Z",
     "shell.execute_reply": "2023-03-14T19:38:57.262388Z"
    },
    "papermill": {
     "duration": 0.047908,
     "end_time": "2023-03-14T19:38:57.266157",
     "exception": false,
     "start_time": "2023-03-14T19:38:57.218249",
     "status": "completed"
    },
    "tags": []
   },
   "outputs": [
    {
     "data": {
      "text/plain": [
       "array([2, 0, 2, 3, 1])"
      ]
     },
     "execution_count": 89,
     "metadata": {},
     "output_type": "execute_result"
    }
   ],
   "source": [
    "y_pred[:5]"
   ]
  },
  {
   "cell_type": "code",
   "execution_count": 90,
   "id": "dc0a7b87",
   "metadata": {
    "execution": {
     "iopub.execute_input": "2023-03-14T19:38:57.341284Z",
     "iopub.status.busy": "2023-03-14T19:38:57.340783Z",
     "iopub.status.idle": "2023-03-14T19:39:03.318298Z",
     "shell.execute_reply": "2023-03-14T19:39:03.316585Z"
    },
    "papermill": {
     "duration": 6.018768,
     "end_time": "2023-03-14T19:39:03.321115",
     "exception": false,
     "start_time": "2023-03-14T19:38:57.302347",
     "status": "completed"
    },
    "tags": []
   },
   "outputs": [
    {
     "name": "stdout",
     "output_type": "stream",
     "text": [
      "              precision    recall  f1-score   support\n",
      "\n",
      "           0       0.89      0.98      0.94      3863\n",
      "           1       0.97      0.92      0.95      2364\n",
      "           2       0.97      0.90      0.93      2124\n",
      "           3       0.98      0.93      0.95      1734\n",
      "\n",
      "    accuracy                           0.94     10085\n",
      "   macro avg       0.95      0.93      0.94     10085\n",
      "weighted avg       0.94      0.94      0.94     10085\n",
      "\n"
     ]
    }
   ],
   "source": [
    "# Attempt 2 :\n",
    "from sklearn.naive_bayes import MultinomialNB\n",
    "\n",
    "\n",
    "#1. create a pipeline object\n",
    "clf = Pipeline([\n",
    "     ('vectorizer_tfidf',TfidfVectorizer()),    \n",
    "     ('Multi NB', MultinomialNB())         \n",
    "])\n",
    "\n",
    "#2. fit with X_train and y_train\n",
    "clf.fit(X_train, y_train)\n",
    "\n",
    "\n",
    "#3. get the predictions for X_test and store it in y_pred\n",
    "y_pred = clf.predict(X_test)\n",
    "\n",
    "\n",
    "#4. print the classfication report\n",
    "print(classification_report(y_test, y_pred))"
   ]
  },
  {
   "cell_type": "code",
   "execution_count": 91,
   "id": "211f3b39",
   "metadata": {
    "execution": {
     "iopub.execute_input": "2023-03-14T19:39:03.396089Z",
     "iopub.status.busy": "2023-03-14T19:39:03.394569Z",
     "iopub.status.idle": "2023-03-14T19:41:02.834170Z",
     "shell.execute_reply": "2023-03-14T19:41:02.832700Z"
    },
    "papermill": {
     "duration": 119.515618,
     "end_time": "2023-03-14T19:41:02.872950",
     "exception": false,
     "start_time": "2023-03-14T19:39:03.357332",
     "status": "completed"
    },
    "tags": []
   },
   "outputs": [
    {
     "name": "stdout",
     "output_type": "stream",
     "text": [
      "              precision    recall  f1-score   support\n",
      "\n",
      "           0       0.95      0.98      0.97      3863\n",
      "           1       0.98      0.98      0.98      2364\n",
      "           2       0.98      0.94      0.96      2124\n",
      "           3       0.99      0.97      0.98      1734\n",
      "\n",
      "    accuracy                           0.97     10085\n",
      "   macro avg       0.97      0.97      0.97     10085\n",
      "weighted avg       0.97      0.97      0.97     10085\n",
      "\n"
     ]
    }
   ],
   "source": [
    "# Attempt 3 :\n",
    "# use Random Forest as the classifier.\n",
    "\n",
    "from sklearn.ensemble import RandomForestClassifier\n",
    "\n",
    "#1. create a pipeline object\n",
    "clf = Pipeline([\n",
    "     ('vectorizer_tfidf',TfidfVectorizer()),        #using the ngram_range parameter \n",
    "     ('Random Forest', RandomForestClassifier())         \n",
    "])\n",
    "\n",
    "#2. fit with X_train and y_train\n",
    "clf.fit(X_train, y_train)\n",
    "\n",
    "\n",
    "#3. get the predictions for X_test and store it in y_pred\n",
    "y_pred = clf.predict(X_test)\n",
    "\n",
    "\n",
    "#4. print the classfication report\n",
    "print(classification_report(y_test, y_pred))"
   ]
  },
  {
   "cell_type": "markdown",
   "id": "d9dada94",
   "metadata": {
    "papermill": {
     "duration": 0.035135,
     "end_time": "2023-03-14T19:41:02.943908",
     "exception": false,
     "start_time": "2023-03-14T19:41:02.908773",
     "status": "completed"
    },
    "tags": []
   },
   "source": [
    "## Use text pre-processing to remove stop words, punctuations and apply lemmatization"
   ]
  },
  {
   "cell_type": "code",
   "execution_count": 92,
   "id": "b559d5d7",
   "metadata": {
    "execution": {
     "iopub.execute_input": "2023-03-14T19:41:03.017968Z",
     "iopub.status.busy": "2023-03-14T19:41:03.017470Z",
     "iopub.status.idle": "2023-03-14T19:41:03.747096Z",
     "shell.execute_reply": "2023-03-14T19:41:03.745423Z"
    },
    "papermill": {
     "duration": 0.770682,
     "end_time": "2023-03-14T19:41:03.750256",
     "exception": false,
     "start_time": "2023-03-14T19:41:02.979574",
     "status": "completed"
    },
    "tags": []
   },
   "outputs": [],
   "source": [
    "### utlity function for pre-processing the text\n",
    "import spacy\n",
    "\n",
    "# load english language model and create nlp object from it\n",
    "nlp = spacy.load(\"en_core_web_sm\") \n",
    "\n",
    "def preprocess(text):\n",
    "    # remove stop words and lemmatize the text\n",
    "    doc = nlp(text)\n",
    "    filtered_tokens = []\n",
    "    for token in doc:\n",
    "        if token.is_stop or token.is_punct:\n",
    "            continue\n",
    "        filtered_tokens.append(token.lemma_)\n",
    "    \n",
    "    return \" \".join(filtered_tokens) "
   ]
  },
  {
   "cell_type": "code",
   "execution_count": 93,
   "id": "6f7b4ddb",
   "metadata": {
    "execution": {
     "iopub.execute_input": "2023-03-14T19:41:03.827999Z",
     "iopub.status.busy": "2023-03-14T19:41:03.827500Z",
     "iopub.status.idle": "2023-03-14T20:02:39.837492Z",
     "shell.execute_reply": "2023-03-14T20:02:39.835500Z"
    },
    "papermill": {
     "duration": 1296.053839,
     "end_time": "2023-03-14T20:02:39.842007",
     "exception": false,
     "start_time": "2023-03-14T19:41:03.788168",
     "status": "completed"
    },
    "tags": []
   },
   "outputs": [],
   "source": [
    "df['preprocessed_txt'] = df['Text'].apply(preprocess) "
   ]
  },
  {
   "cell_type": "code",
   "execution_count": 94,
   "id": "2632493a",
   "metadata": {
    "execution": {
     "iopub.execute_input": "2023-03-14T20:02:39.920106Z",
     "iopub.status.busy": "2023-03-14T20:02:39.919085Z",
     "iopub.status.idle": "2023-03-14T20:02:39.953291Z",
     "shell.execute_reply": "2023-03-14T20:02:39.951615Z"
    },
    "papermill": {
     "duration": 0.077614,
     "end_time": "2023-03-14T20:02:39.956883",
     "exception": false,
     "start_time": "2023-03-14T20:02:39.879269",
     "status": "completed"
    },
    "tags": []
   },
   "outputs": [],
   "source": [
    "X_train, X_test, y_train, y_test = train_test_split(\n",
    "    df.preprocessed_txt, \n",
    "    df.label_num,\n",
    "    test_size=0.2, # 20% samples will go to test dataset\n",
    "    random_state=2022,\n",
    "    stratify=df.label_num\n",
    ")"
   ]
  },
  {
   "cell_type": "code",
   "execution_count": 95,
   "id": "58a8849f",
   "metadata": {
    "execution": {
     "iopub.execute_input": "2023-03-14T20:02:40.036984Z",
     "iopub.status.busy": "2023-03-14T20:02:40.035815Z",
     "iopub.status.idle": "2023-03-14T20:04:21.612230Z",
     "shell.execute_reply": "2023-03-14T20:04:21.610813Z"
    },
    "papermill": {
     "duration": 101.663683,
     "end_time": "2023-03-14T20:04:21.659027",
     "exception": false,
     "start_time": "2023-03-14T20:02:39.995344",
     "status": "completed"
    },
    "tags": []
   },
   "outputs": [
    {
     "name": "stdout",
     "output_type": "stream",
     "text": [
      "              precision    recall  f1-score   support\n",
      "\n",
      "           0       0.96      0.98      0.97      3863\n",
      "           1       0.98      0.97      0.98      2364\n",
      "           2       0.98      0.95      0.96      2124\n",
      "           3       0.99      0.98      0.98      1734\n",
      "\n",
      "    accuracy                           0.97     10085\n",
      "   macro avg       0.98      0.97      0.97     10085\n",
      "weighted avg       0.97      0.97      0.97     10085\n",
      "\n"
     ]
    }
   ],
   "source": [
    "#1. create a pipeline object\n",
    "clf = Pipeline([\n",
    "     ('vectorizer_tfidf',TfidfVectorizer()),        #using the ngram_range parameter \n",
    "     ('Random Forest', RandomForestClassifier())         \n",
    "])\n",
    "\n",
    "#2. fit with X_train and y_train\n",
    "clf.fit(X_train, y_train)\n",
    "\n",
    "\n",
    "#3. get the predictions for X_test and store it in y_pred\n",
    "y_pred = clf.predict(X_test)\n",
    "\n",
    "\n",
    "#4. print the classfication report\n",
    "print(classification_report(y_test, y_pred))"
   ]
  },
  {
   "cell_type": "code",
   "execution_count": 96,
   "id": "e09d69b6",
   "metadata": {
    "execution": {
     "iopub.execute_input": "2023-03-14T20:04:21.739252Z",
     "iopub.status.busy": "2023-03-14T20:04:21.738426Z",
     "iopub.status.idle": "2023-03-14T20:04:21.750416Z",
     "shell.execute_reply": "2023-03-14T20:04:21.749255Z"
    },
    "papermill": {
     "duration": 0.057467,
     "end_time": "2023-03-14T20:04:21.753444",
     "exception": false,
     "start_time": "2023-03-14T20:04:21.695977",
     "status": "completed"
    },
    "tags": []
   },
   "outputs": [
    {
     "data": {
      "text/plain": [
       "array([[3793,   25,   29,   16],\n",
       "       [  45, 2303,   10,    6],\n",
       "       [  89,   13, 2019,    3],\n",
       "       [  26,    9,    6, 1693]])"
      ]
     },
     "execution_count": 96,
     "metadata": {},
     "output_type": "execute_result"
    }
   ],
   "source": [
    "from sklearn.metrics import confusion_matrix\n",
    "cm = confusion_matrix(y_test, y_pred)\n",
    "cm"
   ]
  },
  {
   "cell_type": "code",
   "execution_count": 97,
   "id": "57a1619e",
   "metadata": {
    "execution": {
     "iopub.execute_input": "2023-03-14T20:04:21.834335Z",
     "iopub.status.busy": "2023-03-14T20:04:21.833635Z",
     "iopub.status.idle": "2023-03-14T20:04:22.224728Z",
     "shell.execute_reply": "2023-03-14T20:04:22.223215Z"
    },
    "papermill": {
     "duration": 0.431995,
     "end_time": "2023-03-14T20:04:22.227651",
     "exception": false,
     "start_time": "2023-03-14T20:04:21.795656",
     "status": "completed"
    },
    "tags": []
   },
   "outputs": [
    {
     "data": {
      "text/plain": [
       "Text(95.72222222222221, 0.5, 'Truth')"
      ]
     },
     "execution_count": 97,
     "metadata": {},
     "output_type": "execute_result"
    },
    {
     "data": {
      "image/png": "[encoded data removed]",
      "text/plain": [
       "<Figure size 1000x700 with 2 Axes>"
      ]
     },
     "metadata": {},
     "output_type": "display_data"
    }
   ],
   "source": [
    "from matplotlib import pyplot as plt\n",
    "import seaborn as sns\n",
    "plt.figure(figsize = (10,7))\n",
    "sns.heatmap(cm, annot=True, fmt='d')\n",
    "plt.xlabel('Prediction')\n",
    "plt.ylabel('Truth')"
   ]
  }
 ],
 "metadata": {
  "kernelspec": {
   "display_name": "Python 3",
   "language": "python",
   "name": "python3"
  },
  "language_info": {
   "codemirror_mode": {
    "name": "ipython",
    "version": 3
   },
   "file_extension": ".py",
   "mimetype": "text/x-python",
   "name": "python",
   "nbconvert_exporter": "python",
   "pygments_lexer": "ipython3",
   "version": "3.7.12"
  },
  "papermill": {
   "default_parameters": {},
   "duration": 2018.297785,
   "end_time": "2023-03-14T20:04:25.057625",
   "environment_variables": {},
   "exception": null,
   "input_path": "__notebook__.ipynb",
   "output_path": "__notebook__.ipynb",
   "parameters": {},
   "start_time": "2023-03-14T19:30:46.759840",
   "version": "2.4.0"
  }
 },
 "nbformat": 4,
 "nbformat_minor": 5
}
